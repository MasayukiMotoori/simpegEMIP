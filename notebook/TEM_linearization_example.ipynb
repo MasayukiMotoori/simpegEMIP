{
 "cells": [
  {
   "cell_type": "code",
   "execution_count": 1,
   "metadata": {
    "collapsed": true
   },
   "outputs": [],
   "source": [
    "from SimPEG import *\n",
    "from SimPEG import EM\n",
    "from scipy.constants import mu_0\n",
    "import numpy as np\n",
    "import scipy.sparse as sp\n",
    "from simpegEMIP.StretchedExponential import SEInvImpulseProblem, SESurvey\n",
    "import matplotlib.pyplot as plt\n",
    "from pymatsolver import PardisoSolver\n",
    "from simpegem1d import DigFilter\n",
    "%matplotlib inline\n",
    "import matplotlib \n",
    "matplotlib.rcParams[\"font.size\"] = 14"
   ]
  },
  {
   "cell_type": "code",
   "execution_count": 2,
   "metadata": {
    "collapsed": true
   },
   "outputs": [],
   "source": [
    "# eta, tau, c = 0.1, 0.01, 0.5\n",
    "cs, ncx, ncz, npad = 10., 25, 20, 18\n",
    "hx = [(cs,ncx), (cs,npad,1.3)]\n",
    "hz = [(cs,npad,-1.3), (cs,ncz), (cs,npad,1.3)]\n",
    "mesh = Mesh.CylMesh([hx,1,hz], '00C')    \n",
    "sigmaInf = np.ones(mesh.nC) * 0.001\n",
    "airind = mesh.gridCC[:,2]>0.\n",
    "actinds = ~airind\n",
    "# layerind = np.logical_and(mesh.gridCC[:,2]<-50, mesh.gridCC[:,2]>-100.)\n",
    "layerind = (np.logical_and(mesh.gridCC[:,2]<-50, mesh.gridCC[:,2]>-100.)) & (mesh.gridCC[:,0]<100.)\n",
    "sigmaInf[airind] = 1e-8\n",
    "sigmaInf[layerind] = 0.01\n",
    "eta = np.zeros(mesh.nC)\n",
    "eta[layerind] = 0.5\n",
    "tau = np.ones(mesh.nC) * 0.005\n",
    "c = np.ones(mesh.nC) * 0.5\n",
    "\n",
    "actmapeta = Maps.InjectActiveCells(mesh, actinds, 0.)\n",
    "actmaptau = Maps.InjectActiveCells(mesh, actinds, 0.005)\n",
    "actmapc = Maps.InjectActiveCells(mesh, actinds, 0.5)\n",
    "\n",
    "wires = Maps.Wires(('eta', actmapeta.nP), ('tau', actmapeta.nP), ('c', actmapeta.nP))\n",
    "\n",
    "taumap = actmaptau*wires.tau\n",
    "etamap = actmapeta*wires.eta\n",
    "cmap = actmapc*wires.c\n",
    "\n",
    "m = np.r_[eta[actinds], tau[actinds], c[actinds]]"
   ]
  },
  {
   "cell_type": "code",
   "execution_count": 14,
   "metadata": {
    "collapsed": true
   },
   "outputs": [],
   "source": [
    "rxloc = np.array([[0., 0., 30.]])\n",
    "srcloc = np.array([[0., 0., 30.]])\n",
    "dt = 1.47e-3\n",
    "rx_ramp = EM.TDEM.Rx.Point_dbdt(rxloc, np.logspace(np.log10(2e-5), np.log10(0.009), 51)+dt, 'z')\n",
    "src_ramp = EM.TDEM.Src.CircularLoop([rx_ramp], waveform=EM.TDEM.Src.RampOffWaveform(offTime=dt), loc=srcloc)\n",
    "survey_ramp = EM.TDEM.Survey([src_ramp])\n",
    "prb_em_ramp = EM.TDEM.Problem3D_e(mesh, sigmaMap=Maps.IdentityMap(mesh))\n",
    "# prb_em_ramp.verbose = True\n",
    "prb_em_ramp.timeSteps = [(dt/10, 10), (1e-06, 5), (2.5e-06, 5), (5e-06, 5), (1e-05, 10), (2e-05, 10), (4e-05, 10), (8e-05, 10), (1.6e-04, 10), (3.2e-04, 20)]\n",
    "prb_em_ramp.Solver = PardisoSolver\n",
    "prb_em_ramp.pair(survey_ramp)\n",
    "# m = np.r_[sigmaInf, etavec, np.log(tauvec), cvec]\n",
    "F_ramp = prb_em_ramp.fields(sigmaInf)\n",
    "data_ramp = survey_ramp.dpred(sigmaInf, f=F_ramp)\n",
    "cur = []\n",
    "for t in prb_em_ramp.times:\n",
    "    cur.append(src_ramp.waveform.eval(t))\n",
    "cur = np.hstack(cur)"
   ]
  },
  {
   "cell_type": "code",
   "execution_count": 15,
   "metadata": {
    "collapsed": true
   },
   "outputs": [],
   "source": [
    "rxloc = np.array([[0., 0., 30.]])\n",
    "srcloc = np.array([[0., 0., 30.]])\n",
    "tpeak = 2.73e-3\n",
    "# t0 = 4.2e-3\n",
    "t0 = tpeak + dt\n",
    "rx_vtem = EM.TDEM.Rx.Point_dbdt(rxloc, np.logspace(np.log10(2e-5), np.log10(0.009), 51)+t0, orientation='z')\n",
    "src_vtem = EM.TDEM.Src.CircularLoop([rx_vtem], waveform=EM.TDEM.Src.VTEMWaveform(offTime=t0, peakTime=tpeak, a=3.), loc=srcloc)\n",
    "survey_vtem = EM.TDEM.Survey([src_vtem])\n",
    "prb_em_vtem = EM.TDEM.Problem3D_e(mesh, sigmaMap=Maps.IdentityMap(mesh))\n",
    "# prb_em_vtem.verbose = True\n",
    "prb_em_vtem.timeSteps = [(tpeak/10, 10), ((t0-tpeak)/10, 10), (1e-06, 5), (2.5e-06, 5), (5e-06, 5), (1e-05, 10), (2e-05, 10), (4e-05, 10), (8e-05, 10), (1.6e-04, 10), (3.2e-04, 20)]\n",
    "prb_em_vtem.Solver = PardisoSolver\n",
    "prb_em_vtem.pair(survey_vtem)\n",
    "F_vtem = prb_em_vtem.fields(sigmaInf)\n",
    "data_vtem = survey_vtem.dpred(sigmaInf, f=F_vtem)\n",
    "cur = []\n",
    "for t in prb_em_vtem.times:\n",
    "    cur.append(src_vtem.waveform.eval(t))\n",
    "cur = np.hstack(cur)"
   ]
  },
  {
   "cell_type": "code",
   "execution_count": 16,
   "metadata": {
    "collapsed": true
   },
   "outputs": [],
   "source": [
    "from simpegEMIP.TDEM import geteref, Problem3D_Inductive, Survey"
   ]
  },
  {
   "cell_type": "code",
   "execution_count": 17,
   "metadata": {
    "collapsed": true
   },
   "outputs": [],
   "source": [
    "eref_ramp = geteref(F_ramp[src_ramp, 'eSolution', :], mesh, option=None, tInd=10) \n",
    "eref_vtem = geteref(F_vtem[src_vtem, 'eSolution', :], mesh, option=None, tInd=20) "
   ]
  },
  {
   "cell_type": "code",
   "execution_count": 18,
   "metadata": {},
   "outputs": [
    {
     "name": "stdout",
     "output_type": "stream",
     "text": [
      ">> Compute Sensitivity matrix\n",
      "\r",
      " 0 / 1"
     ]
    }
   ],
   "source": [
    "rxloc = np.array([[0., 0., 30.]])\n",
    "srcloc = np.array([[0., 0., 30.]])\n",
    "rx_ip_ramp = EM.TDEM.Rx.Point_dbdt(rxloc, np.logspace(np.log10(2e-5), np.log10(0.009), 51), 'z')\n",
    "src_ip_ramp = EM.TDEM.Src.CircularLoop([rx_ip_ramp], waveform=EM.TDEM.Src.RampOffWaveform(offTime=0.), loc=srcloc)\n",
    "dt = 1.47e-3\n",
    "survey_ip_ramp = Survey([src_ip_ramp])\n",
    "prb_ip_ramp = Problem3D_Inductive(\n",
    "    mesh, \n",
    "    sigmaInf=sigmaInf, \n",
    "    etaMap=etamap, \n",
    "    tauMap=taumap, \n",
    "    cMap=cmap, \n",
    "    actinds = ~airind,\n",
    "    tlags = [0., dt]\n",
    ")\n",
    "prb_ip_ramp.Solver = PardisoSolver\n",
    "prb_ip_ramp.pair(survey_ip_ramp)\n",
    "prb_ip_ramp.set_eref(eref_ramp)\n",
    "ip_ramp_approx = survey_ip_ramp.dpred(m)"
   ]
  },
  {
   "cell_type": "code",
   "execution_count": 19,
   "metadata": {},
   "outputs": [
    {
     "name": "stdout",
     "output_type": "stream",
     "text": [
      ">> Compute Sensitivity matrix\n",
      "\r",
      " 0 / 1"
     ]
    }
   ],
   "source": [
    "rxloc = np.array([[0., 0., 30.]])\n",
    "srcloc = np.array([[0., 0., 30.]])\n",
    "rx_ip_vtem = EM.TDEM.Rx.Point_dbdt(rxloc, np.logspace(np.log10(2e-5), np.log10(0.009), 51), 'z')\n",
    "src_ip_vtem = EM.TDEM.Src.CircularLoop([rx_ip_vtem], waveform=EM.TDEM.Src.RampOffWaveform(offTime=0.), loc=srcloc)\n",
    "dt = 1.47e-3\n",
    "survey_ip_vtem = Survey([src_ip_vtem])\n",
    "t1, t2, t3 = dt, t0-0.001365, t0\n",
    "prb_ip_vtem = Problem3D_Inductive(\n",
    "    mesh, \n",
    "    sigmaInf=sigmaInf, \n",
    "    etaMap=etamap, \n",
    "    tauMap=taumap, \n",
    "    cMap=cmap, \n",
    "    actinds = ~airind,\n",
    "    tlags = [0., t1, t2, t3]\n",
    ")\n",
    "prb_ip_vtem.Solver = PardisoSolver\n",
    "prb_ip_vtem.pair(survey_ip_vtem)\n",
    "prb_ip_vtem.set_eref(eref_vtem)\n",
    "ip_vtem_approx = survey_ip_vtem.dpred(m)"
   ]
  },
  {
   "cell_type": "code",
   "execution_count": 20,
   "metadata": {
    "collapsed": true
   },
   "outputs": [],
   "source": [
    "data = np.load(\"data.npy\")\n",
    "data_ramp = np.load(\"data_ramp.npy\")\n",
    "data_vtem = np.load(\"data_vtem.npy\")\n",
    "\n",
    "data_em = np.load(\"dataem.npy\")\n",
    "data_em_ramp = np.load(\"dataem_ramp.npy\")\n",
    "data_em_vtem = np.load(\"dataem_vtem.npy\")\n",
    "ip = data - data_em\n",
    "ip_ramp = data_ramp - data_em_ramp\n",
    "ip_vtem = data_vtem - data_em_vtem"
   ]
  },
  {
   "cell_type": "code",
   "execution_count": 21,
   "metadata": {
    "collapsed": true
   },
   "outputs": [],
   "source": [
    "data_ramp_approx = data_em_ramp + ip_ramp_approx\n",
    "data_vtem_approx = data_em_vtem + ip_vtem_approx"
   ]
  },
  {
   "cell_type": "code",
   "execution_count": 22,
   "metadata": {
    "collapsed": true
   },
   "outputs": [],
   "source": [
    "# J = np.load(\"J.npy\")"
   ]
  },
  {
   "cell_type": "code",
   "execution_count": 23,
   "metadata": {
    "collapsed": true
   },
   "outputs": [],
   "source": [
    "# plt.semilogy(abs(J[actinds]))\n",
    "# plt.semilogy(abs(prb_ip_ramp.J.flatten())[actinds], '.')"
   ]
  },
  {
   "cell_type": "code",
   "execution_count": 24,
   "metadata": {
    "collapsed": true
   },
   "outputs": [],
   "source": [
    "# plt.loglog(rx_ip_ramp.times, -data_ramp, 'k')\n",
    "# plt.loglog(rx_ip_ramp.times, data_ramp, '--k')\n",
    "# plt.loglog(rx_ip_ramp.times, -data_em_ramp, 'b-')\n",
    "# plt.loglog(rx_ip_ramp.times, ip_ramp, 'r-')\n",
    "# plt.plot(rx_ip_ramp.times, ip_ramp_approx, 'r.')"
   ]
  },
  {
   "cell_type": "code",
   "execution_count": 25,
   "metadata": {},
   "outputs": [
    {
     "data": {
      "text/plain": [
       "[<matplotlib.lines.Line2D at 0x122f67150>]"
      ]
     },
     "execution_count": 25,
     "metadata": {},
     "output_type": "execute_result"
    },
    {
     "data": {
      "image/png": "[encoded data removed]",
      "text/plain": [
       "<matplotlib.figure.Figure at 0x11a04d910>"
      ]
     },
     "metadata": {},
     "output_type": "display_data"
    }
   ],
   "source": [
    "plt.loglog(rx_ip_ramp.times, -data_ramp, 'k')\n",
    "plt.loglog(rx_ip_ramp.times, data_ramp, '--k')\n",
    "plt.loglog(rx_ip_ramp.times, -data_ramp_approx, 'bo')\n",
    "plt.loglog(rx_ip_ramp.times, data_ramp_approx, 'b.')\n",
    "\n",
    "plt.loglog(rx_ip_ramp.times, -data_vtem, 'k')\n",
    "plt.loglog(rx_ip_ramp.times, data_vtem, '--k')\n",
    "plt.loglog(rx_ip_ramp.times, -data_vtem_approx, 'bo')\n",
    "plt.loglog(rx_ip_ramp.times, data_vtem_approx, 'b.')\n"
   ]
  },
  {
   "cell_type": "code",
   "execution_count": null,
   "metadata": {
    "collapsed": true
   },
   "outputs": [],
   "source": []
  },
  {
   "cell_type": "code",
   "execution_count": null,
   "metadata": {
    "collapsed": true
   },
   "outputs": [],
   "source": []
  }
 ],
 "metadata": {
  "anaconda-cloud": {},
  "kernelspec": {
   "display_name": "Python [default]",
   "language": "python",
   "name": "python2"
  },
  "language_info": {
   "codemirror_mode": {
    "name": "ipython",
    "version": 2
   },
   "file_extension": ".py",
   "mimetype": "text/x-python",
   "name": "python",
   "nbconvert_exporter": "python",
   "pygments_lexer": "ipython2",
   "version": "2.7.13"
  }
 },
 "nbformat": 4,
 "nbformat_minor": 1
}
