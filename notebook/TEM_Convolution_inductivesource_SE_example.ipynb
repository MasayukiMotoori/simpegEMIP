{
 "cells": [
  {
   "cell_type": "code",
   "execution_count": 1,
   "metadata": {
    "collapsed": false
   },
   "outputs": [],
   "source": [
    "from SimPEG import *\n",
    "from SimPEG import EM\n",
    "from scipy.constants import mu_0\n",
    "import numpy as np\n",
    "import scipy.sparse as sp\n",
    "from simpegEMIP.StretchedExponential import SEInvImpulseProblem, SESurvey\n",
    "import matplotlib.pyplot as plt\n",
    "from pymatsolver import PardisoSolver\n",
    "from simpegem1d import DigFilter\n",
    "%matplotlib inline\n",
    "import matplotlib \n",
    "matplotlib.rcParams[\"font.size\"] = 14\n",
    "\n",
    "def ColeColePelton(f, sigmaInf, eta, tau, c):\n",
    "    w = 2*np.pi*f\n",
    "    return sigmaInf*(1 - eta/(1 + (1-eta)*(1j*w*tau)**c))\n",
    "\n",
    "def ColeColeSeigel(f, sigmaInf, eta, tau, c):\n",
    "    w = 2*np.pi*f\n",
    "    return sigmaInf*(1 - eta/(1 + (1j*w*tau)**c))\n",
    "time = np.logspace(-6,np.log10(0.01), 41)\n",
    "# plt.loglog(time, true, 'k', lw=1)\n",
    "# plt.loglog(time, approx, 'r.')\n",
    "# time = np.logspace(-3,np.log10(4), 41)\n",
    "wt, tbase, omega_int = DigFilter.setFrequency(time)\n",
    "frequency = omega_int / (2*np.pi)\n",
    "siginf, eta0, tau0, c0 = 1., 0.8, 0.003, 0.5\n",
    "sigma = ColeColeSeigel(frequency, siginf, eta0, tau0, c0)\n",
    "sigTCole = DigFilter.transFiltImpulse(sigma, wt, tbase, omega_int, time, tol=1e-12)"
   ]
  },
  {
   "cell_type": "code",
   "execution_count": 2,
   "metadata": {
    "collapsed": false
   },
   "outputs": [],
   "source": [
    "wires = Maps.Wires(('eta', 1), ('tau', 1), ('c', 1))\n",
    "taumap = Maps.ExpMap(nP=1)*wires.tau\n",
    "survey = SESurvey()\n",
    "dtrue = -sigTCole\n",
    "survey.dobs = dtrue\n",
    "m1D = Mesh.TensorMesh([np.ones(3)])\n",
    "prob = SEInvImpulseProblem(m1D, etaMap = wires.eta, tauMap = taumap, cMap=wires.c)\n",
    "prob.time = time\n",
    "prob.pair(survey)\n",
    "m0 = np.r_[eta0, np.log(tau0), c0]"
   ]
  },
  {
   "cell_type": "code",
   "execution_count": 3,
   "metadata": {
    "collapsed": false
   },
   "outputs": [
    {
     "name": "stdout",
     "output_type": "stream",
     "text": [
      "SimPEG.InvProblem is setting bfgsH0 to the inverse of the eval2Deriv.\n",
      "                    ***Done using same Solver and solverOpts as the problem***\n",
      "model has any nan: 0\n",
      "=============================== Projected GNCG ===============================\n",
      "  #     beta     phi_d     phi_m       f      |proj(x-g)-x|  LS    Comment   \n",
      "-----------------------------------------------------------------------------\n",
      "x0 has any nan: 0\n",
      "   0  1.00e+00  6.71e+03  1.73e+01  6.72e+03    1.49e+05      0              \n",
      "   1  1.00e+00  7.45e+02  1.72e+01  7.62e+02    3.71e+03      0              \n",
      "   2  1.00e+00  1.93e+02  1.95e+01  2.13e+02    6.52e+03      0   Skip BFGS  \n",
      "   3  1.00e+00  1.79e+02  1.95e+01  1.99e+02    6.59e+02      0              \n",
      "   4  1.00e+00  1.65e+02  1.92e+01  1.85e+02    2.45e+02      0              \n",
      "   5  1.00e+00  1.65e+02  1.92e+01  1.84e+02    1.26e+00      0   Skip BFGS  \n",
      "------------------------- STOP! -------------------------\n",
      "0 : |fc-fOld| = 3.6541e-02 <= tolF*(1+|f0|) = 6.7254e-17\n",
      "0 : |xc-x_last| = 1.8515e-03 <= tolX*(1+|x0|) = 6.8852e-20\n",
      "0 : |proj(x-g)-x|    = 1.2626e+00 <= tolG          = 1.0000e-20\n",
      "0 : |proj(x-g)-x|    = 1.2626e+00 <= 1e3*eps       = 1.0000e-17\n",
      "1 : maxIter   =       5    <= iter          =      5\n",
      "------------------------- DONE! -------------------------\n"
     ]
    }
   ],
   "source": [
    "perc = 0.01\n",
    "dmisfitpeta = DataMisfit.l2_DataMisfit(survey)\n",
    "dmisfitpeta.Wd = 1/(abs(survey.dobs)*perc)\n",
    "reg = Regularization.BaseRegularization(m1D)\n",
    "opt = Optimization.ProjectedGNCG(maxIter = 5)\n",
    "invProb = InvProblem.BaseInvProblem(dmisfitpeta, reg, opt)\n",
    "# Create an inversion object\n",
    "target = Directives.TargetMisfit()\n",
    "betaSch = Directives.BetaSchedule(coolingFactor=1, coolingRate=1)\n",
    "# invProb.beta = 0.\n",
    "inv = Inversion.BaseInversion(invProb, directiveList=[betaSch, target])\n",
    "reg.mref = 0.*m0\n",
    "prob.counter = opt.counter = Utils.Counter()\n",
    "opt.LSshorten = 0.5\n",
    "opt.remember('xc')\n",
    "opt.tolX = 1e-20\n",
    "opt.tolF = 1e-20\n",
    "opt.tolG = 1e-20\n",
    "opt.eps = 1e-20\n",
    "# opt.lower = 0.\n",
    "mopt = inv.run(m0)"
   ]
  },
  {
   "cell_type": "code",
   "execution_count": 4,
   "metadata": {
    "collapsed": true
   },
   "outputs": [],
   "source": [
    "def ColeSEImpulse(time, eta, tau, c):    \n",
    "    return eta*c/time*((time/tau)**c)*np.exp(-(time/tau)**c)\n",
    "def ColeSEImpulseApprox(time, eta, tau, c):    \n",
    "    m = eta*c/(tau**c)    \n",
    "    peta = m*time**(c-1.) * (1. - (time/tau)**c )  \n",
    "    return peta"
   ]
  },
  {
   "cell_type": "code",
   "execution_count": 5,
   "metadata": {
    "collapsed": false
   },
   "outputs": [
    {
     "name": "stdout",
     "output_type": "stream",
     "text": [
      "True      eta, tau and c = 8e-01, 3e-03 and 0.5\n",
      "Initial   eta, tau and c = 8e-01, 3e-03 and 0.5\n",
      "Estimated eta, tau and c = 7e-01, 2e-03 and 0.5\n"
     ]
    },
    {
     "data": {
      "image/png": "[encoded data removed]",
      "text/plain": [
       "<matplotlib.figure.Figure at 0x10b79b5d0>"
      ]
     },
     "metadata": {},
     "output_type": "display_data"
    }
   ],
   "source": [
    "nskip=1\n",
    "fig = plt.figure()\n",
    "plt.loglog(prob.time, survey.dobs, 'k', lw=1)\n",
    "plt.loglog(prob.time, invProb.dpred, 'ko', alpha = 0.5)\n",
    "vmin, vmax = survey.dobs.min(), survey.dobs.max()\n",
    "plt.ylim(vmin, vmax)\n",
    "# legend((\"pred\", \"obs\"))\n",
    "print (\"True      eta, tau and c = %.e, %.e and %3.1f\")%(eta0, tau0, c0)\n",
    "print (\"Initial   eta, tau and c = %.e, %.e and %3.1f\")%(eta0, tau0, c0)\n",
    "print (\"Estimated eta, tau and c = %.e, %.e and %3.1f\")%(mopt[0], np.exp(mopt[1]), mopt[2])\n",
    "\n",
    "plt.xlabel(\"Time (s)\")\n",
    "plt.ylabel(\"$\\\\tilde {\\eta}^I (t)$\")\n",
    "plt.legend((\"Cole-Cole\", \"Stretched Exp.\"), fontsize = 12)\n",
    "plt.grid(True)\n",
    "# fig.savefig(\"\")"
   ]
  },
  {
   "cell_type": "code",
   "execution_count": 6,
   "metadata": {
    "collapsed": false
   },
   "outputs": [
    {
     "data": {
      "text/plain": [
       "[<matplotlib.lines.Line2D at 0x1057abe50>]"
      ]
     },
     "execution_count": 6,
     "metadata": {},
     "output_type": "execute_result"
    },
    {
     "data": {
      "image/png": "[encoded data removed]",
      "text/plain": [
       "<matplotlib.figure.Figure at 0x1057abed0>"
      ]
     },
     "metadata": {},
     "output_type": "display_data"
    }
   ],
   "source": [
    "plt.semilogx(prob.time, ColeSEImpulseApprox(prob.time, mopt[0], np.exp(mopt[1]), mopt[2]), 'b-')\n",
    "plt.semilogx(prob.time, ColeSEImpulse(prob.time, mopt[0], np.exp(mopt[1]), mopt[2]), 'b.')"
   ]
  },
  {
   "cell_type": "code",
   "execution_count": 7,
   "metadata": {
    "collapsed": true
   },
   "outputs": [],
   "source": [
    "eta, tau, c = mopt[0], np.exp(mopt[1]), mopt[2]"
   ]
  },
  {
   "cell_type": "code",
   "execution_count": 8,
   "metadata": {
    "collapsed": false
   },
   "outputs": [],
   "source": [
    "cs, ncx, ncz, npad = 5., 25, 20, 18\n",
    "hx = [(cs,ncx), (cs,npad,1.3)]\n",
    "hz = [(cs,npad,-1.3), (cs,ncz), (cs,npad,1.3)]\n",
    "mesh = Mesh.CylMesh([hx,1,hz], '00C')    \n",
    "sigmaInf = np.ones(mesh.nC) * 0.01\n",
    "airind = mesh.gridCC[:,2]>0.\n",
    "sigmaInf[airind] = 1e-8\n",
    "etavec = np.ones(mesh.nC) * eta \n",
    "etavec[airind] = 0.\n",
    "tauvec = np.ones(mesh.nC) * tau\n",
    "cvec = np.ones(mesh.nC) * c\n",
    "wiresEM = Maps.Wires(('sigmaInf', mesh.nC), ('eta', mesh.nC), ('tau', mesh.nC), ('c', mesh.nC))\n",
    "tauvecmap = Maps.ExpMap(nP=mesh.nC) * wiresEM.tau"
   ]
  },
  {
   "cell_type": "code",
   "execution_count": 9,
   "metadata": {
    "collapsed": true
   },
   "outputs": [],
   "source": [
    "rxloc = np.array([[50.5, 0., 0.]])\n",
    "srcloc = np.array([[0., 0., 0.]])"
   ]
  },
  {
   "cell_type": "code",
   "execution_count": 10,
   "metadata": {
    "collapsed": false
   },
   "outputs": [],
   "source": [
    "from simpegEMIP.TDEM import Problem3D_e, BaseTDEMIPProblem\n",
    "from simpegEMIP.Base import BaseEMIPProblem"
   ]
  },
  {
   "cell_type": "code",
   "execution_count": 11,
   "metadata": {
    "collapsed": false
   },
   "outputs": [],
   "source": [
    "rx = EM.TDEM.Rx.Point_dbdt(rxloc, np.logspace(np.log10(2e-5), np.log10(0.009), 51), 'z')\n",
    "src = EM.TDEM.Src.MagDipole([rx], waveform=EM.TDEM.Src.StepOffWaveform(), loc=srcloc)\n",
    "survey = EM.TDEM.Survey([src])\n",
    "prb_em = Problem3D_e(mesh, sigmaInfMap=wiresEM.sigmaInf, etaMap=wiresEM.eta, tauMap=tauvecmap, cMap=wiresEM.c)\n",
    "prb_em.verbose = True\n",
    "prb_em.timeSteps = [(1e-06, 5), (2.5e-06, 5), (5e-06, 5), (1e-05, 10), (2e-05, 10), (4e-05, 10), (8e-05, 10), (1.6e-04, 10), (3.2e-04, 20)]\n",
    "# prb_em.timeSteps = [(1e-06, 5), (5e-06, 10), (1e-05, 10), (5e-05, 10), (1e-04, 10), (5e-04, 10), (1e-03, 10)]\n",
    "prb_em.Solver = PardisoSolver\n",
    "prb_em.pair(survey)\n",
    "m = np.r_[sigmaInf, etavec, np.log(tauvec), cvec]"
   ]
  },
  {
   "cell_type": "code",
   "execution_count": 12,
   "metadata": {
    "collapsed": false,
    "scrolled": false
   },
   "outputs": [
    {
     "name": "stdout",
     "output_type": "stream",
     "text": [
      "Calculating Initial fields\n",
      "**************************************************\n",
      "Calculating fields(m)\n",
      "**************************************************\n",
      "Factoring...   (dt = 1.000000e-06)\n",
      "Done\n",
      "    Solving...   (tInd = 1)\n",
      "    Done...\n",
      "    Solving...   (tInd = 2)\n",
      "    Done...\n",
      "    Solving...   (tInd = 3)\n",
      "    Done...\n",
      "    Solving...   (tInd = 4)\n",
      "    Done...\n",
      "    Solving...   (tInd = 5)\n",
      "    Done...\n",
      "Factoring...   (dt = 2.500000e-06)\n",
      "Done\n",
      "    Solving...   (tInd = 6)\n",
      "    Done...\n",
      "    Solving...   (tInd = 7)\n",
      "    Done...\n",
      "    Solving...   (tInd = 8)\n",
      "    Done...\n",
      "    Solving...   (tInd = 9)\n",
      "    Done...\n",
      "    Solving...   (tInd = 10)\n",
      "    Done...\n",
      "Factoring...   (dt = 5.000000e-06)\n",
      "Done\n",
      "    Solving...   (tInd = 11)\n",
      "    Done...\n",
      "    Solving...   (tInd = 12)\n",
      "    Done...\n",
      "    Solving...   (tInd = 13)\n",
      "    Done...\n",
      "    Solving...   (tInd = 14)\n",
      "    Done...\n",
      "    Solving...   (tInd = 15)\n",
      "    Done...\n",
      "Factoring...   (dt = 1.000000e-05)\n",
      "Done\n",
      "    Solving...   (tInd = 16)\n",
      "    Done...\n",
      "    Solving...   (tInd = 17)\n",
      "    Done...\n",
      "    Solving...   (tInd = 18)\n",
      "    Done...\n",
      "    Solving...   (tInd = 19)\n",
      "    Done...\n",
      "    Solving...   (tInd = 20)\n",
      "    Done...\n",
      "    Solving...   (tInd = 21)\n",
      "    Done...\n",
      "    Solving...   (tInd = 22)\n",
      "    Done...\n",
      "    Solving...   (tInd = 23)\n",
      "    Done...\n",
      "    Solving...   (tInd = 24)\n",
      "    Done...\n",
      "    Solving...   (tInd = 25)\n",
      "    Done...\n",
      "Factoring...   (dt = 2.000000e-05)\n",
      "Done\n",
      "    Solving...   (tInd = 26)\n",
      "    Done...\n",
      "    Solving...   (tInd = 27)\n",
      "    Done...\n",
      "    Solving...   (tInd = 28)\n",
      "    Done...\n",
      "    Solving...   (tInd = 29)\n",
      "    Done...\n",
      "    Solving...   (tInd = 30)\n",
      "    Done...\n",
      "    Solving...   (tInd = 31)\n",
      "    Done...\n",
      "    Solving...   (tInd = 32)\n",
      "    Done...\n",
      "    Solving...   (tInd = 33)\n",
      "    Done...\n",
      "    Solving...   (tInd = 34)\n",
      "    Done...\n",
      "    Solving...   (tInd = 35)\n",
      "    Done...\n",
      "Factoring...   (dt = 4.000000e-05)\n",
      "Done\n",
      "    Solving...   (tInd = 36)\n",
      "    Done...\n",
      "    Solving...   (tInd = 37)\n",
      "    Done...\n",
      "    Solving...   (tInd = 38)\n",
      "    Done...\n",
      "    Solving...   (tInd = 39)\n",
      "    Done...\n",
      "    Solving...   (tInd = 40)\n",
      "    Done...\n",
      "    Solving...   (tInd = 41)\n",
      "    Done...\n",
      "    Solving...   (tInd = 42)\n",
      "    Done...\n",
      "    Solving...   (tInd = 43)\n",
      "    Done...\n",
      "    Solving...   (tInd = 44)\n",
      "    Done...\n",
      "    Solving...   (tInd = 45)\n",
      "    Done...\n",
      "Factoring...   (dt = 8.000000e-05)\n",
      "Done\n",
      "    Solving...   (tInd = 46)\n",
      "    Done...\n",
      "    Solving...   (tInd = 47)\n",
      "    Done...\n",
      "    Solving...   (tInd = 48)\n",
      "    Done...\n",
      "    Solving...   (tInd = 49)\n",
      "    Done...\n",
      "    Solving...   (tInd = 50)\n",
      "    Done...\n",
      "    Solving...   (tInd = 51)\n",
      "    Done...\n",
      "    Solving...   (tInd = 52)\n",
      "    Done...\n",
      "    Solving...   (tInd = 53)\n",
      "    Done...\n",
      "    Solving...   (tInd = 54)\n",
      "    Done...\n",
      "    Solving...   (tInd = 55)\n",
      "    Done...\n",
      "Factoring...   (dt = 1.600000e-04)\n",
      "Done\n",
      "    Solving...   (tInd = 56)\n",
      "    Done...\n",
      "    Solving...   (tInd = 57)\n",
      "    Done...\n",
      "    Solving...   (tInd = 58)\n",
      "    Done...\n",
      "    Solving...   (tInd = 59)\n",
      "    Done...\n",
      "    Solving...   (tInd = 60)\n",
      "    Done...\n",
      "    Solving...   (tInd = 61)\n",
      "    Done...\n",
      "    Solving...   (tInd = 62)\n",
      "    Done...\n",
      "    Solving...   (tInd = 63)\n",
      "    Done...\n",
      "    Solving...   (tInd = 64)\n",
      "    Done...\n",
      "    Solving...   (tInd = 65)\n",
      "    Done...\n",
      "Factoring...   (dt = 3.200000e-04)\n",
      "Done\n",
      "    Solving...   (tInd = 66)\n",
      "    Done...\n",
      "    Solving...   (tInd = 67)\n",
      "    Done...\n",
      "    Solving...   (tInd = 68)\n",
      "    Done...\n",
      "    Solving...   (tInd = 69)\n",
      "    Done...\n",
      "    Solving...   (tInd = 70)\n",
      "    Done...\n",
      "    Solving...   (tInd = 71)\n",
      "    Done...\n",
      "    Solving...   (tInd = 72)\n",
      "    Done...\n",
      "    Solving...   (tInd = 73)\n",
      "    Done...\n",
      "    Solving...   (tInd = 74)\n",
      "    Done...\n",
      "    Solving...   (tInd = 75)\n",
      "    Done...\n",
      "    Solving...   (tInd = 76)\n",
      "    Done...\n",
      "    Solving...   (tInd = 77)\n",
      "    Done...\n",
      "    Solving...   (tInd = 78)\n",
      "    Done...\n",
      "    Solving...   (tInd = 79)\n",
      "    Done...\n",
      "    Solving...   (tInd = 80)\n",
      "    Done...\n",
      "    Solving...   (tInd = 81)\n",
      "    Done...\n",
      "    Solving...   (tInd = 82)\n",
      "    Done...\n",
      "    Solving...   (tInd = 83)\n",
      "    Done...\n",
      "    Solving...   (tInd = 84)\n",
      "    Done...\n",
      "    Solving...   (tInd = 85)\n",
      "    Done...\n",
      "**************************************************\n",
      "Done calculating fields(m)\n",
      "**************************************************\n"
     ]
    }
   ],
   "source": [
    "F = prb_em.fields(m)"
   ]
  },
  {
   "cell_type": "code",
   "execution_count": 13,
   "metadata": {
    "collapsed": false
   },
   "outputs": [],
   "source": [
    "data = survey.dpred(m, f=F)"
   ]
  },
  {
   "cell_type": "code",
   "execution_count": 14,
   "metadata": {
    "collapsed": false
   },
   "outputs": [],
   "source": [
    "from EMTD.Utils import hzAnalyticDipoleT, hzAnalyticDipoleT_CC"
   ]
  },
  {
   "cell_type": "code",
   "execution_count": 15,
   "metadata": {
    "collapsed": false
   },
   "outputs": [
    {
     "name": "stderr",
     "output_type": "stream",
     "text": [
      "/Users/sgkang/Projects/pyEMTD/EMTD/Utils/TEM.py:7: RuntimeWarning: divide by zero encountered in divide\n",
      "  theta = np.sqrt((sigma*mu_0)/(4*t))\n",
      "/Users/sgkang/Projects/pyEMTD/EMTD/Utils/TEM.py:11: RuntimeWarning: invalid value encountered in multiply\n",
      "  t2 = (1/np.sqrt(pi))*(9/tr + 4*tr)*np.exp(-tr**2)\n"
     ]
    }
   ],
   "source": [
    "Div = prb_em.timeMesh.faceDiv\n",
    "hz = hzAnalyticDipoleT(rxloc[0][0], prb_em.timeMesh.gridFx, 0.01)\n",
    "hzip = hzAnalyticDipoleT_CC(rxloc[0][0], prb_em.timeMesh.gridFx[1:], sigmaInf=0.01, eta=eta0, tau=tau0, c=c0, model=\"Seigel\")\n",
    "P = prb_em.timeMesh.getInterpolationMat(rx.times)\n",
    "dhzdt = P*Div*hz\n",
    "dhzdtip = P*Div*np.r_[0., hzip]"
   ]
  },
  {
   "cell_type": "code",
   "execution_count": 16,
   "metadata": {
    "collapsed": false
   },
   "outputs": [
    {
     "data": {
      "text/plain": [
       "<matplotlib.legend.Legend at 0x10c0df410>"
      ]
     },
     "execution_count": 16,
     "metadata": {},
     "output_type": "execute_result"
    },
    {
     "data": {
      "image/png": "[encoded data removed]",
      "text/plain": [
       "<matplotlib.figure.Figure at 0x10b77cc50>"
      ]
     },
     "metadata": {},
     "output_type": "display_data"
    }
   ],
   "source": [
    "scale = 1.\n",
    "ms = 1e3\n",
    "plt.loglog(rx.times*ms, data.flatten(), 'ko', alpha = 0.5)\n",
    "plt.loglog(rx.times*ms, -data.flatten(), 'o', markerfacecolor=\"w\", alpha = 0.5)\n",
    "plt.loglog(rx.times*ms, -dhzdtip.flatten()*mu_0*scale, 'k-', lw=2)\n",
    "plt.loglog(rx.times*ms, dhzdtip.flatten()*mu_0*scale, 'k--', lw=2)\n",
    "plt.grid(True)\n",
    "plt.tight_layout()\n",
    "plt.xlabel(\"Time (ms)\")\n",
    "plt.ylabel(\"dbz/dt (T/s)\")\n",
    "plt.legend((\"simpegEMIP (+)\", \"simpegEMIP (-)\", \"Analytic (+)\", \"Analytic (-)\"), fontsize = 12)"
   ]
  },
  {
   "cell_type": "code",
   "execution_count": null,
   "metadata": {
    "collapsed": true
   },
   "outputs": [],
   "source": []
  }
 ],
 "metadata": {
  "anaconda-cloud": {},
  "kernelspec": {
   "display_name": "Python [default]",
   "language": "python",
   "name": "python2"
  },
  "language_info": {
   "codemirror_mode": {
    "name": "ipython",
    "version": 2
   },
   "file_extension": ".py",
   "mimetype": "text/x-python",
   "name": "python",
   "nbconvert_exporter": "python",
   "pygments_lexer": "ipython2",
   "version": "2.7.12"
  }
 },
 "nbformat": 4,
 "nbformat_minor": 1
}
