{
 "cells": [
  {
   "cell_type": "code",
   "execution_count": 17,
   "metadata": {
    "collapsed": false
   },
   "outputs": [
    {
     "name": "stdout",
     "output_type": "stream",
     "text": [
      "Populating the interactive namespace from numpy and matplotlib\n"
     ]
    }
   ],
   "source": [
    "from SimPEG import EM, Survey\n",
    "from SimPEG import Mesh, Utils\n",
    "import numpy as np\n",
    "import matplotlib.pyplot as plt\n",
    "from pymatsolver import PardisoSolver\n",
    "%pylab inline\n",
    "cs = 40.\n",
    "npad = 10\n",
    "hx = [(cs, npad, -1.3), (cs, 21), (cs, npad, 1.3)]\n",
    "hy = [(cs, npad, -1.3), (cs, 21), (cs, npad, 1.3)]\n",
    "hz = [(cs, npad, -1.3), (cs, 20), (cs, npad, 1.3)]\n",
    "mesh = Mesh.TensorMesh([hx, hy, hz], x0=\"CCC\")\n",
    "sigma = np.ones(mesh.nC)*1e-2\n",
    "sigma[mesh.gridCC[:,2] > 0.] = 1e-2\n",
    "\n",
    "x = mesh.vectorCCx[(mesh.vectorCCx > -155.) & (mesh.vectorCCx < 155.)]\n",
    "y = mesh.vectorCCx[(mesh.vectorCCy > -155.) & (mesh.vectorCCy < 155.)]\n",
    "\n",
    "Aloc = np.r_[-20., 0., 0.]\n",
    "Bloc = np.r_[20., 0., 0.]\n",
    "# M = Utils.ndgrid(x-25., y, np.r_[0.])\n",
    "# N = Utils.ndgrid(x+25., y, np.r_[0.])\n",
    "# rxloc = Utils.ndgrid(x, y, np.r_[0.])\n",
    "rxloc = np.r_[-200., 0., 0.].reshape([1, -1])\n",
    "srcloc = np.vstack((Aloc, Bloc))"
   ]
  },
  {
   "cell_type": "code",
   "execution_count": 18,
   "metadata": {
    "collapsed": false
   },
   "outputs": [
    {
     "name": "stdout",
     "output_type": "stream",
     "text": [
      "40.0\n",
      "1200.0\n",
      "2216.21385872\n"
     ]
    }
   ],
   "source": [
    "tmax = 1e-2\n",
    "tmin = 1e-4\n",
    "print 1200*np.sqrt(100*tmin) / 3.\n",
    "print 1200*np.sqrt(100*tmax) \n",
    "print mesh.hx[:10].sum()"
   ]
  },
  {
   "cell_type": "code",
   "execution_count": 19,
   "metadata": {
    "collapsed": false
   },
   "outputs": [],
   "source": [
    "times = np.logspace(-4, -3, 21)\n",
    "rx = EM.TDEM.Rx.Point_e(rxloc, times, orientation='x')\n",
    "src = EM.TDEM.Src.LineCurrent([rx], loc=srcloc, waveform = EM.TDEM.Src.StepOffWaveform())\n",
    "prb = EM.TDEM.Problem3D_e(mesh, sigma = sigma, verbose=True)\n",
    "prb.Solver = PardisoSolver\n",
    "prb.solverOpts = {\"is_symmetric\":False}\n",
    "# prb.timeSteps = [(1e-4, 10), (5e-4, 10), (1e-3, 10)]\n",
    "prb.timeSteps = [(1e-5, 10), (1e-4, 10)]"
   ]
  },
  {
   "cell_type": "code",
   "execution_count": 20,
   "metadata": {
    "collapsed": true
   },
   "outputs": [],
   "source": [
    "survey = EM.TDEM.Survey([src])\n",
    "survey.pair(prb)"
   ]
  },
  {
   "cell_type": "code",
   "execution_count": 21,
   "metadata": {
    "collapsed": false
   },
   "outputs": [
    {
     "name": "stdout",
     "output_type": "stream",
     "text": [
      "Calculating Initial fields\n",
      "Factorize system matrix for DC problem\n",
      "**************************************************\n",
      "Calculating fields(m)\n",
      "**************************************************\n",
      "Factoring...   (dt = 1.000000e-05)\n",
      "Done\n",
      "    Solving...   (tInd = 1)\n",
      "    Done...\n",
      "    Solving...   (tInd = 2)\n",
      "    Done...\n",
      "    Solving...   (tInd = 3)\n",
      "    Done...\n",
      "    Solving...   (tInd = 4)\n",
      "    Done...\n",
      "    Solving...   (tInd = 5)\n",
      "    Done...\n",
      "    Solving...   (tInd = 6)\n",
      "    Done...\n",
      "    Solving...   (tInd = 7)\n",
      "    Done...\n",
      "    Solving...   (tInd = 8)\n",
      "    Done...\n",
      "    Solving...   (tInd = 9)\n",
      "    Done...\n",
      "    Solving...   (tInd = 10)\n",
      "    Done...\n",
      "Factoring...   (dt = 1.000000e-04)\n",
      "Done\n",
      "    Solving...   (tInd = 11)\n",
      "    Done...\n",
      "    Solving...   (tInd = 12)\n",
      "    Done...\n",
      "    Solving...   (tInd = 13)\n",
      "    Done...\n",
      "    Solving...   (tInd = 14)\n",
      "    Done...\n",
      "    Solving...   (tInd = 15)\n",
      "    Done...\n",
      "    Solving...   (tInd = 16)\n",
      "    Done...\n",
      "    Solving...   (tInd = 17)\n",
      "    Done...\n",
      "    Solving...   (tInd = 18)\n",
      "    Done...\n",
      "    Solving...   (tInd = 19)\n",
      "    Done...\n",
      "    Solving...   (tInd = 20)\n",
      "    Done...\n",
      "**************************************************\n",
      "Done calculating fields(m)\n",
      "**************************************************\n"
     ]
    }
   ],
   "source": [
    "f = prb.fields(sigma)"
   ]
  },
  {
   "cell_type": "code",
   "execution_count": 28,
   "metadata": {
    "collapsed": false
   },
   "outputs": [],
   "source": [
    "dpred = survey.dpred(sigma, f=f)"
   ]
  },
  {
   "cell_type": "code",
   "execution_count": 29,
   "metadata": {
    "collapsed": false
   },
   "outputs": [
    {
     "data": {
      "text/plain": [
       "array([-20.,   0.,   0.])"
      ]
     },
     "execution_count": 29,
     "metadata": {},
     "output_type": "execute_result"
    }
   ],
   "source": [
    "srcloc[0]"
   ]
  },
  {
   "cell_type": "code",
   "execution_count": 30,
   "metadata": {
    "collapsed": false
   },
   "outputs": [],
   "source": [
    "from em_examples import TDEMDipolarfields\n",
    "anax, anay, anaz = TDEMDipolarfields.E_from_ElectricDipoleWholeSpace(rxloc, np.r_[0, 0, 0], 0.01, rx.times, orientation=\"X\", length=40.)"
   ]
  },
  {
   "cell_type": "code",
   "execution_count": 25,
   "metadata": {
    "collapsed": false
   },
   "outputs": [
    {
     "data": {
      "image/png": "[encoded data removed]",
      "text/plain": [
       "<matplotlib.figure.Figure at 0x10c3a8990>"
      ]
     },
     "metadata": {},
     "output_type": "display_data"
    }
   ],
   "source": [
    "plt.loglog(rx.times, dpred, '.-')\n",
    "plt.loglog(rx.times, anax, '.-')\n",
    "plt.grid(True)"
   ]
  },
  {
   "cell_type": "code",
   "execution_count": 26,
   "metadata": {
    "collapsed": false
   },
   "outputs": [],
   "source": [
    "# temp = dpred.reshape((rxloc.shape[0], rx.times.size), order=\"F\") [:, 0]\n",
    "# Utils.plot2Ddata(rxloc[:,:2], temp)"
   ]
  },
  {
   "cell_type": "code",
   "execution_count": 27,
   "metadata": {
    "collapsed": false
   },
   "outputs": [],
   "source": [
    "# f[src, 'e', 4]"
   ]
  },
  {
   "cell_type": "code",
   "execution_count": null,
   "metadata": {
    "collapsed": true
   },
   "outputs": [],
   "source": []
  }
 ],
 "metadata": {
  "anaconda-cloud": {},
  "kernelspec": {
   "display_name": "Python [default]",
   "language": "python",
   "name": "python2"
  },
  "language_info": {
   "codemirror_mode": {
    "name": "ipython",
    "version": 2
   },
   "file_extension": ".py",
   "mimetype": "text/x-python",
   "name": "python",
   "nbconvert_exporter": "python",
   "pygments_lexer": "ipython2",
   "version": "2.7.12"
  }
 },
 "nbformat": 4,
 "nbformat_minor": 1
}
