{
 "cells": [
  {
   "cell_type": "code",
   "execution_count": 1117,
   "metadata": {
    "collapsed": false
   },
   "outputs": [],
   "source": [
    "import numpy as np\n",
    "import matplotlib.pyplot as plt\n",
    "%matplotlib inline\n",
    "\n",
    "def ColeColePelton(f, sigmaInf, eta, tau, c):\n",
    "    w = 2*np.pi*f\n",
    "    return sigmaInf*(1 - eta/(1 + (1-eta)*(1j*w*tau)**c))\n",
    "\n",
    "def ColeColeSeigel(f, sigmaInf, eta, tau, c):\n",
    "    w = 2*np.pi*f\n",
    "    return sigmaInf*(1 - eta/(1 + (1j*w*tau)**c))"
   ]
  },
  {
   "cell_type": "code",
   "execution_count": 1118,
   "metadata": {
    "collapsed": false
   },
   "outputs": [],
   "source": [
    "taumin, taumax = 1e-10, 1e8\n",
    "ntau = 71\n",
    "mesh = getTau(taumin, taumax, ntau)\n",
    "frequency = np.logspace(-6, 8, 61)"
   ]
  },
  {
   "cell_type": "code",
   "execution_count": 1107,
   "metadata": {
    "collapsed": false
   },
   "outputs": [],
   "source": [
    "from SimPEG import (DataMisfit, Regularization, Inversion,\n",
    "                    Optimization, InvProblem)\n",
    "\n",
    "mesh = getFrequency(fmin, fmax, nfreq)\n",
    "wires = Maps.Wires(('sigmaInf', 1), ('eta', mesh.nN))\n",
    "sigmaInf, tau, c = 0.01, 0.1, 1\n",
    "sigmap = Maps.ExpMap(nP=1)*wires.sigmaInf\n",
    "# sigmap = wires.sigmaInf\n",
    "prb = DebyeDec(mesh, sigmaInfMap = sigmap, etaMap = wires.eta, frequency=frequency)\n",
    "survey = DebyeDecSurvey()\n",
    "prb.pair(survey)\n",
    "eta = np.zeros(prb.ntau) +  0.01\n",
    "# eta[20] = 0.1\n",
    "m0 = np.r_[np.log(sigmaInf), eta]\n",
    "f0 = prb.fields(m0)\n",
    "d0 = survey.dpred(m0)\n",
    "# survey.makeSyntheticData(m0, std = 0.)\n",
    "survey.dobs = d0\n",
    "survey.std = 0.0\n",
    "survey.eps = 1.\n",
    "regmesh = Mesh.TensorMesh([m0.size])\n",
    "# Now set up the problem to do some minimization\n",
    "dmis = DataMisfit.l2_DataMisfit(survey)\n",
    "reg = Regularization.BaseRegularization(regmesh)\n",
    "opt = Optimization.InexactGaussNewton(\n",
    "    maxIterLS=20, maxIter=10, tolF=1e-6,\n",
    "    tolX=1e-6, tolG=1e-6, maxIterCG=6\n",
    ")\n",
    "invProb = InvProblem.BaseInvProblem(dmis, reg, opt, beta=1e4)\n",
    "inv = Inversion.BaseInversion(invProb)"
   ]
  },
  {
   "cell_type": "code",
   "execution_count": 1108,
   "metadata": {
    "collapsed": false
   },
   "outputs": [
    {
     "name": "stdout",
     "output_type": "stream",
     "text": [
      "[ -2.84217094e-14   0.00000000e+00   2.84217094e-14   0.00000000e+00\n",
      "   0.00000000e+00   0.00000000e+00   0.00000000e+00   2.84217094e-14\n",
      "   0.00000000e+00   0.00000000e+00   2.84217094e-14   0.00000000e+00\n",
      "   0.00000000e+00   0.00000000e+00   0.00000000e+00  -1.42108547e-14\n",
      "   1.42108547e-14  -2.84217094e-14   1.42108547e-14  -1.42108547e-14\n",
      "   0.00000000e+00   2.84217094e-14  -1.42108547e-14   2.84217094e-14\n",
      "  -1.42108547e-14  -1.42108547e-14   2.84217094e-14   0.00000000e+00\n",
      "   2.84217094e-14   1.42108547e-14  -1.42108547e-14   1.42108547e-14\n",
      "   1.42108547e-14   1.42108547e-14   0.00000000e+00  -1.42108547e-14\n",
      "   1.42108547e-14  -1.42108547e-14   0.00000000e+00  -2.84217094e-14\n",
      "  -1.42108547e-14  -1.42108547e-14   0.00000000e+00   0.00000000e+00\n",
      "   0.00000000e+00   1.42108547e-14   0.00000000e+00  -1.42108547e-14\n",
      "   0.00000000e+00  -2.84217094e-14   0.00000000e+00   0.00000000e+00\n",
      "   0.00000000e+00   0.00000000e+00   0.00000000e+00   0.00000000e+00\n",
      "   0.00000000e+00   0.00000000e+00   0.00000000e+00   0.00000000e+00\n",
      "   0.00000000e+00]\n",
      "[  1.38777878e-17  -1.38777878e-17   0.00000000e+00   0.00000000e+00\n",
      "   0.00000000e+00   1.11022302e-16   0.00000000e+00   0.00000000e+00\n",
      "   0.00000000e+00   0.00000000e+00   0.00000000e+00  -1.77635684e-15\n",
      "   0.00000000e+00   1.77635684e-15  -1.77635684e-15   0.00000000e+00\n",
      "   0.00000000e+00   3.55271368e-15  -1.77635684e-15   8.88178420e-16\n",
      "  -8.88178420e-16  -8.88178420e-16   8.88178420e-16  -8.88178420e-16\n",
      "   0.00000000e+00   2.22044605e-16  -2.22044605e-16   0.00000000e+00\n",
      "  -5.55111512e-17   0.00000000e+00   1.38777878e-17  -6.93889390e-18\n",
      "  -3.46944695e-18  -1.73472348e-18   0.00000000e+00   8.67361738e-19\n",
      "  -4.33680869e-19   2.16840434e-19   0.00000000e+00   1.08420217e-19\n",
      "   0.00000000e+00   2.71050543e-20   0.00000000e+00   0.00000000e+00\n",
      "   0.00000000e+00   0.00000000e+00   1.69406589e-21   1.69406589e-21\n",
      "   0.00000000e+00   8.47032947e-22   0.00000000e+00   0.00000000e+00\n",
      "   0.00000000e+00  -5.29395592e-23   0.00000000e+00   0.00000000e+00\n",
      "   0.00000000e+00   6.61744490e-24   0.00000000e+00   1.65436123e-24\n",
      "   1.65436123e-24]\n"
     ]
    }
   ],
   "source": [
    "print (1./f0).real - 1./abs(f0)**2 * f0.real\n",
    "print (1./f0).imag + 1./abs(f0)**2 * f0.imag\n"
   ]
  },
  {
   "cell_type": "code",
   "execution_count": 1109,
   "metadata": {
    "collapsed": false
   },
   "outputs": [],
   "source": [
    "# def dmis_sig(m):  \n",
    "#     fpre = prb.fields(m)\n",
    "#     mis = 0.5*np.linalg.norm(fpre - f0)**2\n",
    "#     r = fpre - f0\n",
    "#     dmis = prb.dsig_dm(r, adjoint=True)\n",
    "#     return mis,dmis\n",
    "\n",
    "# passed = Tests.checkDerivative(dmis_sig,\n",
    "#     m0*4,\n",
    "#     plotIt=False,\n",
    "#     num=5, \n",
    "#     dx = m0*2\n",
    "# )"
   ]
  },
  {
   "cell_type": "code",
   "execution_count": 1110,
   "metadata": {
    "collapsed": false
   },
   "outputs": [
    {
     "name": "stdout",
     "output_type": "stream",
     "text": [
      "==================== checkDerivative ====================\n",
      "iter    h         |ft-f0|   |ft-f0-h*J0*dx|  Order\n",
      "---------------------------------------------------------\n",
      " 0   1.00e-01    6.149e+00     3.416e+00      nan\n",
      " 1   1.00e-02    5.983e-01     5.241e-02      1.814\n",
      "========================= PASS! =========================\n",
      "Well done Sgkang!\n",
      "\n"
     ]
    }
   ],
   "source": [
    "dm = np.r_[np.log(sigmaInf)-2, eta*8]\n",
    "derChk = lambda m: [survey.dpred(m), lambda mx: prb.Jvec(m0, mx, f=f0)]\n",
    "passed = Tests.checkDerivative(derChk, m0, plotIt=False, dx=dm, num=2)"
   ]
  },
  {
   "cell_type": "code",
   "execution_count": 1111,
   "metadata": {
    "collapsed": false
   },
   "outputs": [
    {
     "name": "stdout",
     "output_type": "stream",
     "text": [
      "==================== checkDerivative ====================\n",
      "iter    h         |ft-f0|   |ft-f0-h*J0*dx|  Order\n",
      "---------------------------------------------------------\n",
      " 0   1.00e-01    1.650e+02     2.784e+01      nan\n",
      " 1   1.00e-02    1.399e+01     2.788e-01      1.999\n",
      " 2   1.00e-03    1.374e+00     2.921e-03      1.980\n",
      " 3   1.00e-04    1.372e-01     4.261e-05      1.836\n",
      "========================= PASS! =========================\n",
      "Testing is important.\n",
      "\n"
     ]
    }
   ],
   "source": [
    "passed = Tests.checkDerivative(lambda m: [dmis.eval(m), dmis.evalDeriv(m)],\n",
    "    m0*1.5,\n",
    "    plotIt=False,\n",
    "    num=4, dx=m0*2)"
   ]
  },
  {
   "cell_type": "code",
   "execution_count": 1112,
   "metadata": {
    "collapsed": false
   },
   "outputs": [
    {
     "name": "stdout",
     "output_type": "stream",
     "text": [
      "==================== checkDerivative ====================\n",
      "iter    h         |ft-f0|   |ft-f0-h*J0*dx|  Order\n",
      "---------------------------------------------------------\n",
      " 0   1.00e-01    1.529e-03     4.545e-04      nan\n",
      " 1   1.00e-02    1.116e-04     4.188e-06      2.036\n",
      " 2   1.00e-03    1.078e-05     4.155e-08      2.003\n",
      " 3   1.00e-04    1.074e-06     4.151e-10      2.000\n",
      " 4   1.00e-05    1.074e-07     4.151e-12      2.000\n",
      "========================= PASS! =========================\n",
      "Once upon a time, a happy little test passed.\n",
      "\n"
     ]
    }
   ],
   "source": [
    "def dmis_eta(m):  \n",
    "    fpre = prb.fields(np.r_[np.log(sigmaInf), m])\n",
    "    r = fpre - f0\n",
    "    mis = 0.5*np.dot(r.conj(), r)\n",
    "    dmis = prb.dsig_deta(r, adjoint=True)\n",
    "    return mis, dmis\n",
    "\n",
    "passed = Tests.checkDerivative(dmis_eta,\n",
    "    prb.eta*3,\n",
    "    plotIt=False,\n",
    "    num=5, \n",
    ")"
   ]
  },
  {
   "cell_type": "code",
   "execution_count": 1113,
   "metadata": {
    "collapsed": false
   },
   "outputs": [],
   "source": [
    "# mini = m0*2\n",
    "# prb.fields(m=mini)\n",
    "# out = dmis.evalDeriv(mini)\n",
    "# fd = np.zeros_like(out)\n",
    "# for  i, m_temp in enumerate(mini):\n",
    "#     mtempa = mini.copy()\n",
    "#     dm = mini[i]*0.01\n",
    "#     mtempa[i] = mini[i] + dm\n",
    "#     mtempb = mini.copy()\n",
    "#     mtempb[i] = mini[i] - dm   \n",
    "#     fd[i] = (dmis.eval(mtempa) - dmis.eval(mtempb)) / (2*dm)\n",
    "# print out[0], fd[0]   \n",
    "# plt.plot(out, 'ro')\n",
    "# plt.plot(fd, 'k.')"
   ]
  },
  {
   "cell_type": "code",
   "execution_count": 1114,
   "metadata": {
    "collapsed": false
   },
   "outputs": [
    {
     "name": "stdout",
     "output_type": "stream",
     "text": [
      "2.15374833009e-16\n"
     ]
    }
   ],
   "source": [
    "v = np.random.rand(regmesh.nC)\n",
    "w = np.random.rand(survey.dobs.shape[0])\n",
    "wtJv = w.dot(prb.Jvec(m0, v))\n",
    "vtJtw = v.dot(prb.Jtvec(m0, w))\n",
    "err = np.abs(wtJv - vtJtw) / np.abs(wtJv)\n",
    "print err"
   ]
  },
  {
   "cell_type": "code",
   "execution_count": 1115,
   "metadata": {
    "collapsed": false
   },
   "outputs": [
    {
     "name": "stdout",
     "output_type": "stream",
     "text": [
      "1.26570382004e-16\n"
     ]
    }
   ],
   "source": [
    "v = np.random.rand(regmesh.nC)\n",
    "w = np.random.rand(prb.nfreq)\n",
    "wtJv = (w.conj().dot(prb.dsig_dm(v))).real\n",
    "vtJtw = v.conj().dot(prb.dsig_dm(w, adjoint=True))\n",
    "err = np.abs(wtJv - vtJtw) / np.abs(wtJv)\n",
    "print err"
   ]
  },
  {
   "cell_type": "code",
   "execution_count": 1116,
   "metadata": {
    "collapsed": false
   },
   "outputs": [
    {
     "name": "stdout",
     "output_type": "stream",
     "text": [
      "1567.09030297\n",
      "1567.09030297\n",
      "2.90185798499e-16\n"
     ]
    }
   ],
   "source": [
    "v = np.random.rand(prb.nfreq)\n",
    "w = np.random.rand(prb.nfreq*2)\n",
    "f0 = prb.fields(m0)\n",
    "wtJv = (w.conj().dot(survey.evalDeriv(v, f=f0)))\n",
    "vtJtw = v.conj().dot(survey.evalDeriv(w, f=f0, adjoint=True).real) \n",
    "print wtJv\n",
    "print vtJtw\n",
    "err = np.abs(wtJv - vtJtw) / np.abs(wtJv)\n",
    "print err"
   ]
  },
  {
   "cell_type": "code",
   "execution_count": 1071,
   "metadata": {
    "collapsed": false
   },
   "outputs": [],
   "source": [
    "# def dmis_P(m):  \n",
    "#     dpre = survey.eval(m) \n",
    "#     mis = 0.5*np.linalg.norm(dpre-d0)**2\n",
    "#     r = dpre - d0\n",
    "#     dmis = survey.evalDeriv(r, m, adjoint=True)\n",
    "#     return mis,dmis\n",
    "\n",
    "# passed = Tests.checkDerivative(dmis_P,\n",
    "#     f0*2,\n",
    "#     plotIt=False,\n",
    "#     num=2\n",
    "# )"
   ]
  },
  {
   "cell_type": "code",
   "execution_count": 1072,
   "metadata": {
    "collapsed": false
   },
   "outputs": [],
   "source": [
    "# def dmis_siginf(m):  \n",
    "#     fpre = prb.fields(np.r_[np.log(m), prb.eta])\n",
    "# #     mis = 0.5*np.linalg.norm(fpre - f0)**2\n",
    "#     r = fpre - f0\n",
    "#     mis = 0.5*np.dot(r.conj(), r)\n",
    "\n",
    "#     dmis = prb.dsig_dsigmaInf(r, adjoint=True)\n",
    "#     return mis, dmis\n",
    "\n",
    "# passed = Tests.checkDerivative(dmis_siginf,\n",
    "#     np.r_[sigmaInf]*2,\n",
    "#     plotIt=False,\n",
    "#     num=4, \n",
    "#     dx = np.r_[sigmaInf]*5,\n",
    "# )"
   ]
  },
  {
   "cell_type": "code",
   "execution_count": 1073,
   "metadata": {
    "collapsed": true
   },
   "outputs": [],
   "source": [
    "# def dsig_deta():\n",
    "#     dsig_deta = -sigmaInf*prb.X        \n",
    "#     dsig_deta -= Utils.sdiag(prb.sigmaInf*1j*prb.omega)*prb.X**2*Utils.sdiag(prb.tau*prb.eta) \n",
    "#     return dsig_deta"
   ]
  },
  {
   "cell_type": "code",
   "execution_count": 1074,
   "metadata": {
    "collapsed": false
   },
   "outputs": [],
   "source": [
    "# f0 = prb.fields(m0)\n",
    "# J = dsig_deta()\n",
    "# fpre = prb.fields(np.r_[np.log(sigmaInf), prb.eta*2])\n",
    "# r = fpre - f0"
   ]
  },
  {
   "cell_type": "code",
   "execution_count": 1075,
   "metadata": {
    "collapsed": false
   },
   "outputs": [],
   "source": [
    "# I*eta*omega*tau/(I*omega*tau*(-eta + 1) + 1)**2 + 1/(I*omega*tau*(-eta + 1) + 1)"
   ]
  },
  {
   "cell_type": "code",
   "execution_count": 1076,
   "metadata": {
    "collapsed": true
   },
   "outputs": [],
   "source": [
    "# def foo(m):    \n",
    "#     sigma = sigmaInf - sigmaInf*m/(1.+(1.-m)*(1j*omega*tau))\n",
    "#     return sigma\n",
    "\n",
    "# def Jvec(m, mx):\n",
    "#     dsig_deta = -sigmaInf/(1.+(1.-m)*(1j*omega*tau))\n",
    "#     dsig_deta +=  -sigmaInf*1j*omega*tau*m/(1.+(1.-m)*(1j*omega*tau))**2\n",
    "#     Jv = np.r_[dsig_deta]*mx\n",
    "#     return Jv\n"
   ]
  },
  {
   "cell_type": "code",
   "execution_count": 1077,
   "metadata": {
    "collapsed": true
   },
   "outputs": [],
   "source": [
    "def dsigdeta(m, tau, omega):\n",
    "    dsig_deta = -sigmaInf/(1.+(1.-m)*(1j*omega*tau))\n",
    "    dsig_deta +=  -sigmaInf*1j*omega*tau*m/(1.+(1.-m)*(1j*omega*tau))**2\n",
    "    return dsig_deta"
   ]
  },
  {
   "cell_type": "code",
   "execution_count": 1079,
   "metadata": {
    "collapsed": false
   },
   "outputs": [
    {
     "name": "stdout",
     "output_type": "stream",
     "text": [
      "==================== checkDerivative ====================\n",
      "iter    h         |ft-f0|   |ft-f0-h*J0*dx|  Order\n",
      "---------------------------------------------------------\n",
      " 0   1.00e-01    1.634e+01     6.867e+01      nan\n",
      " 1   1.00e-02    9.333e+00     8.737e+00      0.895\n",
      " 2   1.00e-03    6.642e-01     8.562e-02      2.009\n",
      " 3   1.00e-04    6.825e-02     4.984e-03      1.235\n",
      " 4   1.00e-05    6.855e-03     4.963e-04      1.002\n",
      " 5   1.00e-06    6.859e-04     4.967e-05      1.000\n",
      " 6   1.00e-07    6.859e-05     4.967e-06      1.000\n",
      "*********************************************************\n",
      "<<<<<<<<<<<<<<<<<<<<<<<<< FAIL! >>>>>>>>>>>>>>>>>>>>>>>>>\n",
      "*********************************************************\n",
      "You had so much promise Sgkang, oh well...\n",
      "\n"
     ]
    }
   ],
   "source": [
    "temp = np.r_[np.log(sigmaInf), eta]\n",
    "m0 = prb.fields(temp)\n",
    "\n",
    "def foo_P(m):    \n",
    "    out = survey.eval(m)\n",
    "    return out\n",
    "\n",
    "def Jvec_P(m, mx):\n",
    "    out = survey.evalDeriv(mx, f=m)\n",
    "    return out\n",
    "\n",
    "derChk = lambda m: [foo_P(m), lambda mx: Jvec_P(m0, mx)]\n",
    "passed = Tests.checkDerivative(derChk, m0, plotIt=False)\n",
    "\n",
    "# def foo_sig(m):    \n",
    "#     sigma = prb.fields(m)\n",
    "#     return sigma\n",
    "\n",
    "# def Jvec_sig(m, mx):\n",
    "#     sigma = prb.fields(m)\n",
    "#     Jv = prb.dsig_dm(mx)\n",
    "#     return Jv\n",
    "\n",
    "# m0 = np.r_[np.log(sigmaInf), eta]\n",
    "# derChk = lambda m: [foo_sig(m), lambda mx: Jvec_sig(m0, mx)]\n",
    "# passed = Tests.checkDerivative(derChk, m0, plotIt=False)\n"
   ]
  },
  {
   "cell_type": "code",
   "execution_count": 1003,
   "metadata": {
    "collapsed": true
   },
   "outputs": [],
   "source": [
    "# def foo(m):    \n",
    "#     sigma = prb.fields(np.r_[np.log(sigmaInf), m])\n",
    "#     return sigma\n",
    "\n",
    "# def Jvec(m, mx):\n",
    "#     sigma = prb.fields(np.r_[np.log(sigmaInf), m])\n",
    "#     Jv = prb.dsig_deta(mx)\n",
    "#     return Jv\n",
    "\n",
    "# def foo(m):    \n",
    "#     sigma = prb.fields(np.r_[np.log(m), prb.eta])\n",
    "#     return sigma\n",
    "\n",
    "# def Jvec(m, mx):\n",
    "#     sigma = prb.fields(np.r_[np.log(m), prb.eta])\n",
    "#     Jv = prb.dsig_dsigmaInf(mx)\n",
    "#     return Jv\n",
    "\n",
    "# def foo(m):    \n",
    "#     omega = prb.omega.copy()\n",
    "#     sigma = sigmaInf - sigmaInf*m/(1.+(1.-m)*(1j*omega*tau))\n",
    "#     return sigma\n",
    "\n",
    "# def Jvec(m, mx):\n",
    "#     omega= prb.omega.copy()\n",
    "#     dsig_deta = -sigmaInf/(1.+(1.-m)*(1j*omega*tau))\n",
    "#     dsig_deta +=  -sigmaInf*1j*omega*tau*m/(1.+(1.-m)*(1j*omega*tau))**2\n",
    "#     Jv = np.r_[dsig_deta]*mx\n",
    "#     return Jv\n",
    "\n",
    "\n",
    "# def foo(m):    \n",
    "#     sigma = sigmaInf*np.ones(prb.nfreq, dtype=complex)    \n",
    "#     omega = prb.omega    \n",
    "#     for itau in range(prb.ntau):\n",
    "#         sigma -= sigmaInf*m[itau]/(1.+(1.-m[itau])*(1j*omega*prb.tau[itau]))\n",
    "#     return sigma\n",
    "\n",
    "# def Jvec(m, mx):\n",
    "#     J = np.ones((prb.nfreq, prb.ntau), dtype=complex)\n",
    "#     temp = 1+0*1j\n",
    "#     omega = prb.omega\n",
    "#     for itau in range(prb.ntau):\n",
    "#         J[:,itau] = -sigmaInf/(1.+(1.-m[itau])*(1j*omega*prb.tau[itau]))\n",
    "#         J[:,itau] +=  -sigmaInf*1j*omega*prb.tau[itau]*m[itau]/(1.+(1.-m[itau])*(1j*omega*prb.tau[itau]))**2\n",
    "#     Jv = np.dot(J, mx)\n",
    "#     return Jv\n",
    "\n",
    "# m0 = prb.sigmaInf\n",
    "# m0 = prb.eta\n",
    "# m0 = np.r_[0.1]\n"
   ]
  },
  {
   "cell_type": "code",
   "execution_count": 583,
   "metadata": {
    "collapsed": true
   },
   "outputs": [],
   "source": [
    "# from sympy import *\n",
    "# eta, omega, tau = symbols(\"eta omega tau\")\n",
    "# f = eta / (1+(1-eta)*I*omega*tau)\n",
    "# diff(f, eta)\n",
    "# f = np.logspace(-3, 3, 61)\n",
    "# sigma = ColeColePelton(f, 1., 0.1, 0.1, 0.5)\n",
    "# from SimPEG import Tests\n",
    "# def foo(m):\n",
    "#     return np.r_[np.log(m).real, np.log(m).imag]\n",
    "\n",
    "# def Jvec(m, mx):\n",
    "#     rho = 1./m\n",
    "#     Jv = np.r_[rho.real*mx, rho.imag*mx ]\n",
    "#     return Jv\n",
    "# m0 = sigma.copy()\n",
    "# derChk = lambda m: [foo(m), lambda mx: Jvec(m0, mx)]\n",
    "# passed = Tests.checkDerivative(derChk, m0, plotIt=False)"
   ]
  },
  {
   "cell_type": "code",
   "execution_count": 584,
   "metadata": {
    "collapsed": false
   },
   "outputs": [],
   "source": [
    "# mx = np.zeros_like(prb.eta)\n",
    "# mx[20] = 1.\n",
    "# out = Jvec(prb.eta, mx)\n",
    "# plt.plot(dsigdeta(prb.eta[20], prb.tau[20], prb.omega).real)\n",
    "# plt.plot(out.real, 'k.')"
   ]
  },
  {
   "cell_type": "code",
   "execution_count": 585,
   "metadata": {
    "collapsed": false
   },
   "outputs": [],
   "source": [
    "# sigma_prb = prb.fields()\n",
    "# plt.semilogx(prb.f, np.log(sigma_prb).real, 'k.-')\n",
    "# plt.semilogx(prb.f, np.log(sigma_prb).imag, 'r.-')\n",
    "# plt.grid(True)\n",
    "# ymin, ymax = plt.gca().get_ylim()\n",
    "# plt.plot(np.ones(2)*1./(2*np.pi*tau), np.r_[ymin, ymax], 'k-')\n",
    "# plt.ylim(ymin, ymax)"
   ]
  },
  {
   "cell_type": "code",
   "execution_count": 586,
   "metadata": {
    "collapsed": true
   },
   "outputs": [],
   "source": [
    "# sigma = ColeColePelton(f, sigmaInf, 0.1, tau, c)\n",
    "# etatilde = (sigma-sigmaInf)/sigmaInf"
   ]
  },
  {
   "cell_type": "code",
   "execution_count": 587,
   "metadata": {
    "collapsed": false
   },
   "outputs": [],
   "source": [
    "# np.linalg.norm(sigma_prb-sigma)"
   ]
  },
  {
   "cell_type": "code",
   "execution_count": 588,
   "metadata": {
    "collapsed": false
   },
   "outputs": [],
   "source": [
    "# plt.semilogx(f, np.log(sigma/sigmaInf).real, 'k.-')\n",
    "# plt.semilogx(f, np.log(sigma).imag, 'r.-')\n",
    "# plt.grid(True)\n",
    "# ymin, ymax = plt.gca().get_ylim()\n",
    "# plt.plot(np.ones(2)*1./(2*np.pi*tau), np.r_[ymin, ymax], 'k-')\n",
    "# plt.ylim(ymin, ymax)"
   ]
  },
  {
   "cell_type": "code",
   "execution_count": 589,
   "metadata": {
    "collapsed": false
   },
   "outputs": [
    {
     "data": {
      "text/plain": [
       "136.0"
      ]
     },
     "execution_count": 589,
     "metadata": {},
     "output_type": "execute_result"
    }
   ],
   "source": [
    "340./2500 * 1e3"
   ]
  },
  {
   "cell_type": "code",
   "execution_count": 590,
   "metadata": {
    "collapsed": false
   },
   "outputs": [
    {
     "data": {
      "text/plain": [
       "10.5"
      ]
     },
     "execution_count": 590,
     "metadata": {},
     "output_type": "execute_result"
    }
   ],
   "source": [
    "21000./ 2000."
   ]
  },
  {
   "cell_type": "code",
   "execution_count": 591,
   "metadata": {
    "collapsed": false
   },
   "outputs": [
    {
     "data": {
      "text/plain": [
       "0.006"
      ]
     },
     "execution_count": 591,
     "metadata": {},
     "output_type": "execute_result"
    }
   ],
   "source": [
    "30*1e-3 / 5"
   ]
  },
  {
   "cell_type": "code",
   "execution_count": 592,
   "metadata": {
    "collapsed": false
   },
   "outputs": [
    {
     "data": {
      "text/plain": [
       "0.02"
      ]
     },
     "execution_count": 592,
     "metadata": {},
     "output_type": "execute_result"
    }
   ],
   "source": [
    "1./50"
   ]
  },
  {
   "cell_type": "code",
   "execution_count": null,
   "metadata": {
    "collapsed": true
   },
   "outputs": [],
   "source": []
  },
  {
   "cell_type": "code",
   "execution_count": null,
   "metadata": {
    "collapsed": true
   },
   "outputs": [],
   "source": []
  }
 ],
 "metadata": {
  "anaconda-cloud": {},
  "kernelspec": {
   "display_name": "Python [default]",
   "language": "python",
   "name": "python2"
  },
  "language_info": {
   "codemirror_mode": {
    "name": "ipython",
    "version": 2
   },
   "file_extension": ".py",
   "mimetype": "text/x-python",
   "name": "python",
   "nbconvert_exporter": "python",
   "pygments_lexer": "ipython2",
   "version": "2.7.12"
  }
 },
 "nbformat": 4,
 "nbformat_minor": 1
}
