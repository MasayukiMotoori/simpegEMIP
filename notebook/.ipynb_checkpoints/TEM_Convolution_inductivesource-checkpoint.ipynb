{
 "cells": [
  {
   "cell_type": "code",
   "execution_count": 104,
   "metadata": {
    "collapsed": false
   },
   "outputs": [],
   "source": [
    "from SimPEG import Mesh, Maps, Utils, EM\n",
    "from scipy.constants import mu_0\n",
    "import numpy as np\n",
    "import scipy.sparse as sp\n",
    "from simpegEMIP import getTau, DebyeDecProblem, DebyeDecSurvey\n",
    "import matplotlib.pyplot as plt\n",
    "from pymatsolver import PardisoSolver\n",
    "%matplotlib inline\n",
    "def ColeColePelton(f, sigmaInf, eta, tau, c):\n",
    "    w = 2*np.pi*f\n",
    "    return sigmaInf*(1 - eta/(1 + (1-eta)*(1j*w*tau)**c))"
   ]
  },
  {
   "cell_type": "code",
   "execution_count": 199,
   "metadata": {
    "collapsed": false
   },
   "outputs": [
    {
     "name": "stdout",
     "output_type": "stream",
     "text": [
      "Assume sigmaInf is known\n"
     ]
    }
   ],
   "source": [
    "taumin, taumax = 1e-10, 1e10\n",
    "ntau = 101\n",
    "mesh = getTau(taumin, taumax, ntau)\n",
    "frequency = np.logspace(-8, 8, 161)\n",
    "\n",
    "from SimPEG import (DataMisfit, Regularization, Inversion,\n",
    "                    Optimization, InvProblem, Directives)\n",
    "# wires = Maps.Wires(('sigmaInf', 1), ('eta', mesh.nN))\n",
    "sigmaInf, eta, tau, c = 0.01, 0.5, 0.005, 0.7\n",
    "# sigmap = Maps.ExpMap(nP=1)*wires.sigmaInf\n",
    "\n",
    "# prb = DebyeDecProblem(mesh, sigmaInfMap = sigmap, etaMap = wires.eta, frequency=frequency)\n",
    "prb = DebyeDecProblem(mesh, sigmaInf = sigmaInf, etaMap = Maps.IdentityMap(nP=ntau), frequency=frequency)\n",
    "survey = DebyeDecSurvey()\n",
    "prb.pair(survey)"
   ]
  },
  {
   "cell_type": "code",
   "execution_count": 200,
   "metadata": {
    "collapsed": false
   },
   "outputs": [
    {
     "name": "stdout",
     "output_type": "stream",
     "text": [
      "SimPEG.InvProblem will set Regularization.mref to m0.\n",
      "SimPEG.InvProblem is setting bfgsH0 to the inverse of the eval2Deriv.\n",
      "                    ***Done using same Solver and solverOpts as the problem***\n",
      "model has any nan: 0\n",
      "=============================== Projected GNCG ===============================\n",
      "  #     beta     phi_d     phi_m       f      |proj(x-g)-x|  LS    Comment   \n",
      "-----------------------------------------------------------------------------\n",
      "x0 has any nan: 0\n",
      "   0  1.00e+01  9.94e+06  0.00e+00  9.94e+06    1.00e+01      0              \n",
      "   1  1.00e+01  3.28e+06  3.36e-03  3.28e+06    2.24e+00      0              \n",
      "   2  1.00e+01  7.57e+05  2.16e-03  7.57e+05    1.73e+00      0              \n",
      "   3  1.00e+01  2.06e+05  8.04e-03  2.06e+05    1.42e+00      0              \n",
      "   4  1.00e+01  1.38e+04  7.58e-03  1.38e+04    2.65e-01      0              \n",
      "   5  1.00e+01  7.55e+03  9.09e-03  7.55e+03    1.35e-01      0              \n",
      "   6  1.00e+01  2.89e+03  8.79e-03  2.89e+03    1.65e+00      0              \n",
      "   7  1.00e+01  2.38e+03  1.01e-02  2.38e+03    1.42e-01      0              \n",
      "   8  1.00e+01  6.90e+02  1.02e-02  6.90e+02    2.45e+00      0              \n",
      "   9  1.00e+01  5.66e+02  1.02e-02  5.66e+02    1.43e-01      2              \n",
      "  10  1.00e+01  4.60e+02  1.03e-02  4.60e+02    1.44e-01      0   Skip BFGS  \n",
      "  11  1.00e+01  2.31e+02  1.03e-02  2.31e+02    5.57e+00      0              \n",
      "  12  1.00e+01  2.21e+02  1.03e-02  2.21e+02    1.44e-01      4              \n",
      "  13  1.00e+01  1.76e+02  1.05e-02  1.76e+02    1.45e-01      1   Skip BFGS  \n",
      "------------------------- STOP! -------------------------\n",
      "1 : |fc-fOld| = 0.0000e+00 <= tolF*(1+|f0|) = 9.9423e+00\n",
      "0 : |xc-x_last| = 8.3799e-04 <= tolX*(1+|x0|) = 1.0000e-06\n",
      "0 : |proj(x-g)-x|    = 1.4492e-01 <= tolG          = 1.0000e-06\n",
      "0 : |proj(x-g)-x|    = 1.4492e-01 <= 1e3*eps       = 1.0000e-02\n",
      "0 : maxIter   =      20    <= iter          =     14\n",
      "------------------------- DONE! -------------------------\n"
     ]
    }
   ],
   "source": [
    "# f = prb.fields(m)\n",
    "# d = survey.dpred(m)\n",
    "dobs = ColeColePelton(prb.frequency, sigmaInf, eta, tau, c) \n",
    "survey.dobs = np.r_[np.log(dobs).real, np.log(dobs).imag]\n",
    "# m0 = np.r_[np.log(sigmaInf), np.zeros(prb.ntau)+1e-10]\n",
    "m0 = np.r_[np.zeros(prb.ntau)+1e-10]\n",
    "survey.std = 0.\n",
    "survey.eps = np.r_[np.ones(prb.nfreq)*eta*0.003, np.ones(prb.nfreq)*0.003]\n",
    "regmesh = Mesh.TensorMesh([m0.size])\n",
    "# Now set up the problem to do some minimization\n",
    "dmis = DataMisfit.l2_DataMisfit(survey)\n",
    "target = Directives.TargetMisfit()\n",
    "reg = Regularization.BaseRegularization(regmesh)\n",
    "opt = Optimization.ProjectedGNCG(\n",
    "    maxIterLS=20, maxIter=20, tolF=1e-6,\n",
    "    tolX=1e-6, tolG=1e-6, maxIterCG=6\n",
    ")\n",
    "beta = Directives.BetaSchedule()\n",
    "# opt.upper = np.r_[np.log(1e2), 1.*np.ones(prb.ntau)]\n",
    "# opt.lower = np.r_[np.log(1e-6), 0.*np.ones(prb.ntau)]\n",
    "opt.upper = np.r_[1.*np.ones(prb.ntau)]\n",
    "opt.lower = np.r_[0.*np.ones(prb.ntau)]\n",
    "\n",
    "invProb = InvProblem.BaseInvProblem(dmis, reg, opt, beta=1e1)\n",
    "inv = Inversion.BaseInversion(invProb, directiveList=[target])\n",
    "mopt = inv.run(m0)\n"
   ]
  },
  {
   "cell_type": "code",
   "execution_count": 201,
   "metadata": {
    "collapsed": false
   },
   "outputs": [
    {
     "data": {
      "text/plain": [
       "[<matplotlib.lines.Line2D at 0x7fe143c69ed0>]"
      ]
     },
     "execution_count": 201,
     "metadata": {},
     "output_type": "execute_result"
    },
    {
     "data": {
      "image/png": "[encoded data removed]",
      "text/plain": [
       "<matplotlib.figure.Figure at 0x7fe143c69890>"
      ]
     },
     "metadata": {},
     "output_type": "display_data"
    }
   ],
   "source": [
    "plt.semilogx(prb.frequency, -survey.dobs[:prb.nfreq], 'k')\n",
    "plt.semilogx(prb.frequency, -invProb.dpred[:prb.nfreq], 'r.')"
   ]
  },
  {
   "cell_type": "code",
   "execution_count": 202,
   "metadata": {
    "collapsed": false
   },
   "outputs": [
    {
     "data": {
      "text/plain": [
       "[<matplotlib.lines.Line2D at 0x7fe143fe41d0>]"
      ]
     },
     "execution_count": 202,
     "metadata": {},
     "output_type": "execute_result"
    },
    {
     "data": {
      "image/png": "[encoded data removed]",
      "text/plain": [
       "<matplotlib.figure.Figure at 0x7fe143fe4110>"
      ]
     },
     "metadata": {},
     "output_type": "display_data"
    }
   ],
   "source": [
    "plt.semilogx(prb.frequency, survey.dobs[prb.nfreq:], 'k')\n",
    "plt.semilogx(prb.frequency, invProb.dpred[prb.nfreq:], 'r.')"
   ]
  },
  {
   "cell_type": "code",
   "execution_count": 203,
   "metadata": {
    "collapsed": false
   },
   "outputs": [],
   "source": [
    "cs, ncx, ncz, npad = 5., 25, 20, 18\n",
    "hx = [(cs,ncx), (cs,npad,1.3)]\n",
    "hz = [(cs,npad,-1.3), (cs,ncz), (cs,npad,1.3)]\n",
    "mesh = Mesh.CylMesh([hx,1,hz], '00C')    \n",
    "sigmaInf = np.ones(mesh.nC)* 0.01\n",
    "airind = mesh.gridCC[:,2]>0.\n",
    "sigmaInf[airind] = 1e-8"
   ]
  },
  {
   "cell_type": "code",
   "execution_count": 204,
   "metadata": {
    "collapsed": false
   },
   "outputs": [],
   "source": [
    "# timeSteps = np.r_[np.ones(10)*1e-5, np.ones(10)*5e-5, np.ones(10)*1e-4, np.ones(10)*5e-4, ]\n",
    "# times = np.r_[0., np.cumsum(timeSteps)]\n",
    "# nstep = len(timeSteps)\n",
    "# mopt[1:] = 0."
   ]
  },
  {
   "cell_type": "code",
   "execution_count": 205,
   "metadata": {
    "collapsed": true
   },
   "outputs": [],
   "source": [
    "rxloc = np.array([[50.5, 0., 0.]])\n",
    "srcloc = np.array([[0., 0., 0.]])"
   ]
  },
  {
   "cell_type": "code",
   "execution_count": 206,
   "metadata": {
    "collapsed": false
   },
   "outputs": [],
   "source": [
    "rx = EM.TDEM.Rx.Point_dbdt(rxloc, np.logspace(-4, -2.5, 11), 'z')\n",
    "src = EM.TDEM.Src.MagDipole([rx], loc=srcloc)\n",
    "survey = EM.TDEM.Survey([src])\n",
    "prb_em = EM.TDEM.Problem3D_b(mesh, sigmaMap=Maps.IdentityMap(mesh))\n",
    "prb_em.timeSteps = [(2.5e-06, 10), (5e-06, 10), (1e-05, 10), (2e-05, 10), (4e-05, 10), (8e-05, 10), (1.6e-04, 10), (3.2e-04, 20) ]\n",
    "Solver = PardisoSolver\n",
    "survey.pair(prb_em)"
   ]
  },
  {
   "cell_type": "code",
   "execution_count": 207,
   "metadata": {
    "collapsed": true
   },
   "outputs": [],
   "source": [
    "from SimPEG.EM.TDEM import Fields3D_e\n",
    "class FieldsTDEMIP_e_from_b(Fields3D_e):\n",
    "    \"\"\"Fancy Field Storage for a TDEM survey.\"\"\"\n",
    "    knownFields = {'eSolution': 'E'}\n",
    "    aliasFields = {\n",
    "                    'e': ['eSolution', 'E', '_e'],\n",
    "                    'b': ['eSolution', 'F', '_b'],\n",
    "                    'dbdt': ['eSolution', 'F', '_dbdt'],\n",
    "                  }    \n",
    "    def startup(self):\n",
    "        pass"
   ]
  },
  {
   "cell_type": "code",
   "execution_count": 208,
   "metadata": {
    "collapsed": false
   },
   "outputs": [],
   "source": [
    "b0 = src.bInitial(prb_em)\n",
    "e0 = np.zeros((mesh.nE,1))\n",
    "j0 = np.zeros((mesh.nE,1))\n",
    "\n",
    "C = mesh.edgeCurl\n",
    "MfMui = mesh.getFaceInnerProduct(1./mu_0)\n",
    "Me = mesh.getEdgeInnerProduct()\n",
    "se_0 = C.T*MfMui*b0\n",
    "se_0 = np.atleast_2d(se_0).T\n",
    "prb_em.fieldsPair = FieldsTDEMIP_e_from_b\n",
    "current = np.zeros_like(prb_em.times)\n",
    "current[0] = 1.\n",
    "timeSteps = prb_em.timeSteps"
   ]
  },
  {
   "cell_type": "code",
   "execution_count": 209,
   "metadata": {
    "collapsed": false
   },
   "outputs": [],
   "source": [
    "def getpetaI(time):   \n",
    "    # TODO: generalize for multiple chargeable bodies\n",
    "    return prb.get_petaImpulse(time, mopt)\n",
    "\n",
    "def getKappa(dt):    \n",
    "    temp = np.ones(mesh.nC)\n",
    "    temp[airind] = 0.\n",
    "    val = prb.get_petaStepon(dt, mopt) + prb.get_Expb(dt, mopt) / dt\n",
    "    return sigmaInf * temp * val\n",
    "\n",
    "def getGamma(dt):\n",
    "    temp = np.ones(mesh.nC)\n",
    "    temp[airind] = 0.    \n",
    "    etas = mopt[1:] \n",
    "    eta = etas.sum()    \n",
    "    val = -eta - prb.get_Expb(dt, mopt) / dt\n",
    "    return sigmaInf * temp * val\n",
    "\n",
    "def MeK(dt):\n",
    "    kappa = getKappa(dt)\n",
    "    return mesh.getEdgeInnerProduct(kappa)      \n",
    "\n",
    "def MeA(dt):\n",
    "    gamma = getGamma(dt)\n",
    "    val = sigmaInf + gamma\n",
    "    return mesh.getEdgeInnerProduct(val)      \n",
    "\n",
    "def MeCnk(n, k):\n",
    "    temp = np.ones(mesh.nC)\n",
    "    temp[airind] = 0.    \n",
    "    tn = prb_em.times[n]\n",
    "    tk = prb_em.times[k]\n",
    "    val = -sigmaInf* temp *getpetaI(tn-tk)\n",
    "    return mesh.getEdgeInnerProduct(val)\n",
    "\n",
    "def getA(tInd):\n",
    "    \"\"\"\n",
    "        :param int tInd: Time index\n",
    "        :rtype: scipy.sparse.csr_matrix\n",
    "        :return: A\n",
    "    \"\"\"\n",
    "    dt = timeSteps[tInd]  \n",
    "    return C.T*MfMui*C + 1./dt * MeA(dt)\n",
    "    \n",
    "def getJpol(tInd, F):\n",
    "    \"\"\"\n",
    "        Computation of polarization currents\n",
    "    \"\"\"\n",
    "    dt = timeSteps[tInd]\n",
    "#     jpol = (dt/2)*MeCnk(tInd+1,tInd)*F[:,'e',tInd]    \n",
    "    jpol = MeK(dt)*F[:,'e',tInd]    \n",
    "    for k in range(tInd): \n",
    "        dt = timeSteps[k]\n",
    "        jpol += (dt/2)*MeCnk(tInd+1,k)*F[:,'e',k]\n",
    "        jpol += (dt/2)*MeCnk(tInd+1,k+1)*F[:,'e',k+1]\n",
    "    return jpol\n",
    "\n",
    "def getRHS(tInd, F, jpoldiff):\n",
    "    dt = timeSteps[tInd]   \n",
    "    dtlast = timeSteps[tInd-1]   \n",
    "    RHS = - 1./ dt * (se_0*(current[tInd+1]-current[tInd])) \\\n",
    "          + 1./ dt * MeA(dtlast) * F[:,'e',tInd] \\\n",
    "          - 1./ dt * jpoldiff\n",
    "    return RHS\n",
    "\n",
    "solverOpts = {}  \n",
    "verbose = True\n",
    "\n",
    "def forward(m, F):\n",
    "    curModel = m\n",
    "    dtFact = None\n",
    "    Ainv   = None\n",
    "    jpol_last= Me*j0\n",
    "    for tInd, dt in enumerate(timeSteps):\n",
    "        if dt != dtFact:\n",
    "            dtFact = dt\n",
    "            if Ainv is not None:\n",
    "                Ainv.clean()\n",
    "            A = getA(tInd)\n",
    "            if verbose: print 'Factoring...   (dt = %e)'% dt\n",
    "            Ainv = Solver(A, **solverOpts)\n",
    "            if verbose: print 'Done'\n",
    "        jpol = getJpol(tInd, F)    \n",
    "        jpoldiff = jpol-jpol_last\n",
    "        rhs = getRHS(tInd, F, jpoldiff)\n",
    "        if verbose: print '    Solving...   (tInd = %d)'% tInd\n",
    "        sol = Ainv * rhs  \n",
    "        sol = np.atleast_2d(sol).T\n",
    "        F[src, 'eSolution', tInd+1] = sol\n",
    "        if verbose: print '    Done...'\n",
    "#         Mej = MeA(dt)*sol + jpol\n",
    "        jpol_last = jpol.copy()\n",
    "    Ainv.clean()"
   ]
  },
  {
   "cell_type": "code",
   "execution_count": 210,
   "metadata": {
    "collapsed": false,
    "scrolled": true
   },
   "outputs": [
    {
     "name": "stdout",
     "output_type": "stream",
     "text": [
      "Factoring...   (dt = 2.500000e-06)\n",
      "Done\n",
      "    Solving...   (tInd = 0)\n",
      "    Done...\n",
      "    Solving...   (tInd = 1)\n",
      "    Done...\n",
      "    Solving...   (tInd = 2)\n",
      "    Done...\n",
      "    Solving...   (tInd = 3)\n",
      "    Done...\n",
      "    Solving...   (tInd = 4)\n",
      "    Done...\n",
      "    Solving...   (tInd = 5)\n",
      "    Done...\n",
      "    Solving...   (tInd = 6)\n",
      "    Done...\n",
      "    Solving...   (tInd = 7)\n",
      "    Done...\n",
      "    Solving...   (tInd = 8)\n",
      "    Done...\n",
      "    Solving...   (tInd = 9)\n",
      "    Done...\n",
      "Factoring...   (dt = 5.000000e-06)\n",
      "Done\n",
      "    Solving...   (tInd = 10)\n",
      "    Done...\n",
      "    Solving...   (tInd = 11)\n",
      "    Done...\n",
      "    Solving...   (tInd = 12)\n",
      "    Done...\n",
      "    Solving...   (tInd = 13)\n",
      "    Done...\n",
      "    Solving...   (tInd = 14)\n",
      "    Done...\n",
      "    Solving...   (tInd = 15)\n",
      "    Done...\n",
      "    Solving...   (tInd = 16)\n",
      "    Done...\n",
      "    Solving...   (tInd = 17)\n",
      "    Done...\n",
      "    Solving...   (tInd = 18)\n",
      "    Done...\n",
      "    Solving...   (tInd = 19)\n",
      "    Done...\n",
      "Factoring...   (dt = 1.000000e-05)\n",
      "Done\n",
      "    Solving...   (tInd = 20)\n",
      "    Done...\n",
      "    Solving...   (tInd = 21)\n",
      "    Done...\n",
      "    Solving...   (tInd = 22)\n",
      "    Done...\n",
      "    Solving...   (tInd = 23)\n",
      "    Done...\n",
      "    Solving...   (tInd = 24)\n",
      "    Done...\n",
      "    Solving...   (tInd = 25)\n",
      "    Done...\n",
      "    Solving...   (tInd = 26)\n",
      "    Done...\n",
      "    Solving...   (tInd = 27)\n",
      "    Done...\n",
      "    Solving...   (tInd = 28)\n",
      "    Done...\n",
      "    Solving...   (tInd = 29)\n",
      "    Done...\n",
      "Factoring...   (dt = 2.000000e-05)\n",
      "Done\n",
      "    Solving...   (tInd = 30)\n",
      "    Done...\n",
      "    Solving...   (tInd = 31)\n",
      "    Done...\n",
      "    Solving...   (tInd = 32)\n",
      "    Done...\n",
      "    Solving...   (tInd = 33)\n",
      "    Done...\n",
      "    Solving...   (tInd = 34)\n",
      "    Done...\n",
      "    Solving...   (tInd = 35)\n",
      "    Done...\n",
      "    Solving...   (tInd = 36)\n",
      "    Done...\n",
      "    Solving...   (tInd = 37)\n",
      "    Done...\n",
      "    Solving...   (tInd = 38)\n",
      "    Done...\n",
      "    Solving...   (tInd = 39)\n",
      "    Done...\n",
      "Factoring...   (dt = 4.000000e-05)\n",
      "Done\n",
      "    Solving...   (tInd = 40)\n",
      "    Done...\n",
      "    Solving...   (tInd = 41)\n",
      "    Done...\n",
      "    Solving...   (tInd = 42)\n",
      "    Done...\n",
      "    Solving...   (tInd = 43)\n",
      "    Done...\n",
      "    Solving...   (tInd = 44)\n",
      "    Done...\n",
      "    Solving...   (tInd = 45)\n",
      "    Done...\n",
      "    Solving...   (tInd = 46)\n",
      "    Done...\n",
      "    Solving...   (tInd = 47)\n",
      "    Done...\n",
      "    Solving...   (tInd = 48)\n",
      "    Done...\n",
      "    Solving...   (tInd = 49)\n",
      "    Done...\n",
      "Factoring...   (dt = 8.000000e-05)\n",
      "Done\n",
      "    Solving...   (tInd = 50)\n",
      "    Done...\n",
      "    Solving...   (tInd = 51)\n",
      "    Done...\n",
      "    Solving...   (tInd = 52)\n",
      "    Done...\n",
      "    Solving...   (tInd = 53)\n",
      "    Done...\n",
      "    Solving...   (tInd = 54)\n",
      "    Done...\n",
      "    Solving...   (tInd = 55)\n",
      "    Done...\n",
      "    Solving...   (tInd = 56)\n",
      "    Done...\n",
      "    Solving...   (tInd = 57)\n",
      "    Done...\n",
      "    Solving...   (tInd = 58)\n",
      "    Done...\n",
      "    Solving...   (tInd = 59)\n",
      "    Done...\n",
      "Factoring...   (dt = 1.600000e-04)\n",
      "Done\n",
      "    Solving...   (tInd = 60)\n",
      "    Done...\n",
      "    Solving...   (tInd = 61)\n",
      "    Done...\n",
      "    Solving...   (tInd = 62)\n",
      "    Done...\n",
      "    Solving...   (tInd = 63)\n",
      "    Done...\n",
      "    Solving...   (tInd = 64)\n",
      "    Done...\n",
      "    Solving...   (tInd = 65)\n",
      "    Done...\n",
      "    Solving...   (tInd = 66)\n",
      "    Done...\n",
      "    Solving...   (tInd = 67)\n",
      "    Done...\n",
      "    Solving...   (tInd = 68)\n",
      "    Done...\n",
      "    Solving...   (tInd = 69)\n",
      "    Done...\n",
      "Factoring...   (dt = 3.200000e-04)\n",
      "Done\n",
      "    Solving...   (tInd = 70)\n",
      "    Done...\n",
      "    Solving...   (tInd = 71)\n",
      "    Done...\n",
      "    Solving...   (tInd = 72)\n",
      "    Done...\n",
      "    Solving...   (tInd = 73)\n",
      "    Done...\n",
      "    Solving...   (tInd = 74)\n",
      "    Done...\n",
      "    Solving...   (tInd = 75)\n",
      "    Done...\n",
      "    Solving...   (tInd = 76)\n",
      "    Done...\n",
      "    Solving...   (tInd = 77)\n",
      "    Done...\n",
      "    Solving...   (tInd = 78)\n",
      "    Done...\n",
      "    Solving...   (tInd = 79)\n",
      "    Done...\n",
      "    Solving...   (tInd = 80)\n",
      "    Done...\n",
      "    Solving...   (tInd = 81)\n",
      "    Done...\n",
      "    Solving...   (tInd = 82)\n",
      "    Done...\n",
      "    Solving...   (tInd = 83)\n",
      "    Done...\n",
      "    Solving...   (tInd = 84)\n",
      "    Done...\n",
      "    Solving...   (tInd = 85)\n",
      "    Done...\n",
      "    Solving...   (tInd = 86)\n",
      "    Done...\n",
      "    Solving...   (tInd = 87)\n",
      "    Done...\n",
      "    Solving...   (tInd = 88)\n",
      "    Done...\n",
      "    Solving...   (tInd = 89)\n",
      "    Done...\n"
     ]
    }
   ],
   "source": [
    "F = prb_em.fieldsPair(mesh, survey)\n",
    "F[src,'eSolution',0] = np.zeros(mesh.nE)\n",
    "forward(True, F)"
   ]
  },
  {
   "cell_type": "code",
   "execution_count": 211,
   "metadata": {
    "collapsed": false
   },
   "outputs": [],
   "source": [
    "dbdt = C*F[src, 'eSolution', :]\n",
    "Pfz = mesh.getInterpolationMat(rxloc, locType=\"Fz\")"
   ]
  },
  {
   "cell_type": "code",
   "execution_count": 212,
   "metadata": {
    "collapsed": false
   },
   "outputs": [],
   "source": [
    "data = Pfz*dbdt"
   ]
  },
  {
   "cell_type": "code",
   "execution_count": 213,
   "metadata": {
    "collapsed": false
   },
   "outputs": [],
   "source": [
    "from EMTD.Utils import hzAnalyticDipoleT, hzAnalyticDipoleT_CC"
   ]
  },
  {
   "cell_type": "code",
   "execution_count": 214,
   "metadata": {
    "collapsed": false
   },
   "outputs": [],
   "source": [
    "Div = prb_em.timeMesh.faceDiv\n",
    "hz = hzAnalyticDipoleT(rxloc[0][0], prb_em.timeMesh.gridFx, 0.01)\n",
    "hzip = hzAnalyticDipoleT_CC(rxloc[0][0], prb_em.timeMesh.gridFx[1:], sigmaInf=0.01, eta=eta, tau=tau, c=c)\n",
    "P = prb_em.timeMesh.getInterpolationMat(prb_em.times[10:])\n",
    "dhzdt = P*Div*hz\n",
    "dhzdtip = P*Div*np.r_[0., hzip]"
   ]
  },
  {
   "cell_type": "code",
   "execution_count": 215,
   "metadata": {
    "collapsed": false
   },
   "outputs": [
    {
     "data": {
      "image/png": "[encoded data removed]",
      "text/plain": [
       "<matplotlib.figure.Figure at 0x7fe143b81610>"
      ]
     },
     "metadata": {},
     "output_type": "display_data"
    }
   ],
   "source": [
    "scale = 1.\n",
    "plt.loglog(prb_em.times[10:], data.flatten()[10:], '.-')\n",
    "plt.loglog(prb_em.times[10:], -data.flatten()[10:], '.-')\n",
    "plt.loglog(prb_em.times[10:], -dhzdtip.flatten()*mu_0*scale, '-')\n",
    "plt.loglog(prb_em.times[10:], dhzdtip.flatten()*mu_0*scale, '-')\n",
    "# plt.loglog(prb_em.times[10:], -dhzdt.flatten()*mu_0)\n",
    "plt.grid(True)"
   ]
  },
  {
   "cell_type": "code",
   "execution_count": null,
   "metadata": {
    "collapsed": true
   },
   "outputs": [],
   "source": []
  },
  {
   "cell_type": "code",
   "execution_count": null,
   "metadata": {
    "collapsed": true
   },
   "outputs": [],
   "source": []
  },
  {
   "cell_type": "code",
   "execution_count": null,
   "metadata": {
    "collapsed": true
   },
   "outputs": [],
   "source": []
  },
  {
   "cell_type": "code",
   "execution_count": null,
   "metadata": {
    "collapsed": true
   },
   "outputs": [],
   "source": []
  },
  {
   "cell_type": "code",
   "execution_count": null,
   "metadata": {
    "collapsed": true
   },
   "outputs": [],
   "source": []
  }
 ],
 "metadata": {
  "anaconda-cloud": {},
  "kernelspec": {
   "display_name": "Python [default]",
   "language": "python",
   "name": "python2"
  },
  "language_info": {
   "codemirror_mode": {
    "name": "ipython",
    "version": 2
   },
   "file_extension": ".py",
   "mimetype": "text/x-python",
   "name": "python",
   "nbconvert_exporter": "python",
   "pygments_lexer": "ipython2",
   "version": "2.7.12"
  }
 },
 "nbformat": 4,
 "nbformat_minor": 1
}
