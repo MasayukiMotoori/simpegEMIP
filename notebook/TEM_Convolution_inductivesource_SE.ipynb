{
 "cells": [
  {
   "cell_type": "code",
   "execution_count": 1,
   "metadata": {},
   "outputs": [],
   "source": [
    "from SimPEG import *\n",
    "from SimPEG import EM\n",
    "from scipy.constants import mu_0\n",
    "import numpy as np\n",
    "import scipy.sparse as sp\n",
    "from simpegEMIP.StretchedExponential import SEInvImpulseProblem, SESurvey\n",
    "import matplotlib.pyplot as plt\n",
    "from pymatsolver import PardisoSolver\n",
    "from simpegem1d import DigFilter\n",
    "%matplotlib inline\n",
    "\n",
    "def ColeColePelton(f, sigmaInf, eta, tau, c):\n",
    "    w = 2*np.pi*f\n",
    "    return sigmaInf*(1 - eta/(1 + (1-eta)*(1j*w*tau)**c))\n",
    "\n",
    "def ColeColeSeigel(f, sigmaInf, eta, tau, c):\n",
    "    w = 2*np.pi*f\n",
    "    return sigmaInf*(1 - eta/(1 + (1j*w*tau)**c))\n",
    "time = np.logspace(-6,np.log10(0.01), 41)\n",
    "# plt.loglog(time, true, 'k', lw=1)\n",
    "# plt.loglog(time, approx, 'r.')\n",
    "# time = np.logspace(-3,np.log10(4), 41)\n",
    "wt, tbase, omega_int = DigFilter.setFrequency(time)\n",
    "frequency = omega_int / (2*np.pi)\n",
    "siginf, eta0, tau0, c0 = 1., 0.8, 0.003, 0.6\n",
    "sigma = ColeColeSeigel(frequency, siginf, eta0, tau0, c0)\n",
    "sigTCole = DigFilter.transFiltImpulse(sigma, wt, tbase, omega_int, time, tol=1e-12)"
   ]
  },
  {
   "cell_type": "code",
   "execution_count": 2,
   "metadata": {},
   "outputs": [],
   "source": [
    "wires = Maps.Wires(('eta', 1), ('tau', 1), ('c', 1))\n",
    "taumap = Maps.ExpMap(nP=1)*wires.tau\n",
    "survey = SESurvey()\n",
    "dtrue = -sigTCole\n",
    "survey.dobs = dtrue\n",
    "m1D = Mesh.TensorMesh([np.ones(3)])\n",
    "prob = SEInvImpulseProblem(m1D, etaMap = wires.eta, tauMap = taumap, cMap=wires.c)\n",
    "prob.time = time\n",
    "prob.pair(survey)\n",
    "m0 = np.r_[eta0, np.log(tau0), c0]"
   ]
  },
  {
   "cell_type": "code",
   "execution_count": 5,
   "metadata": {},
   "outputs": [
    {
     "name": "stdout",
     "output_type": "stream",
     "text": [
      "SimPEG.DataMisfit.l2_DataMisfit assigning default eps of 1e-5 * ||dobs||\n",
      "\n",
      "    SimPEG.InvProblem is setting bfgsH0 to the inverse of the eval2Deriv.\n",
      "    ***Done using same Solver and solverOpts as the problem***\n",
      "model has any nan: 0\n",
      "=============================== Projected GNCG ===============================\n",
      "  #     beta     phi_d     phi_m       f      |proj(x-g)-x|  LS    Comment   \n",
      "-----------------------------------------------------------------------------\n",
      "x0 has any nan: 0\n",
      "   0  1.00e+00  4.66e+03  1.74e+01  4.68e+03    1.20e+05      0              \n",
      "   1  1.00e+00  8.29e+02  1.73e+01  8.47e+02    5.48e+03      0              \n",
      "   2  1.00e+00  2.23e+02  1.89e+01  2.42e+02    4.11e+03      0   Skip BFGS  \n",
      "   3  1.00e+00  2.13e+02  1.88e+01  2.32e+02    6.76e+01      0              \n",
      "   4  1.00e+00  2.13e+02  1.87e+01  2.32e+02    3.89e+00      0   Skip BFGS  \n",
      "   5  1.00e+00  2.13e+02  1.87e+01  2.32e+02    2.59e-02      0   Skip BFGS  \n",
      "------------------------- STOP! -------------------------\n",
      "0 : |fc-fOld| = 1.0228e-05 <= tolF*(1+|f0|) = 4.6767e-17\n",
      "0 : |xc-x_last| = 2.4241e-05 <= tolX*(1+|x0|) = 6.8946e-20\n",
      "0 : |proj(x-g)-x|    = 2.5906e-02 <= tolG          = 1.0000e-20\n",
      "0 : |proj(x-g)-x|    = 2.5906e-02 <= 1e3*eps       = 1.0000e-17\n",
      "1 : maxIter   =       5    <= iter          =      5\n",
      "------------------------- DONE! -------------------------\n"
     ]
    }
   ],
   "source": [
    "perc = 0.01\n",
    "dmisfitpeta = DataMisfit.l2_DataMisfit(survey)\n",
    "dmisfitpeta.W = 1/(abs(survey.dobs)*perc)\n",
    "reg = Regularization.SimpleSmall(m1D)\n",
    "opt = Optimization.ProjectedGNCG(maxIter = 5)\n",
    "invProb = InvProblem.BaseInvProblem(dmisfitpeta, reg, opt)\n",
    "# Create an inversion object\n",
    "target = Directives.TargetMisfit()\n",
    "betaSch = Directives.BetaSchedule(coolingFactor=1, coolingRate=1)\n",
    "# invProb.beta = 0.\n",
    "inv = Inversion.BaseInversion(invProb, directiveList=[betaSch, target])\n",
    "reg.mref = 0.*m0\n",
    "prob.counter = opt.counter = Utils.Counter()\n",
    "opt.LSshorten = 0.5\n",
    "opt.remember('xc')\n",
    "opt.tolX = 1e-20\n",
    "opt.tolF = 1e-20\n",
    "opt.tolG = 1e-20\n",
    "opt.eps = 1e-20\n",
    "# opt.lower = 0.\n",
    "mopt = inv.run(m0)"
   ]
  },
  {
   "cell_type": "code",
   "execution_count": 6,
   "metadata": {},
   "outputs": [],
   "source": [
    "def ColeSEImpulse(time, eta, tau, c):    \n",
    "    return eta*c/time*((time/tau)**c)*np.exp(-(time/tau)**c)\n",
    "def ColeSEImpulseApprox(time, eta, tau, c):    \n",
    "    m = eta*c/(tau**c)    \n",
    "    peta = m*time**(c-1.) * (1. - (time/tau)**c )  \n",
    "    return peta"
   ]
  },
  {
   "cell_type": "code",
   "execution_count": 8,
   "metadata": {},
   "outputs": [
    {
     "name": "stdout",
     "output_type": "stream",
     "text": [
      "True      eta, tau and c = 8e-01, 3e-03 and 0.6\n",
      "Initial   eta, tau and c = 8e-01, 3e-03 and 0.6\n",
      "Estimated eta, tau and c = 7e-01, 2e-03 and 0.6\n"
     ]
    },
    {
     "data": {
      "text/plain": [
       "Text(0,0.5,'Resistivity (ohm-m)')"
      ]
     },
     "execution_count": 8,
     "metadata": {},
     "output_type": "execute_result"
    },
    {
     "data": {
      "image/png": "[encoded data removed]",
      "text/plain": [
       "<matplotlib.figure.Figure at 0x117e90518>"
      ]
     },
     "metadata": {},
     "output_type": "display_data"
    }
   ],
   "source": [
    "nskip=1\n",
    "plt.loglog(prob.time, survey.dobs, 'k', lw=1)\n",
    "plt.loglog(prob.time, invProb.dpred, 'r.')\n",
    "vmin, vmax = survey.dobs.min(), survey.dobs.max()\n",
    "plt.ylim(vmin, vmax)\n",
    "# legend((\"pred\", \"obs\"))\n",
    "print ((\"True      eta, tau and c = %.e, %.e and %3.1f\")%(eta0, tau0, c0))\n",
    "print ((\"Initial   eta, tau and c = %.e, %.e and %3.1f\")%(eta0, tau0, c0))\n",
    "print ((\"Estimated eta, tau and c = %.e, %.e and %3.1f\")%(mopt[0], np.exp(mopt[1]), mopt[2]))\n",
    "\n",
    "plt.xlabel(\"Time (s)\")\n",
    "plt.ylabel(\"Resistivity (ohm-m)\")"
   ]
  },
  {
   "cell_type": "code",
   "execution_count": 9,
   "metadata": {},
   "outputs": [
    {
     "data": {
      "text/plain": [
       "[<matplotlib.lines.Line2D at 0x11a335cf8>]"
      ]
     },
     "execution_count": 9,
     "metadata": {},
     "output_type": "execute_result"
    },
    {
     "data": {
      "image/png": "[encoded data removed]",
      "text/plain": [
       "<matplotlib.figure.Figure at 0x11a3a3390>"
      ]
     },
     "metadata": {},
     "output_type": "display_data"
    }
   ],
   "source": [
    "plt.semilogx(prob.time, ColeSEImpulseApprox(prob.time, mopt[0], np.exp(mopt[1]), mopt[2]), 'b-')\n",
    "plt.semilogx(prob.time, ColeSEImpulse(prob.time, mopt[0], np.exp(mopt[1]), mopt[2]), 'b.')\n"
   ]
  },
  {
   "cell_type": "code",
   "execution_count": 28,
   "metadata": {},
   "outputs": [],
   "source": [
    "eta, tau, c = mopt[0], np.exp(mopt[1]), mopt[2]"
   ]
  },
  {
   "cell_type": "code",
   "execution_count": 29,
   "metadata": {},
   "outputs": [
    {
     "name": "stdout",
     "output_type": "stream",
     "text": [
      "0.690075646544855 0.002341720023417556 0.5747786790159198\n"
     ]
    }
   ],
   "source": [
    "print (eta, tau, c)"
   ]
  },
  {
   "cell_type": "code",
   "execution_count": 11,
   "metadata": {},
   "outputs": [],
   "source": [
    "cs, ncx, ncz, npad = 5., 25, 20, 18\n",
    "hx = [(cs,ncx), (cs,npad,1.3)]\n",
    "hz = [(cs,npad,-1.3), (cs,ncz), (cs,npad,1.3)]\n",
    "mesh = Mesh.CylMesh([hx,1,hz], '00C')    \n",
    "sigmaInf = np.ones(mesh.nC)* 0.01\n",
    "airind = mesh.gridCC[:,2]>0.\n",
    "sigmaInf[airind] = 1e-8"
   ]
  },
  {
   "cell_type": "code",
   "execution_count": 12,
   "metadata": {},
   "outputs": [],
   "source": [
    "# timeSteps = np.r_[np.ones(10)*1e-5, np.ones(10)*5e-5, np.ones(10)*1e-4, np.ones(10)*5e-4, ]\n",
    "# times = np.r_[0., np.cumsum(timeSteps)]\n",
    "# nstep = len(timeSteps)\n",
    "# mopt[1:] = 0."
   ]
  },
  {
   "cell_type": "code",
   "execution_count": 13,
   "metadata": {},
   "outputs": [],
   "source": [
    "rxloc = np.array([[50.5, 0., 0.]])\n",
    "srcloc = np.array([[0., 0., 0.]])"
   ]
  },
  {
   "cell_type": "code",
   "execution_count": 14,
   "metadata": {},
   "outputs": [],
   "source": [
    "rx = EM.TDEM.Rx.Point_dbdt(rxloc, np.logspace(-4, -2.5, 11), 'z')\n",
    "src = EM.TDEM.Src.MagDipole([rx], loc=srcloc)\n",
    "survey = EM.TDEM.Survey([src])\n",
    "prb_em = EM.TDEM.Problem3D_b(mesh, sigmaMap=Maps.IdentityMap(mesh))\n",
    "prb_em.timeSteps = [(1e-06, 5), (2.5e-06, 5), (5e-06, 5), (1e-05, 10), (2e-05, 10), (4e-05, 10), (8e-05, 10), (1.6e-04, 10), (3.2e-04, 20) ]\n",
    "Solver = PardisoSolver\n",
    "survey.pair(prb_em)"
   ]
  },
  {
   "cell_type": "code",
   "execution_count": 15,
   "metadata": {},
   "outputs": [],
   "source": [
    "from SimPEG.EM.TDEM import Fields3D_e\n",
    "class FieldsTDEMIP_e_from_b(Fields3D_e):\n",
    "    \"\"\"Fancy Field Storage for a TDEM survey.\"\"\"\n",
    "    knownFields = {'eSolution': 'E'}\n",
    "    aliasFields = {\n",
    "                    'e': ['eSolution', 'E', '_e'],\n",
    "                    'b': ['eSolution', 'F', '_b'],\n",
    "                    'dbdt': ['eSolution', 'F', '_dbdt'],\n",
    "                  }    \n",
    "    def startup(self):\n",
    "        pass"
   ]
  },
  {
   "cell_type": "code",
   "execution_count": 16,
   "metadata": {},
   "outputs": [],
   "source": [
    "b0 = src.bInitial(prb_em)\n",
    "e0 = np.zeros((mesh.nE,1))\n",
    "j0 = np.zeros((mesh.nE,1))\n",
    "\n",
    "C = mesh.edgeCurl\n",
    "MfMui = mesh.getFaceInnerProduct(1./mu_0)\n",
    "Me = mesh.getEdgeInnerProduct()\n",
    "se_0 = C.T*MfMui*b0\n",
    "se_0 = np.atleast_2d(se_0).T\n",
    "prb_em.fieldsPair = FieldsTDEMIP_e_from_b\n",
    "current = np.zeros_like(prb_em.times)\n",
    "current[0] = 1.\n",
    "timeSteps = prb_em.timeSteps"
   ]
  },
  {
   "cell_type": "code",
   "execution_count": 19,
   "metadata": {},
   "outputs": [],
   "source": [
    "def getpetaI(time):   \n",
    "    m = eta*c/(tau**c)    \n",
    "    peta = m*time**(c-1.)*np.exp(-(time/tau)**c)\n",
    "    return peta\n",
    "                                             \n",
    "def getKappa(dt):    \n",
    "    m = eta*c/(tau**c)\n",
    "    kappa =  m / (c+1.) * (dt) ** c - m / ((2*c+1.) * tau**c ) * (dt) ** (2*c)\n",
    "    return  - sigmaInf * kappa\n",
    "\n",
    "def getGamma(dt):\n",
    "    m = eta*c/(tau**c)\n",
    "    gamma = m / (c*(c+1.)) * (dt)** c - m / (2*c*(2*c+1.) * tau**c ) * (dt) ** (2*c)\n",
    "    return - sigmaInf * gamma\n",
    "\n",
    "def MeK(dt):\n",
    "    kappa = getKappa(dt)\n",
    "    return mesh.getEdgeInnerProduct(kappa)      \n",
    "\n",
    "def MeA(dt):\n",
    "    gamma = getGamma(dt)\n",
    "    val = sigmaInf + gamma\n",
    "    return mesh.getEdgeInnerProduct(val)      \n",
    "\n",
    "def MeCnk(n, k):\n",
    "    temp = np.ones(mesh.nC)\n",
    "    temp[airind] = 0.    \n",
    "    tn = prb_em.times[n]\n",
    "    tk = prb_em.times[k]\n",
    "    val = -sigmaInf* temp *getpetaI(tn-tk)\n",
    "    return mesh.getEdgeInnerProduct(val)\n",
    "\n",
    "def getA(tInd):\n",
    "    \"\"\"\n",
    "        :param int tInd: Time index\n",
    "        :rtype: scipy.sparse.csr_matrix\n",
    "        :return: A\n",
    "    \"\"\"\n",
    "    dt = timeSteps[tInd]  \n",
    "    return C.T*MfMui*C + 1./dt * MeA(dt)\n",
    "    \n",
    "def getJpol(tInd, F):\n",
    "    \"\"\"\n",
    "        Computation of polarization currents\n",
    "    \"\"\"\n",
    "    dt = timeSteps[tInd]\n",
    "#     jpol = (dt/2)*MeCnk(tInd+1,tInd)*F[:,'e',tInd]    \n",
    "    jpol = MeK(dt)*F[:,'e',tInd]    \n",
    "    for k in range(tInd): \n",
    "        dt = timeSteps[k]\n",
    "        jpol += (dt/2)*MeCnk(tInd+1,k)*F[:,'e',k]\n",
    "        jpol += (dt/2)*MeCnk(tInd+1,k+1)*F[:,'e',k+1]\n",
    "    return jpol\n",
    "\n",
    "def getRHS(tInd, F, jpoldiff):\n",
    "    dt = timeSteps[tInd]   \n",
    "    dtlast = timeSteps[tInd-1]   \n",
    "    RHS = - 1./ dt * (se_0*(current[tInd+1]-current[tInd])) \\\n",
    "          + 1./ dt * MeA(dtlast) * F[:,'e',tInd] \\\n",
    "          - 1./ dt * jpoldiff\n",
    "    return RHS\n",
    "\n",
    "solverOpts = {}  \n",
    "verbose = True\n",
    "\n",
    "def forward(m, F):\n",
    "    curModel = m\n",
    "    dtFact = None\n",
    "    Ainv   = None\n",
    "    jpol_last= Me*j0\n",
    "    for tInd, dt in enumerate(timeSteps):\n",
    "        if dt != dtFact:\n",
    "            dtFact = dt\n",
    "            if Ainv is not None:\n",
    "                Ainv.clean()\n",
    "            A = getA(tInd)\n",
    "            if verbose: print ('Factoring...   (dt = %e)'% dt)\n",
    "            Ainv = Solver(A, **solverOpts)\n",
    "            if verbose: print ('Done')\n",
    "        jpol = getJpol(tInd, F)    \n",
    "        jpoldiff = jpol-jpol_last\n",
    "        rhs = getRHS(tInd, F, jpoldiff)\n",
    "        if verbose: print ('    Solving...   (tInd = %d)'% tInd)\n",
    "        sol = Ainv * rhs  \n",
    "        sol = np.atleast_2d(sol).T\n",
    "        F[src, 'eSolution', tInd+1] = sol\n",
    "        if verbose: print ('    Done...')\n",
    "#         Mej = MeA(dt)*sol + jpol\n",
    "        jpol_last = jpol.copy()\n",
    "    Ainv.clean()"
   ]
  },
  {
   "cell_type": "code",
   "execution_count": 20,
   "metadata": {
    "scrolled": false
   },
   "outputs": [
    {
     "name": "stdout",
     "output_type": "stream",
     "text": [
      "Factoring...   (dt = 1.000000e-06)\n",
      "Done\n",
      "    Solving...   (tInd = 0)\n",
      "    Done...\n",
      "    Solving...   (tInd = 1)\n",
      "    Done...\n",
      "    Solving...   (tInd = 2)\n",
      "    Done...\n",
      "    Solving...   (tInd = 3)\n",
      "    Done...\n",
      "    Solving...   (tInd = 4)\n",
      "    Done...\n",
      "Factoring...   (dt = 2.500000e-06)\n",
      "Done\n",
      "    Solving...   (tInd = 5)\n",
      "    Done...\n",
      "    Solving...   (tInd = 6)\n",
      "    Done...\n",
      "    Solving...   (tInd = 7)\n",
      "    Done...\n",
      "    Solving...   (tInd = 8)\n",
      "    Done...\n",
      "    Solving...   (tInd = 9)\n",
      "    Done...\n",
      "Factoring...   (dt = 5.000000e-06)\n",
      "Done\n",
      "    Solving...   (tInd = 10)\n",
      "    Done...\n",
      "    Solving...   (tInd = 11)\n",
      "    Done...\n",
      "    Solving...   (tInd = 12)\n",
      "    Done...\n",
      "    Solving...   (tInd = 13)\n",
      "    Done...\n",
      "    Solving...   (tInd = 14)\n",
      "    Done...\n",
      "Factoring...   (dt = 1.000000e-05)\n",
      "Done\n",
      "    Solving...   (tInd = 15)\n",
      "    Done...\n",
      "    Solving...   (tInd = 16)\n",
      "    Done...\n",
      "    Solving...   (tInd = 17)\n",
      "    Done...\n",
      "    Solving...   (tInd = 18)\n",
      "    Done...\n",
      "    Solving...   (tInd = 19)\n",
      "    Done...\n",
      "    Solving...   (tInd = 20)\n",
      "    Done...\n",
      "    Solving...   (tInd = 21)\n",
      "    Done...\n",
      "    Solving...   (tInd = 22)\n",
      "    Done...\n",
      "    Solving...   (tInd = 23)\n",
      "    Done...\n",
      "    Solving...   (tInd = 24)\n",
      "    Done...\n",
      "Factoring...   (dt = 2.000000e-05)\n",
      "Done\n",
      "    Solving...   (tInd = 25)\n",
      "    Done...\n",
      "    Solving...   (tInd = 26)\n",
      "    Done...\n",
      "    Solving...   (tInd = 27)\n",
      "    Done...\n",
      "    Solving...   (tInd = 28)\n",
      "    Done...\n",
      "    Solving...   (tInd = 29)\n",
      "    Done...\n",
      "    Solving...   (tInd = 30)\n",
      "    Done...\n",
      "    Solving...   (tInd = 31)\n",
      "    Done...\n",
      "    Solving...   (tInd = 32)\n",
      "    Done...\n",
      "    Solving...   (tInd = 33)\n",
      "    Done...\n",
      "    Solving...   (tInd = 34)\n",
      "    Done...\n",
      "Factoring...   (dt = 4.000000e-05)\n",
      "Done\n",
      "    Solving...   (tInd = 35)\n",
      "    Done...\n",
      "    Solving...   (tInd = 36)\n",
      "    Done...\n",
      "    Solving...   (tInd = 37)\n",
      "    Done...\n",
      "    Solving...   (tInd = 38)\n",
      "    Done...\n",
      "    Solving...   (tInd = 39)\n",
      "    Done...\n",
      "    Solving...   (tInd = 40)\n",
      "    Done...\n",
      "    Solving...   (tInd = 41)\n",
      "    Done...\n",
      "    Solving...   (tInd = 42)\n",
      "    Done...\n",
      "    Solving...   (tInd = 43)\n",
      "    Done...\n",
      "    Solving...   (tInd = 44)\n",
      "    Done...\n",
      "Factoring...   (dt = 8.000000e-05)\n",
      "Done\n",
      "    Solving...   (tInd = 45)\n",
      "    Done...\n",
      "    Solving...   (tInd = 46)\n",
      "    Done...\n",
      "    Solving...   (tInd = 47)\n",
      "    Done...\n",
      "    Solving...   (tInd = 48)\n",
      "    Done...\n",
      "    Solving...   (tInd = 49)\n",
      "    Done...\n",
      "    Solving...   (tInd = 50)\n",
      "    Done...\n",
      "    Solving...   (tInd = 51)\n",
      "    Done...\n",
      "    Solving...   (tInd = 52)\n",
      "    Done...\n",
      "    Solving...   (tInd = 53)\n",
      "    Done...\n",
      "    Solving...   (tInd = 54)\n",
      "    Done...\n",
      "Factoring...   (dt = 1.600000e-04)\n",
      "Done\n",
      "    Solving...   (tInd = 55)\n",
      "    Done...\n",
      "    Solving...   (tInd = 56)\n",
      "    Done...\n",
      "    Solving...   (tInd = 57)\n",
      "    Done...\n",
      "    Solving...   (tInd = 58)\n",
      "    Done...\n",
      "    Solving...   (tInd = 59)\n",
      "    Done...\n",
      "    Solving...   (tInd = 60)\n",
      "    Done...\n",
      "    Solving...   (tInd = 61)\n",
      "    Done...\n",
      "    Solving...   (tInd = 62)\n",
      "    Done...\n",
      "    Solving...   (tInd = 63)\n",
      "    Done...\n",
      "    Solving...   (tInd = 64)\n",
      "    Done...\n",
      "Factoring...   (dt = 3.200000e-04)\n",
      "Done\n",
      "    Solving...   (tInd = 65)\n",
      "    Done...\n",
      "    Solving...   (tInd = 66)\n",
      "    Done...\n",
      "    Solving...   (tInd = 67)\n",
      "    Done...\n",
      "    Solving...   (tInd = 68)\n",
      "    Done...\n",
      "    Solving...   (tInd = 69)\n",
      "    Done...\n",
      "    Solving...   (tInd = 70)\n",
      "    Done...\n",
      "    Solving...   (tInd = 71)\n",
      "    Done...\n",
      "    Solving...   (tInd = 72)\n",
      "    Done...\n",
      "    Solving...   (tInd = 73)\n",
      "    Done...\n",
      "    Solving...   (tInd = 74)\n",
      "    Done...\n",
      "    Solving...   (tInd = 75)\n",
      "    Done...\n",
      "    Solving...   (tInd = 76)\n",
      "    Done...\n",
      "    Solving...   (tInd = 77)\n",
      "    Done...\n",
      "    Solving...   (tInd = 78)\n",
      "    Done...\n",
      "    Solving...   (tInd = 79)\n",
      "    Done...\n",
      "    Solving...   (tInd = 80)\n",
      "    Done...\n",
      "    Solving...   (tInd = 81)\n",
      "    Done...\n",
      "    Solving...   (tInd = 82)\n",
      "    Done...\n",
      "    Solving...   (tInd = 83)\n",
      "    Done...\n",
      "    Solving...   (tInd = 84)\n",
      "    Done...\n"
     ]
    }
   ],
   "source": [
    "F = prb_em.fieldsPair(mesh, survey)\n",
    "F[src,'eSolution',0] = np.zeros(mesh.nE)\n",
    "forward(True, F)"
   ]
  },
  {
   "cell_type": "code",
   "execution_count": 21,
   "metadata": {},
   "outputs": [],
   "source": [
    "dbdt = C*F[src, 'eSolution', :]\n",
    "Pfz = mesh.getInterpolationMat(rxloc, locType=\"Fz\")"
   ]
  },
  {
   "cell_type": "code",
   "execution_count": 22,
   "metadata": {},
   "outputs": [],
   "source": [
    "data = Pfz*dbdt"
   ]
  },
  {
   "cell_type": "code",
   "execution_count": 23,
   "metadata": {},
   "outputs": [
    {
     "name": "stdout",
     "output_type": "stream",
     "text": [
      "WARNING: h5py unavailable\n"
     ]
    }
   ],
   "source": [
    "from EMTD.Utils import hzAnalyticDipoleT, hzAnalyticDipoleT_CC"
   ]
  },
  {
   "cell_type": "code",
   "execution_count": 24,
   "metadata": {},
   "outputs": [],
   "source": [
    "Div = prb_em.timeMesh.faceDiv\n",
    "hz = hzAnalyticDipoleT(rxloc[0][0], prb_em.timeMesh.gridFx, 0.01)\n",
    "hzip = hzAnalyticDipoleT_CC(rxloc[0][0], prb_em.timeMesh.gridFx[1:], sigmaInf=0.01, eta=eta0, tau=tau0, c=c0, model=\"Seigel\")\n",
    "P = prb_em.timeMesh.getInterpolationMat(prb_em.times[10:])\n",
    "dhzdt = P*Div*hz\n",
    "dhzdtip = P*Div*np.r_[0., hzip]"
   ]
  },
  {
   "cell_type": "code",
   "execution_count": 25,
   "metadata": {},
   "outputs": [
    {
     "data": {
      "image/png": "[encoded data removed]",
      "text/plain": [
       "<matplotlib.figure.Figure at 0x125528c50>"
      ]
     },
     "metadata": {},
     "output_type": "display_data"
    }
   ],
   "source": [
    "scale = 1.\n",
    "plt.loglog(prb_em.times[10:], data.flatten()[10:], '.-')\n",
    "plt.loglog(prb_em.times[10:], -data.flatten()[10:], '.-')\n",
    "plt.loglog(prb_em.times[10:], -dhzdtip.flatten()*mu_0*scale, '-')\n",
    "plt.loglog(prb_em.times[10:], dhzdtip.flatten()*mu_0*scale, '-')\n",
    "# plt.loglog(prb_em.times[10:], -dhzdt.flatten()*mu_0)\n",
    "plt.grid(True)"
   ]
  },
  {
   "cell_type": "code",
   "execution_count": 27,
   "metadata": {},
   "outputs": [
    {
     "name": "stdout",
     "output_type": "stream",
     "text": [
      "0.690075646544855 0.002341720023417556 0.5747786790159198\n"
     ]
    }
   ],
   "source": [
    "print (eta, tau, c)"
   ]
  },
  {
   "cell_type": "code",
   "execution_count": 26,
   "metadata": {},
   "outputs": [
    {
     "data": {
      "text/plain": [
       "array([[-1.47123263e-14],\n",
       "       [-2.91606326e-14],\n",
       "       [-4.36793957e-14],\n",
       "       ...,\n",
       "       [-6.02897974e-09],\n",
       "       [-5.61635669e-09],\n",
       "       [-4.28253903e-09]])"
      ]
     },
     "execution_count": 26,
     "metadata": {},
     "output_type": "execute_result"
    }
   ],
   "source": [
    "F[src,'e',1]"
   ]
  },
  {
   "cell_type": "code",
   "execution_count": null,
   "metadata": {},
   "outputs": [],
   "source": [
    "se_0"
   ]
  },
  {
   "cell_type": "code",
   "execution_count": null,
   "metadata": {},
   "outputs": [],
   "source": [
    "MfMui.diagonal()"
   ]
  }
 ],
 "metadata": {
  "anaconda-cloud": {},
  "kernelspec": {
   "display_name": "Python 3",
   "language": "python",
   "name": "python3"
  },
  "language_info": {
   "codemirror_mode": {
    "name": "ipython",
    "version": 3
   },
   "file_extension": ".py",
   "mimetype": "text/x-python",
   "name": "python",
   "nbconvert_exporter": "python",
   "pygments_lexer": "ipython3",
   "version": "3.6.4"
  }
 },
 "nbformat": 4,
 "nbformat_minor": 1
}
