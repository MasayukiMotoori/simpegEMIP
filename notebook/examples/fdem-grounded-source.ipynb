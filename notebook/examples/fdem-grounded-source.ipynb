{
 "cells": [
  {
   "cell_type": "code",
   "execution_count": 1,
   "metadata": {},
   "outputs": [],
   "source": [
    "import matplotlib.pyplot as plt\n",
    "import numpy as np\n",
    "from pymatsolver import Pardiso\n",
    "from SimPEG import Mesh, EM, Utils\n",
    "from simpegEMIP.FDEM import Problem3D_e\n",
    "from SimPEG.EM import FDEM\n",
    "from SimPEG import Mesh\n",
    "import numpy as np"
   ]
  },
  {
   "cell_type": "markdown",
   "metadata": {},
   "source": [
    "# Step1: 3D Mesh"
   ]
  },
  {
   "cell_type": "code",
   "execution_count": 2,
   "metadata": {},
   "outputs": [],
   "source": [
    "# Cell sizes\n",
    "csx, csy, csz = 50., 50., 50\n",
    "# Number of core cells in each direction\n",
    "ncx, ncy, ncz = 41, 31, 21\n",
    "# Number of padding cells to add in each direction\n",
    "npad = 5 # Deniz: you need to increase this considering diffusion distance say 10\n",
    "# Vectors of cell lengths in each direction with padding\n",
    "hx = [(csx, npad, -1.5), (csx, ncx), (csx, npad, 1.5)]\n",
    "hy = [(csy, npad, -1.5), (csy, ncy), (csy, npad, 1.5)]\n",
    "hz = [(csz, npad, -1.5), (csz, ncz), (csy, npad, 1.5)]\n",
    "# Create mesh and center it\n",
    "mesh = Mesh.TensorMesh([hx, hy, hz], x0=\"CCC\")"
   ]
  },
  {
   "cell_type": "markdown",
   "metadata": {},
   "source": [
    "# Step2: Generate models ($\\sigma_{\\infty}$, $\\eta$, $\\tau$, $c$)"
   ]
  },
  {
   "cell_type": "code",
   "execution_count": 3,
   "metadata": {},
   "outputs": [],
   "source": [
    "p0 = np.array([-100, -200, -100])\n",
    "p1 = np.array([100, 200, -200])\n",
    "inds = Utils.ModelBuilder.getIndicesBlock(p0, p1, mesh.gridCC)\n",
    "sigmaInf = np.ones(mesh.nC) * 1e-8\n",
    "sigmaInf[mesh.gridCC[:,2]<0.] = 0.1\n",
    "eta = np.ones(mesh.nC) * 0.\n",
    "tau = np.ones(mesh.nC) * 1e-3\n",
    "c = np.ones(mesh.nC)\n",
    "eta[inds] = 0.1\n",
    "tau[inds] = 1.\n",
    "c[inds] = 0.5"
   ]
  },
  {
   "cell_type": "code",
   "execution_count": 4,
   "metadata": {},
   "outputs": [
    {
     "data": {
      "image/png": "[encoded data removed]",
      "text/plain": [
       "<Figure size 432x288 with 2 Axes>"
      ]
     },
     "metadata": {
      "needs_background": "light"
     },
     "output_type": "display_data"
    }
   ],
   "source": [
    "out = mesh.plotSlice(c, grid=True, normal='X')\n",
    "plt.colorbar(out[0])\n",
    "plt.title(\"Chargeability (V/V)\")\n",
    "plt.gca().set_aspect(1)"
   ]
  },
  {
   "cell_type": "markdown",
   "metadata": {},
   "source": [
    "# Step3: Generate survey and run simulation"
   ]
  },
  {
   "cell_type": "code",
   "execution_count": 5,
   "metadata": {},
   "outputs": [],
   "source": [
    "x = np.linspace(-400, 400, 21)\n",
    "y = np.linspace(-400, 400, 21)\n",
    "rx_locations = Utils.ndgrid(x, y, np.r_[0.])\n",
    "src_locations = np.array(\n",
    "    [[-300, 0, 0],[300, 0, 0]]\n",
    ")"
   ]
  },
  {
   "cell_type": "code",
   "execution_count": 6,
   "metadata": {},
   "outputs": [
    {
     "data": {
      "image/png": "[encoded data removed]",
      "text/plain": [
       "<Figure size 432x288 with 1 Axes>"
      ]
     },
     "metadata": {
      "needs_background": "light"
     },
     "output_type": "display_data"
    }
   ],
   "source": [
    "plt.plot(rx_locations[:,0], rx_locations[:,1], 'k.')\n",
    "plt.plot(src_locations[:,0], src_locations[:,1], 'r-')\n",
    "plt.gca().set_aspect(1)"
   ]
  },
  {
   "cell_type": "code",
   "execution_count": 7,
   "metadata": {},
   "outputs": [],
   "source": [
    "rx_r = FDEM.Rx.Point_e(rx_locations, orientation='x', component='real')\n",
    "rx_i = FDEM.Rx.Point_e(rx_locations, orientation='x', component='imag')\n",
    "src = FDEM.Src.LineCurrent([rx_r, rx_i], freq=1., loc=src_locations)\n",
    "survey = FDEM.Survey([src])\n",
    "problem = Problem3D_e(\n",
    "    mesh, \n",
    "    sigmaInf=sigmaInf, eta=eta, tau=tau, c=c,\n",
    "    Solver=Pardiso\n",
    ")\n",
    "problem.pair(survey)"
   ]
  },
  {
   "cell_type": "code",
   "execution_count": null,
   "metadata": {},
   "outputs": [
    {
     "name": "stderr",
     "output_type": "stream",
     "text": [
      "/Users/sgkang/Projects/simpeg/SimPEG/Props.py:400: UserWarning: Cannot add model as there are no active mappings, choose from: ['cMap', 'etaMap', 'hMap', 'muMap', 'muiMap', 'rhoMap', 'sigmaInfMap', 'sigmaMap', 'tauMap']\n",
      "  \"', '\".join(self._all_map_names)\n"
     ]
    }
   ],
   "source": [
    "data = survey.dpred([])"
   ]
  },
  {
   "cell_type": "code",
   "execution_count": null,
   "metadata": {},
   "outputs": [],
   "source": [
    "Utils.plot2Ddata(rx_locations, data.reshape((441, 2), order='F')[:,0])"
   ]
  },
  {
   "cell_type": "code",
   "execution_count": null,
   "metadata": {},
   "outputs": [],
   "source": [
    "Utils.plot2Ddata(rx_locations, data.reshape((441, 2), order='F')[:,1])"
   ]
  }
 ],
 "metadata": {
  "kernelspec": {
   "display_name": "Python 3",
   "language": "python",
   "name": "python3"
  },
  "language_info": {
   "codemirror_mode": {
    "name": "ipython",
    "version": 3
   },
   "file_extension": ".py",
   "mimetype": "text/x-python",
   "name": "python",
   "nbconvert_exporter": "python",
   "pygments_lexer": "ipython3",
   "version": "3.7.3"
  }
 },
 "nbformat": 4,
 "nbformat_minor": 2
}
