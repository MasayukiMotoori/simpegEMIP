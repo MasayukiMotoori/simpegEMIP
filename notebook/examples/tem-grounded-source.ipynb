{
 "cells": [
  {
   "cell_type": "code",
   "execution_count": 1,
   "metadata": {},
   "outputs": [],
   "source": [
    "from SimPEG import Mesh, EM, Utils\n",
    "import matplotlib.pyplot as plt\n",
    "import numpy as np\n",
    "from simpegEMIP.TDEM.ProblemTDEMIP import Problem3D_e\n",
    "from simpegEMIP.TDEM import Survey\n",
    "from simpegEMIP.TDEM.Rx import Point_e\n",
    "from pymatsolver import Pardiso"
   ]
  },
  {
   "cell_type": "markdown",
   "metadata": {},
   "source": [
    "# Step1: 3D Mesh"
   ]
  },
  {
   "cell_type": "code",
   "execution_count": 2,
   "metadata": {},
   "outputs": [],
   "source": [
    "# Cell sizes\n",
    "csx, csy, csz = 50., 50., 50\n",
    "# Number of core cells in each direction\n",
    "ncx, ncy, ncz = 41, 31, 21\n",
    "# Number of padding cells to add in each direction\n",
    "npad = 0 # Deniz: you need to increase this considering diffusion distance say 10\n",
    "# Vectors of cell lengths in each direction with padding\n",
    "hx = [(csx, npad, -1.5), (csx, ncx), (csx, npad, 1.5)]\n",
    "hy = [(csy, npad, -1.5), (csy, ncy), (csy, npad, 1.5)]\n",
    "hz = [(csz, npad, -1.5), (csz, ncz), (csy, npad, 1.5)]\n",
    "# Create mesh and center it\n",
    "mesh = Mesh.TensorMesh([hx, hy, hz], x0=\"CCC\")"
   ]
  },
  {
   "cell_type": "markdown",
   "metadata": {},
   "source": [
    "# Step2: Generate models ($\\sigma_{\\infty}$, $\\eta$, $\\tau$, $c$)"
   ]
  },
  {
   "cell_type": "code",
   "execution_count": 3,
   "metadata": {},
   "outputs": [],
   "source": [
    "p0 = np.array([-100, -200, -100])\n",
    "p1 = np.array([100, 200, -200])\n",
    "inds = Utils.ModelBuilder.getIndicesBlock(p0, p1, mesh.gridCC)\n",
    "sigma = np.ones(mesh.nC) * 1e-8\n",
    "sigma[mesh.gridCC[:,2]<0.] = 0.1\n",
    "eta = np.ones(mesh.nC) * 0.\n",
    "tau = np.ones(mesh.nC) * 1e-3\n",
    "c = np.ones(mesh.nC)\n",
    "eta[inds] = 0.1\n",
    "tau[inds] = 1.\n",
    "c[inds] = 0.5"
   ]
  },
  {
   "cell_type": "code",
   "execution_count": 4,
   "metadata": {},
   "outputs": [
    {
     "data": {
      "image/png": "[encoded data removed]",
      "text/plain": [
       "<Figure size 432x288 with 2 Axes>"
      ]
     },
     "metadata": {
      "needs_background": "light"
     },
     "output_type": "display_data"
    }
   ],
   "source": [
    "out = mesh.plotSlice(c, grid=True, normal='X')\n",
    "plt.colorbar(out[0])\n",
    "plt.title(\"Chargeability (V/V)\")\n",
    "plt.gca().set_aspect(1)"
   ]
  },
  {
   "cell_type": "markdown",
   "metadata": {},
   "source": [
    "# Step3: Generate survey and run simulation"
   ]
  },
  {
   "cell_type": "code",
   "execution_count": 5,
   "metadata": {},
   "outputs": [],
   "source": [
    "x = np.linspace(-400, 400, 21)\n",
    "y = np.linspace(-400, 400, 21)\n",
    "rx_locations = Utils.ndgrid(x, y, np.r_[0.])\n",
    "src_locations = np.array(\n",
    "    [[-300, 0, 0],[300, 0, 0]]\n",
    ")"
   ]
  },
  {
   "cell_type": "code",
   "execution_count": 6,
   "metadata": {},
   "outputs": [
    {
     "data": {
      "image/png": "[encoded data removed]",
      "text/plain": [
       "<Figure size 432x288 with 1 Axes>"
      ]
     },
     "metadata": {
      "needs_background": "light"
     },
     "output_type": "display_data"
    }
   ],
   "source": [
    "plt.plot(rx_locations[:,0], rx_locations[:,1], 'k.')\n",
    "plt.plot(src_locations[:,0], src_locations[:,1], 'r-')\n",
    "plt.gca().set_aspect(1)"
   ]
  },
  {
   "cell_type": "code",
   "execution_count": 7,
   "metadata": {},
   "outputs": [],
   "source": [
    "times = np.logspace(-3, -2, 11)"
   ]
  },
  {
   "cell_type": "code",
   "execution_count": 8,
   "metadata": {},
   "outputs": [],
   "source": [
    "rx = Point_e(rx_locations, times, orientation='x')\n",
    "src = EM.TDEM.Src.LineCurrent(\n",
    "    [rx], loc=src_locations,waveform=EM.TDEM.Src.StepOffWaveform(),\n",
    ")"
   ]
  },
  {
   "cell_type": "code",
   "execution_count": 10,
   "metadata": {},
   "outputs": [
    {
     "name": "stderr",
     "output_type": "stream",
     "text": [
      "/Users/sgkang/Projects/simpeg/SimPEG/Props.py:400: UserWarning: Cannot add model as there are no active mappings, choose from: ['cMap', 'etaMap', 'rhoMap', 'sigmaInfMap', 'sigmaMap', 'tauMap']\n",
      "  \"', '\".join(self._all_map_names)\n"
     ]
    },
    {
     "name": "stdout",
     "output_type": "stream",
     "text": [
      "Calculating Initial fields\n",
      "Factorize system matrix for DC problem\n",
      "**************************************************\n",
      "Calculating fields(m)\n",
      "**************************************************\n",
      "Factoring...   (dt = 1.000000e-03)\n",
      "Done\n",
      "    Solving...   (tInd = 1)\n",
      "    Done...\n",
      "    Solving...   (tInd = 2)\n",
      "    Done...\n",
      "    Solving...   (tInd = 3)\n",
      "    Done...\n",
      "    Solving...   (tInd = 4)\n",
      "    Done...\n",
      "    Solving...   (tInd = 5)\n",
      "    Done...\n",
      "    Solving...   (tInd = 6)\n",
      "    Done...\n",
      "    Solving...   (tInd = 7)\n",
      "    Done...\n",
      "    Solving...   (tInd = 8)\n",
      "    Done...\n",
      "    Solving...   (tInd = 9)\n",
      "    Done...\n",
      "    Solving...   (tInd = 10)\n",
      "    Done...\n",
      "**************************************************\n",
      "Done calculating fields(m)\n",
      "**************************************************\n"
     ]
    }
   ],
   "source": [
    "survey = Survey([src])\n",
    "prb_em = Problem3D_e(mesh, sigmaInf=sigma, eta=eta, tau=tau, c=c)\n",
    "# prb_em = Problem3D_e(mesh, sigma=sigma)\n",
    "prb_em.verbose = True\n",
    "prb_em.timeSteps = [(1e-3, 10)]\n",
    "prb_em.Solver = Pardiso\n",
    "prb_em.pair(survey)\n",
    "data = survey.dpred([])"
   ]
  },
  {
   "cell_type": "code",
   "execution_count": 11,
   "metadata": {},
   "outputs": [
    {
     "data": {
      "text/plain": [
       "(<matplotlib.contour.QuadContourSet at 0x1a27e4f9b0>,\n",
       " <matplotlib.axes._subplots.AxesSubplot at 0x1a27ffef60>)"
      ]
     },
     "execution_count": 11,
     "metadata": {},
     "output_type": "execute_result"
    },
    {
     "data": {
      "image/png": "[encoded data removed]",
      "text/plain": [
       "<Figure size 432x288 with 1 Axes>"
      ]
     },
     "metadata": {
      "needs_background": "light"
     },
     "output_type": "display_data"
    }
   ],
   "source": [
    "i_time = 10\n",
    "Utils.plot2Ddata(rx_locations, data.reshape((441, rx.times.size), order='F')[:,i_time])"
   ]
  }
 ],
 "metadata": {
  "kernelspec": {
   "display_name": "Python 3",
   "language": "python",
   "name": "python3"
  },
  "language_info": {
   "codemirror_mode": {
    "name": "ipython",
    "version": 3
   },
   "file_extension": ".py",
   "mimetype": "text/x-python",
   "name": "python",
   "nbconvert_exporter": "python",
   "pygments_lexer": "ipython3",
   "version": "3.7.3"
  }
 },
 "nbformat": 4,
 "nbformat_minor": 2
}
