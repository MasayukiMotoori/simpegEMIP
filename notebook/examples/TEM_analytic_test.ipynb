{
 "cells": [
  {
   "cell_type": "code",
   "execution_count": 1,
   "metadata": {},
   "outputs": [],
   "source": [
    "from SimPEG import *\n",
    "from scipy.constants import mu_0\n",
    "import numpy as np\n",
    "import scipy.sparse as sp\n",
    "import matplotlib.pyplot as plt\n",
    "from pymatsolver import PardisoSolver"
   ]
  },
  {
   "cell_type": "code",
   "execution_count": 2,
   "metadata": {
    "scrolled": false
   },
   "outputs": [
    {
     "name": "stderr",
     "output_type": "stream",
     "text": [
      "/Users/sgkang/Projects/simpeg/SimPEG/Props.py:400: UserWarning: Cannot add model as there are no active mappings, choose from: ['rhoMap', 'sigmaMap']\n",
      "  \"', '\".join(self._all_map_names)\n"
     ]
    }
   ],
   "source": [
    "from simpegEMIP.TDEM import Problem3DEM_e\n",
    "from simpegEMIP.TDEM import Rx\n",
    "from simpegEMIP.TDEM import Survey\n",
    "from simpegEMIP.Base import BaseEMIPProblem\n",
    "from SimPEG import EM\n",
    "csx, csz, ncx, ncz, npadx, npadz = 6.5, 5., 10, 20, 20, 20\n",
    "hx = [(csx,ncx), (csx,npadx,1.3)]\n",
    "hz = [(csz,npadz, -1.3), (csz,ncz), (csz,npadz,1.3)]\n",
    "mesh = Mesh.CylMesh([hx,1,hz], '00C')    \n",
    "sig_half = 0.1\n",
    "sigmaInf = np.ones(mesh.nC) * sig_half\n",
    "airind = mesh.gridCC[:,2]>0.\n",
    "sigmaInf[airind] = 1e-8\n",
    "src_z = 30.\n",
    "rxloc = np.array([0., 0., src_z])\n",
    "srcloc = np.array([0., 0., src_z])\n",
    "rx = Rx.Point_dbdt(rxloc, np.logspace(np.log10(1e-5), np.log10(0.009), 51), 'z')\n",
    "src = EM.TDEM.Src.CircularLoop([rx], waveform=EM.TDEM.Src.StepOffWaveform(), loc=srcloc, radius=13.)\n",
    "survey = Survey([src])\n",
    "prb_em = Problem3DEM_e(mesh, sigma=sigmaInf)\n",
    "prb_em.verbose = False\n",
    "prb_em.timeSteps = [(1e-06, 5), (2.5e-06, 5), (5e-06, 5), (1e-05, 10), (2e-05, 10), (4e-05, 10), (8e-05, 10), (1.6e-04, 10), (3.2e-04, 20)]\n",
    "prb_em.Solver = PardisoSolver\n",
    "prb_em.pair(survey)\n",
    "data = survey.dpred([])"
   ]
  },
  {
   "cell_type": "code",
   "execution_count": 3,
   "metadata": {},
   "outputs": [
    {
     "name": "stderr",
     "output_type": "stream",
     "text": [
      "/Users/sgkang/Projects/simpeg/SimPEG/Props.py:400: UserWarning: Cannot add model as there are no active mappings, choose from: ['cMap', 'etaMap', 'hMap', 'sigmaMap', 'tauMap']\n",
      "  \"', '\".join(self._all_map_names)\n"
     ]
    }
   ],
   "source": [
    "from simpegEM1D import EM1D, EM1DSurveyTD, Utils1D, get_vertical_discretization_time, set_mesh_1d\n",
    "import numpy as np\n",
    "mesh1D = Mesh.TensorMesh([1])\n",
    "TDsurvey = EM1DSurveyTD(\n",
    "    rx_location = np.array([0., 0., src_z]),\n",
    "    src_location = np.array([0., 0., src_z]),\n",
    "    topo = np.r_[0., 0., 0.],\n",
    "    offset = np.r_[0.],\n",
    "    depth = np.r_[0.],\n",
    "    rx_type = 'dBzdt',\n",
    "    wave_type = 'stepoff',\n",
    "    src_type = 'CircularLoop',\n",
    "    a = 13.,\n",
    "    I = 1.,\n",
    "    time = rx.times.copy(),\n",
    "    half_switch=True\n",
    ")\n",
    "expmap = Maps.ExpMap(mesh1D)\n",
    "prob = EM1D(mesh1D, sigma=np.r_[sig_half])\n",
    "if prob.ispaired:\n",
    "    prob.unpair()\n",
    "if TDsurvey.ispaired:\n",
    "    TDsurvey.unpair()\n",
    "prob.pair(TDsurvey)\n",
    "prob.chi = np.zeros(TDsurvey.n_layer)\n",
    "dhzdt = TDsurvey.dpred([])"
   ]
  },
  {
   "cell_type": "code",
   "execution_count": 4,
   "metadata": {},
   "outputs": [
    {
     "name": "stderr",
     "output_type": "stream",
     "text": [
      "/Users/sgkang/anaconda3/lib/python3.7/site-packages/ipykernel_launcher.py:4: UserWarning: Data has no positive values, and therefore cannot be log-scaled.\n",
      "  after removing the cwd from sys.path.\n",
      "/Users/sgkang/anaconda3/lib/python3.7/site-packages/ipykernel_launcher.py:5: UserWarning: Data has no positive values, and therefore cannot be log-scaled.\n",
      "  \"\"\"\n"
     ]
    },
    {
     "name": "stdout",
     "output_type": "stream",
     "text": [
      "0.09440070088694212\n",
      "[-0.420456   -0.36172896 -0.38254692 -0.37643017 -0.3254697  -0.11204729\n",
      " -0.20121895 -0.22459462 -0.25157583 -0.2975518  -0.3154943  -0.22047004\n",
      " -0.17090355 -0.21890139 -0.27196975 -0.3226116  -0.35465597 -0.39117951\n",
      " -0.39150618 -0.39817327 -0.17188211 -0.25089734 -0.33195526 -0.36812776\n",
      " -0.40185334 -0.41367425 -0.36214668 -0.28122046 -0.35147477 -0.39874942\n",
      " -0.43360106 -0.44095774 -0.26503654 -0.34768702 -0.38306884 -0.4207303\n",
      " -0.41661463 -0.37902931 -0.27830305 -0.31378057 -0.30697461 -0.28010213\n",
      " -0.24189524 -0.14754939 -0.13801939 -0.12233687 -0.09871385 -0.07998238\n",
      " -0.05906549 -0.04357592 -0.03149427]\n"
     ]
    },
    {
     "data": {
      "image/png": "[encoded data removed]",
      "text/plain": [
       "<Figure size 432x288 with 1 Axes>"
      ]
     },
     "metadata": {
      "needs_background": "light"
     },
     "output_type": "display_data"
    }
   ],
   "source": [
    "ms = 1e3\n",
    "# scale = 1./(13**2 *np.pi)\n",
    "scale = 1\n",
    "plt.loglog(rx.times*ms, data.flatten()*scale, 'ko', markerfacecolor=\"k\")\n",
    "plt.loglog(rx.times*ms, -data.flatten()*scale, 'kx', markerfacecolor=\"k\")\n",
    "plt.loglog(rx.times*ms, -dhzdt.flatten(), 'k-', lw=2)\n",
    "plt.loglog(rx.times*ms, dhzdt.flatten(), 'k--', lw=2)\n",
    "plt.grid(True)\n",
    "plt.tight_layout()\n",
    "plt.xlabel(\"Time (ms)\")\n",
    "plt.ylabel(\"dbz/dt (T/s)\")\n",
    "plt.legend((\"simpegEMIP (+)\", \"simpegEMIP (-)\", \"Analytic (+)\", \"Analytic (-)\"), fontsize = 12)\n",
    "uncert = abs(dhzdt)*0.2 + 1e-10\n",
    "err = np.linalg.norm((data - dhzdt)/(uncert))**2 / survey.nD\n",
    "rerr = (data - dhzdt)/uncert\n",
    "print (err)\n",
    "print (rerr)"
   ]
  },
  {
   "cell_type": "code",
   "execution_count": null,
   "metadata": {},
   "outputs": [],
   "source": []
  }
 ],
 "metadata": {
  "anaconda-cloud": {},
  "kernelspec": {
   "display_name": "Python 3",
   "language": "python",
   "name": "python3"
  },
  "language_info": {
   "codemirror_mode": {
    "name": "ipython",
    "version": 3
   },
   "file_extension": ".py",
   "mimetype": "text/x-python",
   "name": "python",
   "nbconvert_exporter": "python",
   "pygments_lexer": "ipython3",
   "version": "3.7.3"
  }
 },
 "nbformat": 4,
 "nbformat_minor": 1
}
