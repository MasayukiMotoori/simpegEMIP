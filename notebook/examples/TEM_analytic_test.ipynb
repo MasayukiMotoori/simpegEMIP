{
 "cells": [
  {
   "cell_type": "code",
   "execution_count": 1,
   "metadata": {},
   "outputs": [],
   "source": [
    "from SimPEG import *\n",
    "from scipy.constants import mu_0\n",
    "import numpy as np\n",
    "import scipy.sparse as sp\n",
    "import matplotlib.pyplot as plt\n",
    "from pymatsolver import PardisoSolver"
   ]
  },
  {
   "cell_type": "code",
   "execution_count": 2,
   "metadata": {
    "scrolled": false
   },
   "outputs": [
    {
     "name": "stderr",
     "output_type": "stream",
     "text": [
      "/Users/sgkang/Projects/simpeg/SimPEG/Props.py:399: UserWarning: Cannot add model as there are no active mappings, choose from: ['rhoMap', 'sigmaMap']\n",
      "  \"', '\".join(self._all_map_names)\n"
     ]
    }
   ],
   "source": [
    "from simpegEMIP.TDEM import Problem3DEM_e\n",
    "from simpegEMIP.TDEM import Rx\n",
    "from simpegEMIP.TDEM import Survey\n",
    "from simpegEMIP.Base import BaseEMIPProblem\n",
    "from SimPEG import EM\n",
    "csx, csz, ncx, ncz, npadx, npadz = 6.5, 5., 10, 20, 20, 20\n",
    "hx = [(csx,ncx), (csx,npadx,1.3)]\n",
    "hz = [(csz,npadz, -1.3), (csz,ncz), (csz,npadz,1.3)]\n",
    "mesh = Mesh.CylMesh([hx,1,hz], '00C')    \n",
    "sig_half = 0.1\n",
    "sigmaInf = np.ones(mesh.nC) * sig_half\n",
    "airind = mesh.gridCC[:,2]>0.\n",
    "sigmaInf[airind] = 1e-8\n",
    "src_z = 30.\n",
    "rxloc = np.array([0., 0., src_z])\n",
    "srcloc = np.array([0., 0., src_z])\n",
    "rx = Rx.Point_dbdt(rxloc, np.logspace(np.log10(1e-5), np.log10(0.009), 51), 'z')\n",
    "src = EM.TDEM.Src.CircularLoop([rx], waveform=EM.TDEM.Src.StepOffWaveform(), loc=srcloc, radius=13.)\n",
    "survey = Survey([src])\n",
    "prb_em = Problem3DEM_e(mesh, sigma=sigmaInf)\n",
    "prb_em.verbose = False\n",
    "prb_em.timeSteps = [(1e-06, 5), (2.5e-06, 5), (5e-06, 5), (1e-05, 10), (2e-05, 10), (4e-05, 10), (8e-05, 10), (1.6e-04, 10), (3.2e-04, 20)]\n",
    "prb_em.Solver = PardisoSolver\n",
    "prb_em.pair(survey)\n",
    "data = survey.dpred([])"
   ]
  },
  {
   "cell_type": "code",
   "execution_count": 3,
   "metadata": {},
   "outputs": [
    {
     "name": "stderr",
     "output_type": "stream",
     "text": [
      "/Users/sgkang/Projects/simpeg/SimPEG/Props.py:399: UserWarning: Cannot add model as there are no active mappings, choose from: ['cMap', 'etaMap', 'hMap', 'sigmaMap', 'tauMap']\n",
      "  \"', '\".join(self._all_map_names)\n"
     ]
    }
   ],
   "source": [
    "from simpegEM1D import EM1D, EM1DSurveyTD, Utils1D, get_vertical_discretization_time, set_mesh_1d\n",
    "import numpy as np\n",
    "mesh1D = Mesh.TensorMesh([1])\n",
    "TDsurvey = EM1DSurveyTD(\n",
    "    rx_location = np.array([0., 0., src_z]),\n",
    "    src_location = np.array([0., 0., src_z]),\n",
    "    topo = np.r_[0., 0., 0.],\n",
    "    offset = np.r_[0.],\n",
    "    depth = np.r_[0.],\n",
    "    rx_type = 'dBzdt',\n",
    "    wave_type = 'stepoff',\n",
    "    src_type = 'CircularLoop',\n",
    "    a = 13.,\n",
    "    I = 1.,\n",
    "    time = rx.times.copy(),\n",
    "    half_switch=True\n",
    ")\n",
    "expmap = Maps.ExpMap(mesh1D)\n",
    "prob = EM1D(mesh1D, sigma=np.r_[sig_half])\n",
    "if prob.ispaired:\n",
    "    prob.unpair()\n",
    "if TDsurvey.ispaired:\n",
    "    TDsurvey.unpair()\n",
    "prob.pair(TDsurvey)\n",
    "prob.chi = np.zeros(TDsurvey.n_layer)\n",
    "dhzdt = TDsurvey.dpred([])"
   ]
  },
  {
   "cell_type": "code",
   "execution_count": 4,
   "metadata": {},
   "outputs": [
    {
     "name": "stderr",
     "output_type": "stream",
     "text": [
      "/Users/sgkang/anaconda2/envs/simpeg/lib/python3.6/site-packages/matplotlib/ticker.py:2198: UserWarning: Data has no positive values, and therefore cannot be log-scaled.\n",
      "  \"Data has no positive values, and therefore cannot be \"\n"
     ]
    },
    {
     "name": "stdout",
     "output_type": "stream",
     "text": [
      "0.5820885371630571\n",
      "[-1.10527739 -1.10658378 -0.99262652 -0.88142198 -0.82965631 -0.92919974\n",
      " -0.85746231 -0.91499614 -0.8949159  -0.85555547 -0.81857477 -0.85133668\n",
      " -0.89077167 -0.94682331 -0.94621701 -0.92894704 -0.90099292 -0.84876309\n",
      " -0.81482368 -0.75257705 -0.80539388 -0.83434476 -0.8258641  -0.82602053\n",
      " -0.78981653 -0.76740832 -0.73373039 -0.81415245 -0.83770661 -0.8373914\n",
      " -0.81262959 -0.78342342 -0.80350075 -0.81563945 -0.82437132 -0.78864311\n",
      " -0.73526762 -0.66043013 -0.67753302 -0.61810346 -0.55939149 -0.4697169\n",
      " -0.38767561 -0.33083325 -0.28555505 -0.22627222 -0.17083266 -0.12521004\n",
      " -0.09025223 -0.06348864 -0.04432283]\n"
     ]
    },
    {
     "data": {
      "image/png": "[encoded data removed]",
      "text/plain": [
       "<Figure size 432x288 with 1 Axes>"
      ]
     },
     "metadata": {},
     "output_type": "display_data"
    }
   ],
   "source": [
    "ms = 1e3\n",
    "# scale = 1./(13**2 *np.pi)\n",
    "scale = 1\n",
    "plt.loglog(rx.times*ms, data.flatten()*scale, 'ko', markerfacecolor=\"k\")\n",
    "plt.loglog(rx.times*ms, -data.flatten()*scale, 'kx', markerfacecolor=\"k\")\n",
    "plt.loglog(rx.times*ms, -dhzdt.flatten(), 'k-', lw=2)\n",
    "plt.loglog(rx.times*ms, dhzdt.flatten(), 'k--', lw=2)\n",
    "plt.grid(True)\n",
    "plt.tight_layout()\n",
    "plt.xlabel(\"Time (ms)\")\n",
    "plt.ylabel(\"dbz/dt (T/s)\")\n",
    "plt.legend((\"simpegEMIP (+)\", \"simpegEMIP (-)\", \"Analytic (+)\", \"Analytic (-)\"), fontsize = 12)\n",
    "uncert = abs(dhzdt)*0.2 + 1e-10\n",
    "err = np.linalg.norm((data - dhzdt)/(uncert))**2 / survey.nD\n",
    "rerr = (data - dhzdt)/uncert\n",
    "print (err)\n",
    "print (rerr)"
   ]
  }
 ],
 "metadata": {
  "anaconda-cloud": {},
  "kernelspec": {
   "display_name": "Python 3",
   "language": "python",
   "name": "python3"
  },
  "language_info": {
   "codemirror_mode": {
    "name": "ipython",
    "version": 3
   },
   "file_extension": ".py",
   "mimetype": "text/x-python",
   "name": "python",
   "nbconvert_exporter": "python",
   "pygments_lexer": "ipython3",
   "version": "3.6.4"
  }
 },
 "nbformat": 4,
 "nbformat_minor": 1
}
