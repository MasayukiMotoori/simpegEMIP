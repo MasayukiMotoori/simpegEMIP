{
 "cells": [
  {
   "cell_type": "code",
   "execution_count": 37,
   "metadata": {},
   "outputs": [],
   "source": [
    "from SimPEG import *\n",
    "from SimPEG import EM\n",
    "from scipy.constants import mu_0\n",
    "import numpy as np\n",
    "import scipy.sparse as sp\n",
    "from simpegEMIP.TDEM import geteref, Problem3DIP_Linear, SurveyLinear\n",
    "from simpegEMIP.TDEM import Survey, Rx\n",
    "from simpegEMIP.TDEM import Problem3DEM_e, Problem3D_e\n",
    "import matplotlib.pyplot as plt\n",
    "from pymatsolver import PardisoSolver\n",
    "\n",
    "eta, tau, c = 0.1, 0.01, 0.5\n",
    "cs, ncx, ncz, npad = 10., 25, 20, 18\n",
    "hx = [(cs,ncx), (cs,npad,1.3)]\n",
    "hz = [(cs,npad,-1.3), (cs,ncz), (cs,npad,1.3)]\n",
    "mesh = Mesh.CylMesh([hx,1,hz], '00C')    \n",
    "sigmaInf = np.ones(mesh.nC) * 0.001\n",
    "actinds = mesh.gridCC[:,2]<0.\n",
    "layerind = (np.logical_and(mesh.gridCC[:,2]<0, mesh.gridCC[:,2]>-50.)) & (mesh.gridCC[:,0]<100.)\n",
    "sigmaInf[~actinds] = 1e-8\n",
    "sigmaInf[layerind] = 0.1\n",
    "eta = np.zeros(mesh.nC)\n",
    "eta[layerind] = 0.5\n",
    "tau = np.ones(mesh.nC) * 1.\n",
    "c = np.ones(mesh.nC) * 0.5\n",
    "\n",
    "def get_em_data(sigma, eta=None, tau=None, c=None, data_type='em'):\n",
    "    rxloc = np.array([[0., 0., 30.]])\n",
    "    srcloc = np.array([[0., 0., 30.]])\n",
    "    dt = 1.47e-3\n",
    "    tpeak = 2.73e-3\n",
    "    t0 = tpeak + dt\n",
    "    rx_vtem = Rx.Point_dbdt(rxloc, np.logspace(np.log10(2e-5), np.log10(0.009), 51)+t0, orientation='z')\n",
    "    src_vtem = EM.TDEM.Src.CircularLoop([rx_vtem], waveform=EM.TDEM.Src.VTEMWaveform(offTime=t0, peakTime=tpeak, a=3.), loc=srcloc)\n",
    "    survey = Survey([src_vtem])\n",
    "    if data_type == 'em':\n",
    "        prb = Problem3DEM_e(mesh, sigma=sigma)\n",
    "    elif data_type == 'emip':\n",
    "        prb = Problem3D_e(mesh, sigmaInf=sigma, eta=eta, tau=tau, c=c)\n",
    "    prb.timeSteps = [(tpeak/10, 10), ((t0-tpeak)/10, 10), (1e-06, 5), (2.5e-06, 5), (5e-06, 5), (1e-05, 10), (2e-05, 10), (4e-05, 10), (8e-05, 10), (1.6e-04, 10), (3.2e-04, 20)]\n",
    "    prb.Solver = PardisoSolver\n",
    "    prb.pair(survey)\n",
    "    e = prb.fields(sigmaInf)\n",
    "    data = survey.dpred(sigmaInf, f=e)\n",
    "    # waveform\n",
    "    cur = []\n",
    "    for t in prb.times:\n",
    "        cur.append(src_vtem.waveform.eval(t))\n",
    "    cur = np.hstack(cur)\n",
    "    return e, data, cur\n",
    "\n",
    "def get_ip_data(sigma, eref, eta, tau, c):\n",
    "    rxloc = np.array([[0., 0., 30.]])\n",
    "    srcloc = np.array([[0., 0., 30.]])    \n",
    "    rx_ip = Rx.Point_dbdt(rxloc, np.logspace(np.log10(2e-5), np.log10(0.009), 51), 'z')\n",
    "    src_ip = EM.TDEM.Src.CircularLoop([rx_ip], loc=srcloc)\n",
    "    dt = 1.47e-3\n",
    "    tpeak = 2.73e-3\n",
    "    t0 = tpeak + dt\n",
    "    survey_ip = SurveyLinear([src_ip])\n",
    "    t1, t2, t3 = dt, t0-0.001365, t0\n",
    "    prb_ip = Problem3DIP_Linear(\n",
    "        mesh, \n",
    "        sigmaInf=sigmaInf, \n",
    "        eta=eta, \n",
    "        tau=tau, \n",
    "        c=c, \n",
    "        actinds = actinds,\n",
    "        tlags = [0., t1, t2, t3]\n",
    "    )\n",
    "    prb_ip.Solver = PardisoSolver\n",
    "    prb_ip.pair(survey_ip)\n",
    "    prb_ip.set_eref(eref)\n",
    "    ip_approx = survey_ip.dpred([])\n",
    "    return ip_approx"
   ]
  },
  {
   "cell_type": "code",
   "execution_count": 38,
   "metadata": {},
   "outputs": [
    {
     "data": {
      "text/plain": [
       "(-200, 200)"
      ]
     },
     "execution_count": 38,
     "metadata": {},
     "output_type": "execute_result"
    },
    {
     "data": {
      "image/png": "[encoded data removed]",
      "text/plain": [
       "<Figure size 432x288 with 1 Axes>"
      ]
     },
     "metadata": {},
     "output_type": "display_data"
    }
   ],
   "source": [
    "mesh.plotImage(np.log10(sigmaInf))\n",
    "plt.xlim(0,200)\n",
    "plt.ylim(-200,200)"
   ]
  },
  {
   "cell_type": "code",
   "execution_count": 39,
   "metadata": {},
   "outputs": [
    {
     "name": "stderr",
     "output_type": "stream",
     "text": [
      "/Users/sgkang/Projects/simpeg/SimPEG/Props.py:399: UserWarning: Cannot add model as there are no active mappings, choose from: ['cMap', 'etaMap', 'rhoMap', 'sigmaInfMap', 'sigmaMap', 'tauMap']\n",
      "  \"', '\".join(self._all_map_names)\n"
     ]
    },
    {
     "name": "stdout",
     "output_type": "stream",
     "text": [
      "CPU times: user 6.71 s, sys: 152 ms, total: 6.86 s\n",
      "Wall time: 3.93 s\n"
     ]
    }
   ],
   "source": [
    "%%time\n",
    "e_emip, data_emip, cur = get_em_data(sigmaInf, eta, tau, c, data_type='emip')"
   ]
  },
  {
   "cell_type": "code",
   "execution_count": 40,
   "metadata": {},
   "outputs": [
    {
     "name": "stderr",
     "output_type": "stream",
     "text": [
      "/Users/sgkang/Projects/simpeg/SimPEG/Props.py:399: UserWarning: Cannot add model as there are no active mappings, choose from: ['rhoMap', 'sigmaMap']\n",
      "  \"', '\".join(self._all_map_names)\n"
     ]
    },
    {
     "name": "stdout",
     "output_type": "stream",
     "text": [
      ">> Compute Sensitivity matrix\n",
      " 1 / 1CPU times: user 1.62 s, sys: 27.4 ms, total: 1.65 s\n",
      "Wall time: 910 ms\n"
     ]
    },
    {
     "name": "stderr",
     "output_type": "stream",
     "text": [
      "/Users/sgkang/Projects/simpeg/SimPEG/Props.py:399: UserWarning: Cannot add model as there are no active mappings, choose from: ['cMap', 'etaMap', 'rhoMap', 'sigmaInfMap', 'sigmaMap', 'tauMap']\n",
      "  \"', '\".join(self._all_map_names)\n"
     ]
    }
   ],
   "source": [
    "%%time\n",
    "e_em, data_em, cur = get_em_data(sigmaInf)\n",
    "eref = geteref(e_em[:,0,:], mesh, option=None, tInd=20) \n",
    "ip = get_ip_data(sigmaInf, eref, eta, tau, c)"
   ]
  },
  {
   "cell_type": "code",
   "execution_count": 41,
   "metadata": {},
   "outputs": [],
   "source": [
    "data = ip + data_em"
   ]
  },
  {
   "cell_type": "code",
   "execution_count": 42,
   "metadata": {},
   "outputs": [],
   "source": [
    "times = np.logspace(np.log10(2e-5), np.log10(0.009), 51)"
   ]
  },
  {
   "cell_type": "code",
   "execution_count": 43,
   "metadata": {},
   "outputs": [
    {
     "data": {
      "text/plain": [
       "[<matplotlib.lines.Line2D at 0x12b75f0b8>]"
      ]
     },
     "execution_count": 43,
     "metadata": {},
     "output_type": "execute_result"
    },
    {
     "data": {
      "image/png": "[encoded data removed]",
      "text/plain": [
       "<Figure size 432x288 with 1 Axes>"
      ]
     },
     "metadata": {},
     "output_type": "display_data"
    }
   ],
   "source": [
    "plt.loglog(times, -data, 'k')\n",
    "plt.loglog(times, data, '--k')\n",
    "plt.loglog(times, -data_emip, 'kx')\n",
    "plt.loglog(times, data_emip, 'kx')\n",
    "plt.loglog(times, -data_em, 'b')"
   ]
  }
 ],
 "metadata": {
  "kernelspec": {
   "display_name": "Python 3",
   "language": "python",
   "name": "python3"
  },
  "language_info": {
   "codemirror_mode": {
    "name": "ipython",
    "version": 3
   },
   "file_extension": ".py",
   "mimetype": "text/x-python",
   "name": "python",
   "nbconvert_exporter": "python",
   "pygments_lexer": "ipython3",
   "version": "3.6.4"
  }
 },
 "nbformat": 4,
 "nbformat_minor": 2
}
