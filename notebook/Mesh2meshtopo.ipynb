{
 "cells": [
  {
   "cell_type": "code",
   "execution_count": 3,
   "metadata": {
    "collapsed": false
   },
   "outputs": [],
   "source": [
    "from SimPEG import *\n",
    "from SimPEG import EM\n",
    "from scipy.constants import mu_0\n",
    "from pymatsolver import PardisoSolver\n",
    "import numpy as np\n",
    "# from SimPEG.Problem import GlobalProblem as GlobalProblem"
   ]
  },
  {
   "cell_type": "code",
   "execution_count": 4,
   "metadata": {
    "collapsed": true
   },
   "outputs": [],
   "source": [
    "from scipy.constants import mu_0\n",
    "def genTensorMesh(locs, sigma=1e-3, t=1e-2, dx=np.r_[50., 50., 50.], ncx=5,ncy=5,ncz=4,npad=8):    \n",
    "    difdist = np.sqrt(2*t/mu_0/sigma)\n",
    "    hx = [(dx[0],npad,-1.3), (dx[0],ncx), (dx[0],npad,1.3)]\n",
    "    hy = [(dx[1],npad,-1.3), (dx[1],ncy), (dx[1],npad,1.3)]\n",
    "#     hz = [(dx[2],npad,-1.3), (dx[2],ncz),(dx[2]*0.5, 4),(dx[2],ncz),(dx[2],npad,1.3)]\n",
    "    hz = [(dx[2],npad-2,-1.3), (dx[2],ncz), (dx[2],ncz),(dx[2],npad-2,1.3)]    \n",
    "    mesh = Mesh.TensorMesh([hx, hy, hz], x0=\"CCC\")\n",
    "    mesh._x0 += locs\n",
    "    return mesh    "
   ]
  },
  {
   "cell_type": "code",
   "execution_count": 5,
   "metadata": {
    "collapsed": true
   },
   "outputs": [],
   "source": [
    "hx = np.ones(10)*50\n",
    "meshsurvey = Mesh.TensorMesh([hx], \"C\")\n",
    "locs = np.c_[meshsurvey.gridCC, np.ones(meshsurvey.nC)*0., np.ones(meshsurvey.nC)]\n",
    "itx = Utils.closestPoints(meshsurvey, np.r_[0.])[0]"
   ]
  },
  {
   "cell_type": "code",
   "execution_count": 6,
   "metadata": {
    "collapsed": false
   },
   "outputs": [
    {
     "name": "stdout",
     "output_type": "stream",
     "text": [
      "Populating the interactive namespace from numpy and matplotlib\n"
     ]
    }
   ],
   "source": [
    "%pylab inline"
   ]
  },
  {
   "cell_type": "markdown",
   "metadata": {},
   "source": [
    "# Step1: set up survey"
   ]
  },
  {
   "cell_type": "code",
   "execution_count": 7,
   "metadata": {
    "collapsed": false
   },
   "outputs": [],
   "source": [
    "# mesh = Mesh.TensorMesh.readUBC(\"./models/mesh_composite.msh\")\n",
    "# sigma = mesh.readModelUBC(\"./models/sigmaInf_composite_cond.con\")"
   ]
  },
  {
   "cell_type": "code",
   "execution_count": 8,
   "metadata": {
    "collapsed": true
   },
   "outputs": [],
   "source": [
    "cs, ncx, ncy, ncz, npad = 50., 12, 12, 16, 8\n",
    "hx = [(cs,npad,-1.3), (cs,ncx), (cs,npad,1.3)]\n",
    "hy = [(cs,npad,-1.3), (cs,ncy), (cs,npad,1.3)]\n",
    "hz = [(cs,npad,-1.3), (cs,ncz), (cs,npad,1.3)]"
   ]
  },
  {
   "cell_type": "code",
   "execution_count": 9,
   "metadata": {
    "collapsed": true
   },
   "outputs": [],
   "source": [
    "mesh = Mesh.TensorMesh([hx, hy, hz], \"CCC\")"
   ]
  },
  {
   "cell_type": "code",
   "execution_count": 10,
   "metadata": {
    "collapsed": false
   },
   "outputs": [],
   "source": [
    "sigma = np.ones(mesh.nC)*1e-8\n",
    "sigma[mesh.gridCC[:,2]<0.] = 1e-3\n",
    "blk = Utils.ModelBuilder.getIndicesBlock(np.r_[-100., 100., -50.], np.r_[100., -100., -250.], mesh.gridCC)\n",
    "sigma[blk] = 1e-1"
   ]
  },
  {
   "cell_type": "code",
   "execution_count": 11,
   "metadata": {
    "collapsed": false
   },
   "outputs": [
    {
     "name": "stdout",
     "output_type": "stream",
     "text": [
      "-125.0\n"
     ]
    },
    {
     "data": {
      "text/plain": [
       "(-1200, 1200)"
      ]
     },
     "execution_count": 11,
     "metadata": {},
     "output_type": "execute_result"
    },
    {
     "data": {
      "image/png": "[encoded data removed]",
      "text/plain": [
       "<matplotlib.figure.Figure at 0x105339ed0>"
      ]
     },
     "metadata": {},
     "output_type": "display_data"
    }
   ],
   "source": [
    "print mesh.vectorCCz[13]\n",
    "mesh.plotSlice(np.log10(sigma), ind=13, grid=True, clim=(-4, -1))\n",
    "plt.plot(locs[:,0], locs[:,1], '.')\n",
    "xlim(-1200, 1200)\n",
    "ylim(-1200, 1200)"
   ]
  },
  {
   "cell_type": "code",
   "execution_count": 12,
   "metadata": {
    "collapsed": false
   },
   "outputs": [
    {
     "name": "stdout",
     "output_type": "stream",
     "text": [
      "-125.0\n"
     ]
    },
    {
     "data": {
      "text/plain": [
       "(-1200, 0.0)"
      ]
     },
     "execution_count": 12,
     "metadata": {},
     "output_type": "execute_result"
    },
    {
     "data": {
      "image/png": "[encoded data removed]",
      "text/plain": [
       "<matplotlib.figure.Figure at 0x10a22f9d0>"
      ]
     },
     "metadata": {},
     "output_type": "display_data"
    }
   ],
   "source": [
    "print mesh.vectorCCz[13]\n",
    "mesh.plotSlice(np.log10(sigma), ind=13,normal='X', grid=True, clim=(-4, -1))\n",
    "plt.plot(locs[:,0], locs[:,1], '.')\n",
    "plt.plot(locs[itx,0], locs[itx,1], 'ro')\n",
    "xlim(-1200, 1200)\n",
    "ylim(-1200, 0.)"
   ]
  },
  {
   "cell_type": "markdown",
   "metadata": {},
   "source": [
    "## Generate submeshes and mapping"
   ]
  },
  {
   "cell_type": "code",
   "execution_count": 13,
   "metadata": {
    "collapsed": false
   },
   "outputs": [
    {
     "name": "stderr",
     "output_type": "stream",
     "text": [
      "/Users/sgkang/Projects/simpeg/SimPEG/Maps.py:1489: FutureWarning: `ActiveCells` is deprecated and will be removed in future versions. Use `InjectActiveCells` instead\n",
      "  FutureWarning)\n"
     ]
    }
   ],
   "source": [
    "submeshes = []\n",
    "submaps = []\n",
    "ntx = locs.shape[0]\n",
    "inactind = mesh.gridCC[:,2] > 0.\n",
    "for itx in range(ntx):\n",
    "    meshsub = genTensorMesh(locs[itx,:])\n",
    "    inactindsub = meshsub.gridCC[:,2] > 0.\n",
    "    M2Mmap = Maps.Mesh2MeshTopo([mesh, meshsub], [~inactind, ~inactindsub])\n",
    "    actmap = Maps.ActiveCells(meshsub, ~inactindsub, 1e-8)\n",
    "#     expmap = Maps.ExpMap(meshsub)\n",
    "#     mapping = expmap*actmap*M2Mmap\n",
    "    mapping = actmap*M2Mmap\n",
    "    submaps.append(mapping)\n",
    "    submeshes.append(meshsub)"
   ]
  },
  {
   "cell_type": "code",
   "execution_count": 14,
   "metadata": {
    "collapsed": false
   },
   "outputs": [],
   "source": [
    "def fun(itx=0):\n",
    "#     itx = 3\n",
    "    condsub = submaps[itx]*sigma[~inactind]\n",
    "    print submeshes[itx].vectorCCz[7]\n",
    "    submeshes[itx].plotSlice(np.log10(condsub), ind=7, grid=True, clim=(-4, -1))\n",
    "    plt.plot(locs[:,0], locs[:,1], '.')\n",
    "    plt.plot(locs[itx,0], locs[itx,1], 'ro')\n",
    "    xlim(-1200, 1200)\n",
    "    ylim(-1200, 1200)\n"
   ]
  },
  {
   "cell_type": "code",
   "execution_count": 15,
   "metadata": {
    "collapsed": true
   },
   "outputs": [],
   "source": [
    "from ipywidgets import interact"
   ]
  },
  {
   "cell_type": "code",
   "execution_count": 16,
   "metadata": {
    "collapsed": false
   },
   "outputs": [
    {
     "name": "stdout",
     "output_type": "stream",
     "text": [
      "-124.0\n"
     ]
    },
    {
     "data": {
      "text/plain": [
       "<function __main__.fun>"
      ]
     },
     "execution_count": 16,
     "metadata": {},
     "output_type": "execute_result"
    },
    {
     "data": {
      "image/png": "[encoded data removed]",
      "text/plain": [
       "<matplotlib.figure.Figure at 0x10a4c1e10>"
      ]
     },
     "metadata": {},
     "output_type": "display_data"
    }
   ],
   "source": [
    "interact(fun, itx=(0, 9, 1))"
   ]
  },
  {
   "cell_type": "code",
   "execution_count": 17,
   "metadata": {
    "collapsed": false
   },
   "outputs": [
    {
     "name": "stdout",
     "output_type": "stream",
     "text": [
      "-124.0\n"
     ]
    },
    {
     "data": {
      "text/plain": [
       "(-500, 50.0)"
      ]
     },
     "execution_count": 17,
     "metadata": {},
     "output_type": "execute_result"
    },
    {
     "data": {
      "image/png": "[encoded data removed]",
      "text/plain": [
       "<matplotlib.figure.Figure at 0x10a4c6a90>"
      ]
     },
     "metadata": {},
     "output_type": "display_data"
    }
   ],
   "source": [
    "itx = 1\n",
    "condsub = submaps[itx]*sigma[~inactind]\n",
    "print submeshes[itx].vectorCCz[7]\n",
    "submeshes[itx].plotSlice(np.log10(condsub), normal='Y', grid=True, clim=(-4, -1))\n",
    "plt.plot(locs[:,0], locs[:,1], '.')\n",
    "plt.plot(locs[itx,0], locs[itx,1], 'ro')\n",
    "xlim(-500, 500)\n",
    "ylim(-500, 50.)"
   ]
  },
  {
   "cell_type": "code",
   "execution_count": 18,
   "metadata": {
    "collapsed": false
   },
   "outputs": [
    {
     "name": "stdout",
     "output_type": "stream",
     "text": [
      "-124.0\n"
     ]
    },
    {
     "data": {
      "text/plain": [
       "(-500, 50.0)"
      ]
     },
     "execution_count": 18,
     "metadata": {},
     "output_type": "execute_result"
    },
    {
     "data": {
      "image/png": "[encoded data removed]",
      "text/plain": [
       "<matplotlib.figure.Figure at 0x10a508fd0>"
      ]
     },
     "metadata": {},
     "output_type": "display_data"
    }
   ],
   "source": [
    "itx = 5\n",
    "condsub = submaps[itx]*sigma[~inactind]\n",
    "print submeshes[itx].vectorCCz[7]\n",
    "submeshes[itx].plotSlice(np.log10(condsub), normal='Y', grid=True, clim=(-4, -1))\n",
    "plt.plot(locs[:,0], locs[:,1], '.')\n",
    "plt.plot(locs[itx,0], locs[itx,1], 'ro')\n",
    "xlim(-500, 500)\n",
    "ylim(-500, 50.)"
   ]
  }
 ],
 "metadata": {
  "anaconda-cloud": {},
  "kernelspec": {
   "display_name": "Python [default]",
   "language": "python",
   "name": "python2"
  },
  "language_info": {
   "codemirror_mode": {
    "name": "ipython",
    "version": 2
   },
   "file_extension": ".py",
   "mimetype": "text/x-python",
   "name": "python",
   "nbconvert_exporter": "python",
   "pygments_lexer": "ipython2",
   "version": "2.7.12"
  }
 },
 "nbformat": 4,
 "nbformat_minor": 0
}
