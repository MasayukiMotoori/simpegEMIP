{
 "cells": [
  {
   "cell_type": "code",
   "execution_count": 1,
   "metadata": {
    "collapsed": false
   },
   "outputs": [
    {
     "name": "stdout",
     "output_type": "stream",
     "text": [
      "Populating the interactive namespace from numpy and matplotlib\n"
     ]
    }
   ],
   "source": [
    "from SimPEG import EM, Survey\n",
    "from SimPEG import Mesh, Utils\n",
    "import numpy as np\n",
    "import matplotlib.pyplot as plt\n",
    "from pymatsolver import PardisoSolver\n",
    "from simpegEMIP.TDEM import Problem3D_e\n",
    "%pylab inline\n",
    "cs = 40.\n",
    "npad = 5\n",
    "hx = [(cs, npad, -1.3), (cs, 21), (cs, npad, 1.3)]\n",
    "hy = [(cs, npad, -1.3), (cs, 21), (cs, npad, 1.3)]\n",
    "hz = [(cs, npad, -1.3), (cs, 20), (cs, npad, 1.3)]\n",
    "mesh = Mesh.TensorMesh([hx, hy, hz], x0=\"CCC\")\n",
    "sigma = np.ones(mesh.nC)*1e-2\n",
    "airind = mesh.gridCC[:,2] > 0.\n",
    "sigma[airind] = 1e-2\n",
    "\n",
    "x = mesh.vectorCCx[(mesh.vectorCCx > -155.) & (mesh.vectorCCx < 155.)]\n",
    "y = mesh.vectorCCx[(mesh.vectorCCy > -155.) & (mesh.vectorCCy < 155.)]\n",
    "\n",
    "Aloc = np.r_[-20., 0., 0.]\n",
    "Bloc = np.r_[20., 0., 0.]\n",
    "# M = Utils.ndgrid(x-25., y, np.r_[0.])\n",
    "# N = Utils.ndgrid(x+25., y, np.r_[0.])\n",
    "# rxloc = Utils.ndgrid(x, y, np.r_[0.])\n",
    "rxloc = np.r_[300., 0., 0.].reshape([1, -1])\n",
    "srcloc = np.vstack((Aloc, Bloc))"
   ]
  },
  {
   "cell_type": "code",
   "execution_count": 2,
   "metadata": {
    "collapsed": false
   },
   "outputs": [
    {
     "name": "stdout",
     "output_type": "stream",
     "text": [
      "40.0\n",
      "379.47331922\n",
      "670.2412\n"
     ]
    }
   ],
   "source": [
    "tmax = 1e-3\n",
    "tmin = 1e-4\n",
    "print 1200*np.sqrt(100*tmin) / 3.\n",
    "print 1200*np.sqrt(100*tmax) \n",
    "print mesh.hx[:10].sum()"
   ]
  },
  {
   "cell_type": "code",
   "execution_count": 3,
   "metadata": {
    "collapsed": false
   },
   "outputs": [],
   "source": [
    "times = np.logspace(-4, -3, 21)\n",
    "rx = EM.TDEM.Rx.Point_e(rxloc, times, orientation='x')\n",
    "src = EM.TDEM.Src.LineCurrent([rx], loc=srcloc, waveform = EM.TDEM.Src.StepOffWaveform())"
   ]
  },
  {
   "cell_type": "code",
   "execution_count": 4,
   "metadata": {
    "collapsed": false
   },
   "outputs": [],
   "source": [
    "eta = np.ones_like(sigma) * 0.2\n",
    "# eta[airind] = 0.\n",
    "tau = np.ones_like(sigma) * 0.1\n",
    "c = np.ones_like(sigma) * 0.5\n",
    "\n",
    "prb = Problem3D_e(mesh, sigmaInf = sigma, eta=eta, tau=tau, c=c, verbose=True)\n",
    "# prb = EM.TDEM.Problem3D_e(mesh, sigma=sigma, verbose=True)\n",
    "prb.Solver = PardisoSolver\n",
    "prb.solverOpts = {\"is_symmetric\":False}\n",
    "# prb.timeSteps = [(1e-4, 10), (5e-4, 10), (1e-3, 10)]\n",
    "prb.timeSteps = [(1e-4, 15)]"
   ]
  },
  {
   "cell_type": "code",
   "execution_count": 5,
   "metadata": {
    "collapsed": true
   },
   "outputs": [],
   "source": [
    "survey = EM.TDEM.Survey([src])\n",
    "survey.pair(prb)"
   ]
  },
  {
   "cell_type": "code",
   "execution_count": 6,
   "metadata": {
    "collapsed": false
   },
   "outputs": [
    {
     "name": "stderr",
     "output_type": "stream",
     "text": [
      "/Users/sgkang/Projects/simpeg/SimPEG/Props.py:354: UserWarning: Cannot add model as there are no active mappings, choose from: ['cMap', 'etaMap', 'rhoMap', 'sigmaInfMap', 'sigmaMap', 'tauMap']\n",
      "  \"', '\".join(self._all_map_names)\n"
     ]
    },
    {
     "name": "stdout",
     "output_type": "stream",
     "text": [
      "Calculating Initial fields\n",
      "Factorize system matrix for DC problem\n"
     ]
    },
    {
     "name": "stderr",
     "output_type": "stream",
     "text": [
      "/Users/sgkang/Projects/simpegemip/simpegEMIP/TDEM/ProblemTDEMIP.py:230: VisibleDeprecationWarning: using a non-integer number instead of an integer will result in an error in the future\n",
      "  tn = self.times[n]\n"
     ]
    },
    {
     "name": "stdout",
     "output_type": "stream",
     "text": [
      "**************************************************\n",
      "Calculating fields(m)\n",
      "**************************************************\n",
      "Factoring...   (dt = 1.000000e-04)\n",
      "Done\n",
      "    Solving...   (tInd = 1)\n",
      "    Done...\n",
      "    Solving...   (tInd = 2)\n",
      "    Done...\n",
      "    Solving...   (tInd = 3)\n",
      "    Done...\n",
      "    Solving...   (tInd = 4)\n",
      "    Done...\n",
      "    Solving...   (tInd = 5)\n",
      "    Done...\n",
      "    Solving...   (tInd = 6)\n",
      "    Done...\n",
      "    Solving...   (tInd = 7)\n",
      "    Done...\n",
      "    Solving...   (tInd = 8)\n",
      "    Done...\n",
      "    Solving...   (tInd = 9)\n",
      "    Done...\n",
      "    Solving...   (tInd = 10)\n",
      "    Done...\n",
      "    Solving...   (tInd = 11)\n",
      "    Done...\n",
      "    Solving...   (tInd = 12)\n",
      "    Done...\n",
      "    Solving...   (tInd = 13)\n",
      "    Done...\n",
      "    Solving...   (tInd = 14)\n",
      "    Done...\n",
      "    Solving...   (tInd = 15)\n",
      "    Done...\n",
      "**************************************************\n",
      "Done calculating fields(m)\n",
      "**************************************************\n"
     ]
    }
   ],
   "source": [
    "f = prb.fields(sigma)"
   ]
  },
  {
   "cell_type": "code",
   "execution_count": 12,
   "metadata": {
    "collapsed": false
   },
   "outputs": [],
   "source": [
    "dpred = survey.dpred(sigma, f=f)"
   ]
  },
  {
   "cell_type": "code",
   "execution_count": 13,
   "metadata": {
    "collapsed": false
   },
   "outputs": [],
   "source": [
    "from simpegem1d import DigFilter"
   ]
  },
  {
   "cell_type": "code",
   "execution_count": 14,
   "metadata": {
    "collapsed": false
   },
   "outputs": [],
   "source": [
    "from em_examples import FDEMDipolarfields\n",
    "wt, tbase, omega_int = DigFilter.setFrequency(rx.times)\n",
    "frequency = omega_int/np.pi/2.\n",
    "def ColeColeSeigel(f, sigmaInf, eta, tau, c):\n",
    "    w = 2*np.pi*f\n",
    "    return sigmaInf*(1 - eta/(1 + (1j*w*tau)**c))\n",
    "sigma = ColeColeSeigel(frequency, 1e-2, 0.2, 0.1, 0.5)\n",
    "anax, anay, anaz = FDEMDipolarfields.E_from_ElectricDipoleWholeSpace(rxloc, np.r_[0, 0, 0], sigma, frequency, orientation=\"X\", length=40.)\n",
    "out = DigFilter.transFilt(anax, wt, tbase, omega_int, rx.times)"
   ]
  },
  {
   "cell_type": "code",
   "execution_count": 15,
   "metadata": {
    "collapsed": true
   },
   "outputs": [],
   "source": [
    "from em_examples import TDEMDipolarfields\n",
    "anax_temp, anay, anaz = TDEMDipolarfields.E_from_ElectricDipoleWholeSpace(rxloc, np.r_[0, 0, 0], 0.01, rx.times, orientation=\"X\", length=40.)"
   ]
  },
  {
   "cell_type": "code",
   "execution_count": 16,
   "metadata": {
    "collapsed": false
   },
   "outputs": [
    {
     "data": {
      "image/png": "[encoded data removed]",
      "text/plain": [
       "<matplotlib.figure.Figure at 0x11ca17fd0>"
      ]
     },
     "metadata": {},
     "output_type": "display_data"
    }
   ],
   "source": [
    "plt.loglog(rx.times, anax_temp, 'b-')\n",
    "plt.loglog(rx.times, out[0], 'r-')\n",
    "plt.loglog(rx.times, dpred, 'k.')\n",
    "plt.grid(True)"
   ]
  },
  {
   "cell_type": "code",
   "execution_count": null,
   "metadata": {
    "collapsed": true
   },
   "outputs": [],
   "source": []
  }
 ],
 "metadata": {
  "anaconda-cloud": {},
  "kernelspec": {
   "display_name": "Python [default]",
   "language": "python",
   "name": "python2"
  },
  "language_info": {
   "codemirror_mode": {
    "name": "ipython",
    "version": 2
   },
   "file_extension": ".py",
   "mimetype": "text/x-python",
   "name": "python",
   "nbconvert_exporter": "python",
   "pygments_lexer": "ipython2",
   "version": "2.7.12"
  }
 },
 "nbformat": 4,
 "nbformat_minor": 1
}
