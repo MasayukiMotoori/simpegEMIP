{
 "cells": [
  {
   "cell_type": "code",
   "execution_count": 1,
   "metadata": {
    "collapsed": false
   },
   "outputs": [
    {
     "name": "stdout",
     "output_type": "stream",
     "text": [
      "Populating the interactive namespace from numpy and matplotlib\n"
     ]
    }
   ],
   "source": [
    "from SimPEG import EM, Survey\n",
    "from SimPEG import Mesh, Utils\n",
    "import numpy as np\n",
    "import matplotlib.pyplot as plt\n",
    "from pymatsolver import PardisoSolver\n",
    "from simpegEMIP.TDEM import Problem3D_e\n",
    "%pylab inline\n",
    "cs = 40.\n",
    "npad = 10\n",
    "hx = [(cs, npad, -1.3), (cs, 21), (cs, npad, 1.3)]\n",
    "hy = [(cs, npad, -1.3), (cs, 21), (cs, npad, 1.3)]\n",
    "hz = [(cs, npad, -1.3), (cs, 20), (cs, npad, 1.3)]\n",
    "mesh = Mesh.TensorMesh([hx, hy, hz], x0=\"CCC\")\n",
    "sigma = np.ones(mesh.nC)*1e-2\n",
    "airind = mesh.gridCC[:,2] > 0.\n",
    "sigma[airind] = 1e-2\n",
    "\n",
    "x = mesh.vectorCCx[(mesh.vectorCCx > -155.) & (mesh.vectorCCx < 155.)]\n",
    "y = mesh.vectorCCx[(mesh.vectorCCy > -155.) & (mesh.vectorCCy < 155.)]\n",
    "\n",
    "Aloc = np.r_[-20., 0., 0.]\n",
    "Bloc = np.r_[20., 0., 0.]\n",
    "# M = Utils.ndgrid(x-25., y, np.r_[0.])\n",
    "# N = Utils.ndgrid(x+25., y, np.r_[0.])\n",
    "# rxloc = Utils.ndgrid(x, y, np.r_[0.])\n",
    "rxloc = np.r_[-400., 0., 0.].reshape([1, -1])\n",
    "srcloc = np.vstack((Aloc, Bloc))"
   ]
  },
  {
   "cell_type": "code",
   "execution_count": 2,
   "metadata": {
    "collapsed": false
   },
   "outputs": [
    {
     "name": "stdout",
     "output_type": "stream",
     "text": [
      "40.0\n",
      "1200.0\n",
      "2216.21385872\n"
     ]
    }
   ],
   "source": [
    "tmax = 1e-2\n",
    "tmin = 1e-4\n",
    "print 1200*np.sqrt(100*tmin) / 3.\n",
    "print 1200*np.sqrt(100*tmax) \n",
    "print mesh.hx[:10].sum()"
   ]
  },
  {
   "cell_type": "code",
   "execution_count": 3,
   "metadata": {
    "collapsed": false
   },
   "outputs": [],
   "source": [
    "times = np.logspace(-3, -2, 21)\n",
    "rx = EM.TDEM.Rx.Point_e(rxloc, times, orientation='x')\n",
    "src = EM.TDEM.Src.LineCurrent([rx], loc=srcloc, waveform = EM.TDEM.Src.StepOffWaveform())"
   ]
  },
  {
   "cell_type": "code",
   "execution_count": 5,
   "metadata": {
    "collapsed": false
   },
   "outputs": [],
   "source": [
    "eta = np.ones_like(sigma)\n",
    "eta[airind] = 0.\n",
    "tau = np.ones_like(sigma) * 0.5\n",
    "c = np.ones_like(sigma)\n",
    "\n",
    "# prb = Problem3D_e(mesh, sigmaInf = sigma, eta=eta, tau=tau, c=c, verbose=True)\n",
    "prb = EM.TDEM.Problem3D_e(mesh, sigma=sigma, verbose=True)\n",
    "prb.Solver = PardisoSolver\n",
    "prb.solverOpts = {\"is_symmetric\":False}\n",
    "# prb.timeSteps = [(1e-4, 10), (5e-4, 10), (1e-3, 10)]\n",
    "prb.timeSteps = [(5e-4, 10), (1e-3, 10)]"
   ]
  },
  {
   "cell_type": "code",
   "execution_count": 6,
   "metadata": {
    "collapsed": true
   },
   "outputs": [],
   "source": [
    "survey = EM.TDEM.Survey([src])\n",
    "survey.pair(prb)"
   ]
  },
  {
   "cell_type": "code",
   "execution_count": 7,
   "metadata": {
    "collapsed": false
   },
   "outputs": [
    {
     "name": "stderr",
     "output_type": "stream",
     "text": [
      "/Users/sgkang/Projects/simpeg/SimPEG/Props.py:354: UserWarning: Cannot add model as there are no active mappings, choose from: ['rhoMap', 'sigmaMap']\n",
      "  \"', '\".join(self._all_map_names)\n"
     ]
    },
    {
     "name": "stdout",
     "output_type": "stream",
     "text": [
      "Calculating Initial fields\n",
      "Factorize system matrix for DC problem\n",
      "**************************************************\n",
      "Calculating fields(m)\n",
      "**************************************************\n",
      "Factoring...   (dt = 5.000000e-04)\n",
      "Done\n",
      "    Solving...   (tInd = 1)\n",
      "    Done...\n",
      "    Solving...   (tInd = 2)\n",
      "    Done...\n",
      "    Solving...   (tInd = 3)\n",
      "    Done...\n",
      "    Solving...   (tInd = 4)\n",
      "    Done...\n",
      "    Solving...   (tInd = 5)\n",
      "    Done...\n",
      "    Solving...   (tInd = 6)\n",
      "    Done...\n",
      "    Solving...   (tInd = 7)\n",
      "    Done...\n",
      "    Solving...   (tInd = 8)\n",
      "    Done...\n",
      "    Solving...   (tInd = 9)\n",
      "    Done...\n",
      "    Solving...   (tInd = 10)\n",
      "    Done...\n",
      "Factoring...   (dt = 1.000000e-03)\n",
      "Done\n",
      "    Solving...   (tInd = 11)\n",
      "    Done...\n",
      "    Solving...   (tInd = 12)\n",
      "    Done...\n",
      "    Solving...   (tInd = 13)\n",
      "    Done...\n",
      "    Solving...   (tInd = 14)\n",
      "    Done...\n",
      "    Solving...   (tInd = 15)\n",
      "    Done...\n",
      "    Solving...   (tInd = 16)\n",
      "    Done...\n",
      "    Solving...   (tInd = 17)\n",
      "    Done...\n",
      "    Solving...   (tInd = 18)\n",
      "    Done...\n",
      "    Solving...   (tInd = 19)\n",
      "    Done...\n",
      "    Solving...   (tInd = 20)\n",
      "    Done...\n",
      "**************************************************\n",
      "Done calculating fields(m)\n",
      "**************************************************\n"
     ]
    }
   ],
   "source": [
    "f = prb.fields(sigma)"
   ]
  },
  {
   "cell_type": "code",
   "execution_count": 8,
   "metadata": {
    "collapsed": false
   },
   "outputs": [],
   "source": [
    "dpred = survey.dpred(sigma, f=f)"
   ]
  },
  {
   "cell_type": "code",
   "execution_count": 9,
   "metadata": {
    "collapsed": false
   },
   "outputs": [
    {
     "data": {
      "text/plain": [
       "array([-20.,   0.,   0.])"
      ]
     },
     "execution_count": 9,
     "metadata": {},
     "output_type": "execute_result"
    }
   ],
   "source": [
    "srcloc[0]"
   ]
  },
  {
   "cell_type": "code",
   "execution_count": 10,
   "metadata": {
    "collapsed": false
   },
   "outputs": [],
   "source": [
    "from em_examples import TDEMDipolarfields\n",
    "anax, anay, anaz = TDEMDipolarfields.E_from_ElectricDipoleWholeSpace(rxloc, np.r_[0, 0, 0], 0.01, rx.times, orientation=\"X\", length=40.)"
   ]
  },
  {
   "cell_type": "code",
   "execution_count": 11,
   "metadata": {
    "collapsed": false
   },
   "outputs": [
    {
     "data": {
      "image/png": "[encoded data removed]",
      "text/plain": [
       "<matplotlib.figure.Figure at 0x11ac7b150>"
      ]
     },
     "metadata": {},
     "output_type": "display_data"
    }
   ],
   "source": [
    "plt.loglog(rx.times, dpred, 'k.-')\n",
    "plt.loglog(rx.times, anax, 'r.-')\n",
    "plt.grid(True)"
   ]
  }
 ],
 "metadata": {
  "anaconda-cloud": {},
  "kernelspec": {
   "display_name": "Python [default]",
   "language": "python",
   "name": "python2"
  },
  "language_info": {
   "codemirror_mode": {
    "name": "ipython",
    "version": 2
   },
   "file_extension": ".py",
   "mimetype": "text/x-python",
   "name": "python",
   "nbconvert_exporter": "python",
   "pygments_lexer": "ipython2",
   "version": "2.7.12"
  }
 },
 "nbformat": 4,
 "nbformat_minor": 1
}
