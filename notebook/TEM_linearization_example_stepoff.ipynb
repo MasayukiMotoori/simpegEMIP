{
 "cells": [
  {
   "cell_type": "code",
   "execution_count": 9,
   "metadata": {},
   "outputs": [
    {
     "name": "stdout",
     "output_type": "stream",
     "text": [
      ">> Compute Sensitivity matrix\n",
      " 2 / 2"
     ]
    }
   ],
   "source": [
    "# %%writefile tem_ip_linear.py\n",
    "from SimPEG import *\n",
    "from SimPEG import EM\n",
    "from scipy.constants import mu_0\n",
    "import numpy as np\n",
    "import scipy.sparse as sp\n",
    "from simpegEMIP.StretchedExponential import SEInvImpulseProblem, SESurvey\n",
    "import matplotlib.pyplot as plt\n",
    "from pymatsolver import PardisoSolver\n",
    "from simpegEMIP.TDEM import geteref, Problem3D_Inductive, Survey, getwe, get_we_eff\n",
    "# from simpegem1d import DigFilter\n",
    "# %matplotlib inline\n",
    "# import matplotlib \n",
    "# matplotlib.rcParams[\"font.size\"] = 14\n",
    "\n",
    "# eta, tau, c = 0.1, 0.01, 0.5\n",
    "cs, ncx, ncz, npad = 10., 25, 20, 18\n",
    "hx = [(cs,ncx), (cs,npad,1.3)]\n",
    "hz = [(cs,npad,-1.3), (cs,ncz), (cs,npad,1.3)]\n",
    "mesh = Mesh.CylMesh([hx,1,hz], '00C')    \n",
    "sigmaInf = np.ones(mesh.nC) * 0.001\n",
    "airind = mesh.gridCC[:,2]>0.\n",
    "actinds = ~airind\n",
    "# layerind = np.logical_and(mesh.gridCC[:,2]<-50, mesh.gridCC[:,2]>-100.)\n",
    "layerind = (np.logical_and(mesh.gridCC[:,2]<-50, mesh.gridCC[:,2]>-100.)) & (mesh.gridCC[:,0]<100.)\n",
    "sigmaInf[airind] = 1e-8\n",
    "sigmaInf[layerind] = 0.01\n",
    "eta = np.zeros(mesh.nC)\n",
    "eta[layerind] = 0.5\n",
    "tau = np.ones(mesh.nC) * 0.005\n",
    "c = np.ones(mesh.nC) * 0.5\n",
    "\n",
    "actmapeta = Maps.InjectActiveCells(mesh, actinds, 0.)\n",
    "actmaptau = Maps.InjectActiveCells(mesh, actinds, 0.005)\n",
    "actmapc = Maps.InjectActiveCells(mesh, actinds, 0.5)\n",
    "\n",
    "wires = Maps.Wires(('eta', actmapeta.nP), ('tau', actmapeta.nP), ('c', actmapeta.nP))\n",
    "\n",
    "taumap = actmaptau*wires.tau\n",
    "etamap = actmapeta*wires.eta\n",
    "cmap = actmapc*wires.c\n",
    "\n",
    "m = np.r_[eta[actinds], tau[actinds], c[actinds]]\n",
    "\n",
    "rxloc = np.array([[0., 0., 30.]])\n",
    "srcloc = np.array([[0., 0., 30.]])\n",
    "dt = 2e-5\n",
    "# rx_ramp = EM.TDEM.Rx.Point_dbdt(rxloc, np.logspace(np.log10(2e-5), np.log10(0.009), 51)+dt, 'z')\n",
    "# src_ramp = EM.TDEM.Src.CircularLoop([rx_ramp], waveform=EM.TDEM.Src.RampOffWaveform(offTime=dt), loc=srcloc)\n",
    "rx_ramp = EM.TDEM.Rx.Point_dbdt(rxloc, np.logspace(np.log10(2e-5), np.log10(0.009), 51), 'z')\n",
    "src_ramp = EM.TDEM.Src.CircularLoop([rx_ramp], waveform=EM.TDEM.Src.StepOffWaveform(), loc=srcloc)\n",
    "src_ramp1 = EM.TDEM.Src.CircularLoop([rx_ramp], waveform=EM.TDEM.Src.StepOffWaveform(), loc=srcloc)\n",
    "survey_ramp = EM.TDEM.Survey([src_ramp, src_ramp1])\n",
    "prb_em_ramp = EM.TDEM.Problem3D_e(mesh, sigmaMap=Maps.IdentityMap(mesh))\n",
    "# prb_em_ramp.verbose = True\n",
    "prb_em_ramp.timeSteps = [(1e-06, 5), (2.5e-06, 5), (5e-06, 5), (1e-05, 10), (2e-05, 10), (4e-05, 10), (8e-05, 10), (1.6e-04, 10), (3.2e-04, 20)]\n",
    "# prb_em_ramp.timeSteps = [(1e-6, 5), (1e-5, 5), (5e-5, 10), (1e-4, 10), (5e-4, 10), (1e-3, 20)]\n",
    "prb_em_ramp.Solver = PardisoSolver\n",
    "prb_em_ramp.pair(survey_ramp)\n",
    "# m = np.r_[sigmaInf, etavec, np.log(tauvec), cvec]\n",
    "F_ramp = prb_em_ramp.fields(sigmaInf)\n",
    "data_ramp = survey_ramp.dpred(sigmaInf, f=F_ramp)\n",
    "cur = []\n",
    "for t in prb_em_ramp.times:\n",
    "    cur.append(src_ramp.waveform.eval(t))\n",
    "cur = np.hstack(cur)\n",
    "\n",
    "rxloc = np.array([[0., 0., 30.]])\n",
    "srcloc = np.array([[0., 0., 30.]])\n",
    "dt = 1e-6\n",
    "survey_ip_ramp = Survey([src_ramp, src_ramp1])\n",
    "e = F_ramp[:, 'eSolution', :]\n",
    "eref_ramp = geteref(e, mesh, option=\"max\") \n",
    "prb_ip_ramp = Problem3D_Inductive(\n",
    "    mesh, \n",
    "    sigmaInf=sigmaInf, \n",
    "    etaMap=etamap, \n",
    "    tauMap=taumap, \n",
    "    cMap=cmap, \n",
    "    actinds = ~airind,\n",
    "    wave_option = \"impulse\"\n",
    "#     tlags = [0, dt],     \n",
    ")\n",
    "prb_ip_ramp.Solver = PardisoSolver\n",
    "prb_ip_ramp.pair(survey_ip_ramp)\n",
    "prb_ip_ramp.set_eref(eref_ramp)\n",
    "prb_ip_ramp.timeSteps = [(1e-06, 5), (2.5e-06, 5), (5e-06, 5), (1e-05, 10), (2e-05, 10), (4e-05, 10), (8e-05, 10), (1.6e-04, 10), (3.2e-04, 20)]\n",
    "# prb_ip_ramp.timeSteps = [(1e-6, 5), (1e-5, 5), (5e-5, 10), (1e-4, 10), (5e-4, 10), (1e-3, 20)]\n",
    "prb_ip_ramp.J = prb_ip_ramp.getJ()\n",
    "prb_ip_ramp.we = get_we_eff(e, eref_ramp, prb_ip_ramp.J, mesh, actinds)\n",
    "ip_ramp_approx = survey_ip_ramp.dpred(m)"
   ]
  },
  {
   "cell_type": "code",
   "execution_count": 10,
   "metadata": {},
   "outputs": [],
   "source": [
    "# def get_we_eff(e, eref, J, mesh, active):\n",
    "#     # Here we assume dimension of J: [nSrc x nC]\n",
    "#     nSrc = e.shape[1]\n",
    "#     ntime = e.shape[2]\n",
    "#     we_eff = np.zeros((mesh.nE, nSrc))\n",
    "#     J_sum_src = (J**2).sum(axis=0)\n",
    "#     we_cc_eff = np.zeros((mesh.nC, ntime))\n",
    "#     for iSrc in range(nSrc):\n",
    "#         we_cc = getwe(e[:, iSrc, :], eref[:, iSrc], mesh)\n",
    "#         a_ik = J[iSrc, :]**2 / J_sum_src\n",
    "#         we_cc_eff[actinds] += Utils.sdiag(a_ik) * we_cc[actinds, :]\n",
    "#     return we_cc_eff"
   ]
  },
  {
   "cell_type": "code",
   "execution_count": 11,
   "metadata": {},
   "outputs": [],
   "source": [
    "# inds_cc = (mesh.gridCC[:,0]<200.) & (mesh.gridCC[:,2]>-200.) & (mesh.gridCC[:,2]<0.)\n",
    "# pts=mesh.gridCC[inds_cc,:]\n",
    "# inds = Utils.closestPoints(mesh, pts)\n",
    "# for ind in inds:\n",
    "#     plt.semilogx(prb_em_ramp.times, we[ind,:], 'k-', alpha=0.1)"
   ]
  },
  {
   "cell_type": "code",
   "execution_count": 12,
   "metadata": {},
   "outputs": [],
   "source": [
    "# temp = mesh.aveE2CC*eref_ramp[:,1]\n",
    "# temp[temp<0.] = 1e-20\n",
    "# mesh.plotImage(np.log10(abs(temp)), mirror=True, )\n",
    "# plt.xlim(-200, 200)\n",
    "# plt.ylim(-200, 0)"
   ]
  },
  {
   "cell_type": "code",
   "execution_count": 13,
   "metadata": {},
   "outputs": [],
   "source": [
    "Pdt = prb_em_ramp.timeMesh.getInterpolationMat(survey_ip_ramp.times, \"CC\")*prb_em_ramp.timeMesh.faceDiv"
   ]
  },
  {
   "cell_type": "code",
   "execution_count": 14,
   "metadata": {},
   "outputs": [],
   "source": [
    "# mesh.plotImage(prb_ip_ramp.Peta[:,39], mirror=True, )\n",
    "# plt.xlim(-200, 200)\n",
    "# plt.ylim(-200, 0)"
   ]
  },
  {
   "cell_type": "code",
   "execution_count": 15,
   "metadata": {},
   "outputs": [],
   "source": [
    "# temp = prb_ip_ramp.J.dot(prb_ip_ramp.actMap.P.T*prb_ip_ramp.Peta)"
   ]
  },
  {
   "cell_type": "code",
   "execution_count": 16,
   "metadata": {},
   "outputs": [],
   "source": [
    "data = np.load(\"data.npy\")\n",
    "data_ramp = np.load(\"data_ramp.npy\")\n",
    "data_vtem = np.load(\"data_vtem.npy\")\n",
    "\n",
    "data_em = np.load(\"dataem.npy\")\n",
    "data_em_ramp = np.load(\"dataem_ramp.npy\")\n",
    "data_em_vtem = np.load(\"dataem_vtem.npy\")\n",
    "ip = data - data_em\n",
    "ip_ramp = data_ramp - data_em_ramp\n",
    "ip_vtem = data_vtem - data_em_vtem"
   ]
  },
  {
   "cell_type": "code",
   "execution_count": 17,
   "metadata": {},
   "outputs": [],
   "source": [
    "data_ramp_approx = data_em + ip_ramp_approx.reshape((2, survey_ip_ramp.times.size))[0,:]"
   ]
  },
  {
   "cell_type": "code",
   "execution_count": 14,
   "metadata": {},
   "outputs": [],
   "source": [
    "# J = np.load(\"J.npy\")"
   ]
  },
  {
   "cell_type": "code",
   "execution_count": 15,
   "metadata": {},
   "outputs": [],
   "source": [
    "# plt.semilogy(abs(J[actinds]))\n",
    "# plt.semilogy(abs(prb_ip_ramp.J.flatten())[actinds], '.')"
   ]
  },
  {
   "cell_type": "code",
   "execution_count": 16,
   "metadata": {},
   "outputs": [],
   "source": [
    "# plt.loglog(rx_ip_ramp.times, -data_ramp, 'k')\n",
    "# plt.loglog(rx_ip_ramp.times, data_ramp, '--k')\n",
    "# plt.loglog(rx_ip_ramp.times, -data_em_ramp, 'b-')\n",
    "# plt.loglog(rx_ip_ramp.times, ip_ramp, 'r-')\n",
    "# plt.plot(rx_ip_ramp.times, ip_ramp_approx, 'r.')"
   ]
  },
  {
   "cell_type": "code",
   "execution_count": 18,
   "metadata": {},
   "outputs": [
    {
     "data": {
      "text/plain": [
       "[<matplotlib.lines.Line2D at 0x117d24908>]"
      ]
     },
     "execution_count": 18,
     "metadata": {},
     "output_type": "execute_result"
    },
    {
     "data": {
      "image/png": "[encoded data removed]",
      "text/plain": [
       "<matplotlib.figure.Figure at 0x128855898>"
      ]
     },
     "metadata": {},
     "output_type": "display_data"
    }
   ],
   "source": [
    "plt.loglog(rx_ramp.times, -data, 'k')\n",
    "plt.loglog(rx_ramp.times, data, '--k')\n",
    "# plt.loglog(rx_ramp.times, -data_ramp, 'k')\n",
    "# plt.loglog(rx_ramp.times, data_ramp, '--k')\n",
    "\n",
    "plt.loglog(rx_ramp.times, -data_ramp_approx, 'bo')\n",
    "plt.loglog(rx_ramp.times, data_ramp_approx, 'b.')"
   ]
  }
 ],
 "metadata": {
  "anaconda-cloud": {},
  "kernelspec": {
   "display_name": "Python 3",
   "language": "python",
   "name": "python3"
  },
  "language_info": {
   "codemirror_mode": {
    "name": "ipython",
    "version": 3
   },
   "file_extension": ".py",
   "mimetype": "text/x-python",
   "name": "python",
   "nbconvert_exporter": "python",
   "pygments_lexer": "ipython3",
   "version": "3.6.4"
  }
 },
 "nbformat": 4,
 "nbformat_minor": 1
}
