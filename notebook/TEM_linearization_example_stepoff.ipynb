{
 "cells": [
  {
   "cell_type": "code",
   "execution_count": 29,
   "metadata": {
    "collapsed": true
   },
   "outputs": [],
   "source": [
    "from SimPEG import *\n",
    "from SimPEG import EM\n",
    "from scipy.constants import mu_0\n",
    "import numpy as np\n",
    "import scipy.sparse as sp\n",
    "from simpegEMIP.StretchedExponential import SEInvImpulseProblem, SESurvey\n",
    "import matplotlib.pyplot as plt\n",
    "from pymatsolver import PardisoSolver\n",
    "from simpegem1d import DigFilter\n",
    "%matplotlib inline\n",
    "import matplotlib \n",
    "matplotlib.rcParams[\"font.size\"] = 14"
   ]
  },
  {
   "cell_type": "code",
   "execution_count": 30,
   "metadata": {
    "collapsed": true
   },
   "outputs": [],
   "source": [
    "# eta, tau, c = 0.1, 0.01, 0.5\n",
    "cs, ncx, ncz, npad = 10., 25, 20, 18\n",
    "hx = [(cs,ncx), (cs,npad,1.3)]\n",
    "hz = [(cs,npad,-1.3), (cs,ncz), (cs,npad,1.3)]\n",
    "mesh = Mesh.CylMesh([hx,1,hz], '00C')    \n",
    "sigmaInf = np.ones(mesh.nC) * 0.001\n",
    "airind = mesh.gridCC[:,2]>0.\n",
    "actinds = ~airind\n",
    "# layerind = np.logical_and(mesh.gridCC[:,2]<-50, mesh.gridCC[:,2]>-100.)\n",
    "layerind = (np.logical_and(mesh.gridCC[:,2]<-50, mesh.gridCC[:,2]>-100.)) & (mesh.gridCC[:,0]<100.)\n",
    "sigmaInf[airind] = 1e-8\n",
    "sigmaInf[layerind] = 0.01\n",
    "eta = np.zeros(mesh.nC)\n",
    "eta[layerind] = 0.5\n",
    "tau = np.ones(mesh.nC) * 0.005\n",
    "c = np.ones(mesh.nC) * 0.5\n",
    "\n",
    "actmapeta = Maps.InjectActiveCells(mesh, actinds, 0.)\n",
    "actmaptau = Maps.InjectActiveCells(mesh, actinds, 0.005)\n",
    "actmapc = Maps.InjectActiveCells(mesh, actinds, 0.5)\n",
    "\n",
    "wires = Maps.Wires(('eta', actmapeta.nP), ('tau', actmapeta.nP), ('c', actmapeta.nP))\n",
    "\n",
    "taumap = actmaptau*wires.tau\n",
    "etamap = actmapeta*wires.eta\n",
    "cmap = actmapc*wires.c\n",
    "\n",
    "m = np.r_[eta[actinds], tau[actinds], c[actinds]]"
   ]
  },
  {
   "cell_type": "code",
   "execution_count": 31,
   "metadata": {
    "collapsed": true
   },
   "outputs": [],
   "source": [
    "rxloc = np.array([[0., 0., 30.]])\n",
    "srcloc = np.array([[0., 0., 30.]])\n",
    "dt = 2e-5\n",
    "# rx_ramp = EM.TDEM.Rx.Point_dbdt(rxloc, np.logspace(np.log10(2e-5), np.log10(0.009), 51)+dt, 'z')\n",
    "# src_ramp = EM.TDEM.Src.CircularLoop([rx_ramp], waveform=EM.TDEM.Src.RampOffWaveform(offTime=dt), loc=srcloc)\n",
    "rx_ramp = EM.TDEM.Rx.Point_dbdt(rxloc, np.logspace(np.log10(2e-5), np.log10(0.009), 51), 'z')\n",
    "src_ramp = EM.TDEM.Src.CircularLoop([rx_ramp], waveform=EM.TDEM.Src.StepOffWaveform(), loc=srcloc)\n",
    "survey_ramp = EM.TDEM.Survey([src_ramp])\n",
    "prb_em_ramp = EM.TDEM.Problem3D_e(mesh, sigmaMap=Maps.IdentityMap(mesh))\n",
    "# prb_em_ramp.verbose = True\n",
    "prb_em_ramp.timeSteps = [(1e-06, 5), (2.5e-06, 5), (5e-06, 5), (1e-05, 10), (2e-05, 10), (4e-05, 10), (8e-05, 10), (1.6e-04, 10), (3.2e-04, 20)]\n",
    "prb_em_ramp.Solver = PardisoSolver\n",
    "prb_em_ramp.pair(survey_ramp)\n",
    "# m = np.r_[sigmaInf, etavec, np.log(tauvec), cvec]\n",
    "F_ramp = prb_em_ramp.fields(sigmaInf)\n",
    "data_ramp = survey_ramp.dpred(sigmaInf, f=F_ramp)\n",
    "cur = []\n",
    "for t in prb_em_ramp.times:\n",
    "    cur.append(src_ramp.waveform.eval(t))\n",
    "cur = np.hstack(cur)"
   ]
  },
  {
   "cell_type": "code",
   "execution_count": 32,
   "metadata": {
    "collapsed": true
   },
   "outputs": [],
   "source": [
    "from simpegEMIP.TDEM import geteref, Problem3D_Inductive, Survey"
   ]
  },
  {
   "cell_type": "code",
   "execution_count": 33,
   "metadata": {},
   "outputs": [],
   "source": [
    "eref_ramp = geteref(F_ramp[src_ramp, 'eSolution', :], mesh, option=None, tInd=1) "
   ]
  },
  {
   "cell_type": "code",
   "execution_count": 34,
   "metadata": {},
   "outputs": [
    {
     "data": {
      "text/plain": [
       "(2451, 86)"
      ]
     },
     "execution_count": 34,
     "metadata": {},
     "output_type": "execute_result"
    }
   ],
   "source": [
    "F_ramp[src_ramp, 'eSolution', :].shape"
   ]
  },
  {
   "cell_type": "code",
   "execution_count": 35,
   "metadata": {},
   "outputs": [
    {
     "data": {
      "text/plain": [
       "array([  0.00000000e+00,   1.00000000e-06,   2.00000000e-06,\n",
       "         3.00000000e-06,   4.00000000e-06,   5.00000000e-06,\n",
       "         7.50000000e-06,   1.00000000e-05,   1.25000000e-05,\n",
       "         1.50000000e-05,   1.75000000e-05,   2.25000000e-05,\n",
       "         2.75000000e-05,   3.25000000e-05,   3.75000000e-05,\n",
       "         4.25000000e-05,   5.25000000e-05,   6.25000000e-05,\n",
       "         7.25000000e-05,   8.25000000e-05,   9.25000000e-05,\n",
       "         1.02500000e-04,   1.12500000e-04,   1.22500000e-04,\n",
       "         1.32500000e-04,   1.42500000e-04,   1.62500000e-04,\n",
       "         1.82500000e-04,   2.02500000e-04,   2.22500000e-04,\n",
       "         2.42500000e-04,   2.62500000e-04,   2.82500000e-04,\n",
       "         3.02500000e-04,   3.22500000e-04,   3.42500000e-04,\n",
       "         3.82500000e-04,   4.22500000e-04,   4.62500000e-04,\n",
       "         5.02500000e-04,   5.42500000e-04,   5.82500000e-04,\n",
       "         6.22500000e-04,   6.62500000e-04,   7.02500000e-04,\n",
       "         7.42500000e-04,   8.22500000e-04,   9.02500000e-04,\n",
       "         9.82500000e-04,   1.06250000e-03,   1.14250000e-03,\n",
       "         1.22250000e-03,   1.30250000e-03,   1.38250000e-03,\n",
       "         1.46250000e-03,   1.54250000e-03,   1.70250000e-03,\n",
       "         1.86250000e-03,   2.02250000e-03,   2.18250000e-03,\n",
       "         2.34250000e-03,   2.50250000e-03,   2.66250000e-03,\n",
       "         2.82250000e-03,   2.98250000e-03,   3.14250000e-03,\n",
       "         3.46250000e-03,   3.78250000e-03,   4.10250000e-03,\n",
       "         4.42250000e-03,   4.74250000e-03,   5.06250000e-03,\n",
       "         5.38250000e-03,   5.70250000e-03,   6.02250000e-03,\n",
       "         6.34250000e-03,   6.66250000e-03,   6.98250000e-03,\n",
       "         7.30250000e-03,   7.62250000e-03,   7.94250000e-03,\n",
       "         8.26250000e-03,   8.58250000e-03,   8.90250000e-03,\n",
       "         9.22250000e-03,   9.54250000e-03])"
      ]
     },
     "execution_count": 35,
     "metadata": {},
     "output_type": "execute_result"
    }
   ],
   "source": [
    "prb_em_ramp.times"
   ]
  },
  {
   "cell_type": "code",
   "execution_count": 47,
   "metadata": {},
   "outputs": [
    {
     "name": "stdout",
     "output_type": "stream",
     "text": [
      ">> Compute Sensitivity matrix\n",
      "\r",
      " 0 / 1"
     ]
    }
   ],
   "source": [
    "rxloc = np.array([[0., 0., 30.]])\n",
    "srcloc = np.array([[0., 0., 30.]])\n",
    "rx_ip_ramp = EM.TDEM.Rx.Point_dbdt(rxloc, np.logspace(np.log10(2e-5), np.log10(0.009), 51), 'z')\n",
    "src_ip_ramp = EM.TDEM.Src.CircularLoop([rx_ip_ramp], waveform=EM.TDEM.Src.RampOffWaveform(offTime=0.), loc=srcloc)\n",
    "dt = 1e-6\n",
    "survey_ip_ramp = Survey([src_ip_ramp])\n",
    "prb_ip_ramp = Problem3D_Inductive(\n",
    "    mesh, \n",
    "    sigmaInf=sigmaInf, \n",
    "    etaMap=etamap, \n",
    "    tauMap=taumap, \n",
    "    cMap=cmap, \n",
    "    actinds = ~airind,\n",
    "    tlags = [0, dt], \n",
    "#     wave_option = \"impulse\"\n",
    ")\n",
    "prb_ip_ramp.Solver = PardisoSolver\n",
    "prb_ip_ramp.pair(survey_ip_ramp)\n",
    "prb_ip_ramp.set_eref(eref_ramp)\n",
    "ip_ramp_approx = survey_ip_ramp.dpred(m)"
   ]
  },
  {
   "cell_type": "code",
   "execution_count": 48,
   "metadata": {},
   "outputs": [],
   "source": [
    "data = np.load(\"data.npy\")\n",
    "data_ramp = np.load(\"data_ramp.npy\")\n",
    "data_vtem = np.load(\"data_vtem.npy\")\n",
    "\n",
    "data_em = np.load(\"dataem.npy\")\n",
    "data_em_ramp = np.load(\"dataem_ramp.npy\")\n",
    "data_em_vtem = np.load(\"dataem_vtem.npy\")\n",
    "ip = data - data_em\n",
    "ip_ramp = data_ramp - data_em_ramp\n",
    "ip_vtem = data_vtem - data_em_vtem"
   ]
  },
  {
   "cell_type": "code",
   "execution_count": 49,
   "metadata": {},
   "outputs": [
    {
     "data": {
      "text/plain": [
       "(51,)"
      ]
     },
     "execution_count": 49,
     "metadata": {},
     "output_type": "execute_result"
    }
   ],
   "source": [
    "data.shape"
   ]
  },
  {
   "cell_type": "code",
   "execution_count": 50,
   "metadata": {},
   "outputs": [
    {
     "data": {
      "text/plain": [
       "(51,)"
      ]
     },
     "execution_count": 50,
     "metadata": {},
     "output_type": "execute_result"
    }
   ],
   "source": [
    "data_em.shape"
   ]
  },
  {
   "cell_type": "code",
   "execution_count": 51,
   "metadata": {},
   "outputs": [],
   "source": [
    "data_ramp_approx = data_em + ip_ramp_approx"
   ]
  },
  {
   "cell_type": "code",
   "execution_count": 52,
   "metadata": {
    "collapsed": true
   },
   "outputs": [],
   "source": [
    "# J = np.load(\"J.npy\")"
   ]
  },
  {
   "cell_type": "code",
   "execution_count": 53,
   "metadata": {
    "collapsed": true
   },
   "outputs": [],
   "source": [
    "# plt.semilogy(abs(J[actinds]))\n",
    "# plt.semilogy(abs(prb_ip_ramp.J.flatten())[actinds], '.')"
   ]
  },
  {
   "cell_type": "code",
   "execution_count": 54,
   "metadata": {},
   "outputs": [],
   "source": [
    "# plt.loglog(rx_ip_ramp.times, -data_ramp, 'k')\n",
    "# plt.loglog(rx_ip_ramp.times, data_ramp, '--k')\n",
    "# plt.loglog(rx_ip_ramp.times, -data_em_ramp, 'b-')\n",
    "# plt.loglog(rx_ip_ramp.times, ip_ramp, 'r-')\n",
    "# plt.plot(rx_ip_ramp.times, ip_ramp_approx, 'r.')"
   ]
  },
  {
   "cell_type": "code",
   "execution_count": 55,
   "metadata": {},
   "outputs": [
    {
     "data": {
      "text/plain": [
       "[<matplotlib.lines.Line2D at 0x120e8df90>]"
      ]
     },
     "execution_count": 55,
     "metadata": {},
     "output_type": "execute_result"
    },
    {
     "data": {
      "image/png": "[encoded data removed]",
      "text/plain": [
       "<matplotlib.figure.Figure at 0x12028afd0>"
      ]
     },
     "metadata": {},
     "output_type": "display_data"
    }
   ],
   "source": [
    "plt.loglog(rx_ip_ramp.times, -data, 'k')\n",
    "plt.loglog(rx_ip_ramp.times, data, '--k')\n",
    "# plt.loglog(rx_ip_ramp.times, -data_ramp, 'k')\n",
    "# plt.loglog(rx_ip_ramp.times, data_ramp, '--k')\n",
    "\n",
    "plt.loglog(rx_ip_ramp.times, -data_ramp_approx, 'bo')\n",
    "plt.loglog(rx_ip_ramp.times, data_ramp_approx, 'b.')"
   ]
  },
  {
   "cell_type": "code",
   "execution_count": null,
   "metadata": {
    "collapsed": true
   },
   "outputs": [],
   "source": []
  },
  {
   "cell_type": "code",
   "execution_count": null,
   "metadata": {
    "collapsed": true
   },
   "outputs": [],
   "source": []
  }
 ],
 "metadata": {
  "anaconda-cloud": {},
  "kernelspec": {
   "display_name": "Python [default]",
   "language": "python",
   "name": "python2"
  },
  "language_info": {
   "codemirror_mode": {
    "name": "ipython",
    "version": 2
   },
   "file_extension": ".py",
   "mimetype": "text/x-python",
   "name": "python",
   "nbconvert_exporter": "python",
   "pygments_lexer": "ipython2",
   "version": "2.7.13"
  }
 },
 "nbformat": 4,
 "nbformat_minor": 1
}
