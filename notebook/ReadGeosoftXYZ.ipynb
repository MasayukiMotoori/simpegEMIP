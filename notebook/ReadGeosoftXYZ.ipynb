{
 "cells": [
  {
   "cell_type": "code",
   "execution_count": 11,
   "metadata": {
    "collapsed": true
   },
   "outputs": [],
   "source": [
    "import pandas as pd\n",
    "import numpy as np\n",
    "\n",
    "def isfloat(value):\n",
    "  try:\n",
    "    float(value)\n",
    "    return True\n",
    "  except ValueError:\n",
    "    return False\n",
    "\n",
    "def readGeosoftXYZ(fname):\n",
    "    #TODO make this as pandas\n",
    "    f = open(fname, 'r')\n",
    "    data = f.readlines()\n",
    "    temp = data[0].split()\n",
    "    comments = temp[0]\n",
    "    datalist = []\n",
    "    icount = 0\n",
    "    LineIdentifer = \"%Line\"\n",
    "    header = data[5].split()\n",
    "    for iline, line in enumerate(data[7:]):\n",
    "        linelist = line.split()    \n",
    "        if not (linelist==[] or '%/' in linelist):        \n",
    "            datalist.append(linelist)\n",
    "            icount+=1\n",
    "    DAT = []\n",
    "    Line=[]\n",
    "    for idat, dat in enumerate (datalist):\n",
    "        if LineIdentifer in dat:\n",
    "            line = dat[1]\n",
    "        elif isfloat(dat[0]):\n",
    "            Line.append(int(line))\n",
    "            DAT.append(np.array(map(float, dat))) \n",
    "    ndata = len(DAT)\n",
    "    DAT = np.vstack(DAT)\n",
    "    Line = np.array(Line)\n",
    "    return {\"DAT\":DAT, \"Line\":Line, \"header\":header, \"ndata\":ndata}"
   ]
  },
  {
   "cell_type": "code",
   "execution_count": 12,
   "metadata": {
    "collapsed": true
   },
   "outputs": [],
   "source": [
    "def save_dict_to_hdf5(fname, dictionary):\n",
    "    \"\"\"\n",
    "    Save a dictionary to hdf5\n",
    "    \"\"\"\n",
    "    f = h5py.File(fname, \"w\")\n",
    "    for key in dictionary.keys():\n",
    "        dset = f.create_dataset(key, data=dictionary[key])\n",
    "    f.close()"
   ]
  },
  {
   "cell_type": "code",
   "execution_count": 13,
   "metadata": {
    "collapsed": true
   },
   "outputs": [],
   "source": [
    "directory = \"/Users/sgkang/Dropbox/Shared/SeogiDikun/Milligan/Data/\"\n",
    "fname = directory + \"milligan_raw.XYZ\""
   ]
  },
  {
   "cell_type": "code",
   "execution_count": 14,
   "metadata": {
    "collapsed": true
   },
   "outputs": [],
   "source": [
    "import cPickle as pickle"
   ]
  },
  {
   "cell_type": "code",
   "execution_count": 22,
   "metadata": {
    "collapsed": true
   },
   "outputs": [],
   "source": [
    "out = readGeosoftXYZ(fname)\n",
    "wave = np.loadtxt('/Users/sgkang/Dropbox/Shared/SeogiDikun/Milligan/Data/7042_106_wform.xyz', skiprows=7)\n",
    "time = np.r_[99,120,141,167,198,234,281,339,406,484,573,682,818,974,1151,1370,1641,1953,2307,2745,3286,3911,4620,5495,6578,7828,9245] * 1e-6\n",
    "out[\"time\"] = time\n",
    "out[\"wave\"] = np.load(\"wave_milligan.npy\")"
   ]
  },
  {
   "cell_type": "code",
   "execution_count": 23,
   "metadata": {
    "collapsed": true
   },
   "outputs": [],
   "source": [
    "lines = np.unique(out['Line'])\n",
    "xyz = out['DAT'][:,:3]"
   ]
  },
  {
   "cell_type": "code",
   "execution_count": 24,
   "metadata": {
    "collapsed": true
   },
   "outputs": [],
   "source": [
    "directory_phd = \"/Users/sgkang/Dropbox/PhD/field_data/\""
   ]
  },
  {
   "cell_type": "code",
   "execution_count": 25,
   "metadata": {
    "collapsed": true
   },
   "outputs": [],
   "source": [
    "import h5py\n",
    "import os"
   ]
  },
  {
   "cell_type": "code",
   "execution_count": 26,
   "metadata": {
    "collapsed": true
   },
   "outputs": [],
   "source": [
    "save_dict_to_hdf5(\n",
    "    os.path.sep.join([directory_phd, \"milligan_vtem.hdf5\"]), out\n",
    ")"
   ]
  },
  {
   "cell_type": "code",
   "execution_count": 21,
   "metadata": {},
   "outputs": [
    {
     "data": {
      "text/plain": [
       "array([  0.00000000e+00,   1.00000000e-05,   2.00000000e-05, ...,\n",
       "         1.55800000e-02,   1.55900000e-02,   1.56000000e-02])"
      ]
     },
     "execution_count": 21,
     "metadata": {},
     "output_type": "execute_result"
    }
   ],
   "source": []
  },
  {
   "cell_type": "code",
   "execution_count": 10,
   "metadata": {
    "collapsed": true
   },
   "outputs": [],
   "source": [
    "pickle.dump( out, open(directory+\"milligan.p\", \"wb\"))\n",
    "# np.save('milligan', out)"
   ]
  },
  {
   "cell_type": "code",
   "execution_count": 29,
   "metadata": {},
   "outputs": [
    {
     "data": {
      "text/plain": [
       "{'DAT': array([[  4.35649800e+05,   6.11019950e+06,   1.06920000e+03, ...,\n",
       "           0.00000000e+00,   0.00000000e+00,   0.00000000e+00],\n",
       "        [  4.35647800e+05,   6.11019950e+06,   1.06920000e+03, ...,\n",
       "           0.00000000e+00,   0.00000000e+00,   0.00000000e+00],\n",
       "        [  4.35645800e+05,   6.11019940e+06,   1.06920000e+03, ...,\n",
       "           0.00000000e+00,   0.00000000e+00,   0.00000000e+00],\n",
       "        ..., \n",
       "        [  4.32957800e+05,   6.10800250e+06,   1.37870000e+03, ...,\n",
       "           0.00000000e+00,   0.00000000e+00,   0.00000000e+00],\n",
       "        [  4.32954300e+05,   6.10800260e+06,   1.37830000e+03, ...,\n",
       "           0.00000000e+00,   0.00000000e+00,   0.00000000e+00],\n",
       "        [  4.32950800e+05,   6.10800270e+06,   1.37790000e+03, ...,\n",
       "           0.00000000e+00,   0.00000000e+00,   0.00000000e+00]]),\n",
       " 'Line': array([ 500,  500,  500, ..., 1325, 1325, 1325]),\n",
       " 'header': ['x',\n",
       "  'y',\n",
       "  'DEM',\n",
       "  'radar',\n",
       "  'Sf[0]',\n",
       "  'Sf[1]',\n",
       "  'Sf[2]',\n",
       "  'Sf[3]',\n",
       "  'Sf[4]',\n",
       "  'Sf[5]',\n",
       "  'Sf[6]',\n",
       "  'Sf[7]',\n",
       "  'Sf[8]',\n",
       "  'Sf[9]',\n",
       "  'Sf[10]',\n",
       "  'Sf[11]',\n",
       "  'Sf[12]',\n",
       "  'Sf[13]',\n",
       "  'Sf[14]',\n",
       "  'Sf[15]',\n",
       "  'Sf[16]',\n",
       "  'Sf[17]',\n",
       "  'Sf[18]',\n",
       "  'Sf[19]',\n",
       "  'Sf[20]',\n",
       "  'Sf[21]',\n",
       "  'Sf[22]',\n",
       "  'Sf[23]',\n",
       "  'Sf[24]',\n",
       "  'Sf[25]',\n",
       "  'Sf[26]',\n",
       "  'Sf[27]',\n",
       "  'Sf[28]',\n",
       "  'Sf[29]',\n",
       "  'Sf[30]',\n",
       "  'Sf[31]',\n",
       "  'Sf[32]',\n",
       "  'Sf[33]',\n",
       "  'Sf[34]',\n",
       "  'Sf[35]',\n",
       "  'Sf[36]',\n",
       "  'Sf[37]',\n",
       "  'Sf[38]',\n",
       "  'Sf[39]'],\n",
       " 'ndata': 14760,\n",
       " 'time': array([  9.90000000e-05,   1.20000000e-04,   1.41000000e-04,\n",
       "          1.67000000e-04,   1.98000000e-04,   2.34000000e-04,\n",
       "          2.81000000e-04,   3.39000000e-04,   4.06000000e-04,\n",
       "          4.84000000e-04,   5.73000000e-04,   6.82000000e-04,\n",
       "          8.18000000e-04,   9.74000000e-04,   1.15100000e-03,\n",
       "          1.37000000e-03,   1.64100000e-03,   1.95300000e-03,\n",
       "          2.30700000e-03,   2.74500000e-03,   3.28600000e-03,\n",
       "          3.91100000e-03,   4.62000000e-03,   5.49500000e-03,\n",
       "          6.57800000e-03,   7.82800000e-03,   9.24500000e-03]),\n",
       " 'wave': array([  3.92794000e+00,   3.94411000e+00,   3.95981000e+00, ...,\n",
       "          2.34000000e-03,   2.25000000e-03,   2.36000000e-03])}"
      ]
     },
     "execution_count": 29,
     "metadata": {},
     "output_type": "execute_result"
    }
   ],
   "source": [
    "out"
   ]
  },
  {
   "cell_type": "code",
   "execution_count": 7,
   "metadata": {},
   "outputs": [
    {
     "name": "stdout",
     "output_type": "stream",
     "text": [
      "Populating the interactive namespace from numpy and matplotlib\n"
     ]
    }
   ],
   "source": [
    "%pylab inline"
   ]
  },
  {
   "cell_type": "code",
   "execution_count": 8,
   "metadata": {
    "collapsed": true
   },
   "outputs": [],
   "source": [
    "# iline = 4\n",
    "# timeind = 13+1\n",
    "# indline = out['Line'] == lines[iline]\n",
    "# # plt.plot(out['DAT'][:,0], out['DAT'][:,1], 'r.', ms = 1)\n",
    "# # plt.plot(out['DAT'][indline,0], out['DAT'][indline,1], 'k.')\n",
    "# plt.scatter(xyz[:,0], xyz[:,1], s=20, c=out['DAT'][:,timeind], cmap='jet',edgecolor=\"None\")\n",
    "# # mesh.plotImage(temp_obs)"
   ]
  },
  {
   "cell_type": "code",
   "execution_count": 9,
   "metadata": {
    "collapsed": true
   },
   "outputs": [],
   "source": [
    "from SimPEG import Mesh"
   ]
  },
  {
   "cell_type": "code",
   "execution_count": 12,
   "metadata": {
    "collapsed": true
   },
   "outputs": [],
   "source": [
    "xmin, xmax = xyz[:,0].min(), xyz[:,0].max()\n",
    "ymin, ymax = xyz[:,1].min(), xyz[:,1].max()\n",
    "nx = 100\n",
    "ny = 100\n",
    "dx = (xmax-xmin)/(nx-1)\n",
    "dy = (ymax-ymin)/(ny-1)\n",
    "hx = np.ones(nx)*dx\n",
    "hy = np.ones(ny)*dy\n",
    "mesh = Mesh.TensorMesh([hx,hy], x0=[xmin-dx/2, ymin-dy/2])"
   ]
  },
  {
   "cell_type": "code",
   "execution_count": 13,
   "metadata": {
    "collapsed": true
   },
   "outputs": [],
   "source": [
    "import scipy.interpolate as interpolation"
   ]
  },
  {
   "cell_type": "code",
   "execution_count": 14,
   "metadata": {
    "collapsed": true
   },
   "outputs": [],
   "source": [
    "def closestpoint(xy, pts):    \n",
    "    ind = np.argmin( (xy[:,0]-pts[0])**2+(xy[:,1]-pts[1])**2 )\n",
    "    return ind"
   ]
  },
  {
   "cell_type": "code",
   "execution_count": 15,
   "metadata": {
    "collapsed": true
   },
   "outputs": [],
   "source": [
    "# time_vtem_mus[11]"
   ]
  },
  {
   "cell_type": "code",
   "execution_count": 16,
   "metadata": {
    "collapsed": true
   },
   "outputs": [],
   "source": [
    "import sys\n",
    "sys.path.append(\"./DoubleLog/\")\n",
    "from plotting import mapDat"
   ]
  },
  {
   "cell_type": "code",
   "execution_count": 45,
   "metadata": {},
   "outputs": [
    {
     "data": {
      "application/vnd.jupyter.widget-view+json": {
       "model_id": "9bc977e226be46ca94b41600a8386c27"
      }
     },
     "metadata": {},
     "output_type": "display_data"
    },
    {
     "data": {
      "text/plain": [
       "<function __main__.vizAEMdata>"
      ]
     },
     "execution_count": 45,
     "metadata": {},
     "output_type": "execute_result"
    }
   ],
   "source": [
    "from ipywidgets import interact, ToggleButtons, FloatText\n",
    "time_dikun = np.r_[4.6340000e-03,4.7390000e-03,4.8840000e-03,5.0820000e-03,5.3740000e-03,5.7700000e-03,6.3530000e-03,7.1450000e-03]-4.4000000e-03\n",
    "time_dikun*1e6\n",
    "time_vtem_mus = np.r_[99,120,141,167,198,234,281,339,406,484,573,682,818,974,1151,1370,1641,1953,2307,2745,3286,3911,4620,5495,6578,7828,9245]\n",
    "txind = closestpoint(xyz[:,:2], np.r_[434000, 6.107e6+2000.])\n",
    "def vizAEMdata(tind=0, iline=0,option=\"profile\",easting=0.):\n",
    "    indline = out['Line'] == lines[iline]\n",
    "    timeind = 13+tind\n",
    "    temp_obsint = interpolation.LinearNDInterpolator(xyz[:,:2], out['DAT'][:,timeind])\n",
    "    temp_obs = temp_obsint(mesh.gridCC)\n",
    "    temp_obsint = interpolation.NearestNDInterpolator(mesh.gridCC[~np.isnan(temp_obs),:], temp_obs[~np.isnan(temp_obs)])\n",
    "    temp_obs = temp_obsint(mesh.gridCC)\n",
    "    vmin, vmax = np.log10(temp_obs[temp_obs>0.].min()), np.log10(temp_obs[temp_obs>0.].max())\n",
    "    fig = plt.figure(figsize=(14*0.8,5.2*0.8))\n",
    "    ax = plt.subplot(121)\n",
    "    dat = mesh.plotImage(np.log10(temp_obs), clim=(vmin, vmax),ax=ax)\n",
    "    ax.plot(out['DAT'][indline,0], out['DAT'][indline,1], 'k.', ms=0.5)\n",
    "    ax.plot(out['DAT'][:,0], out['DAT'][:,1], 'k.', ms=0.1, alpha = 0.5)\n",
    "    # plt.scatter(xyz[:,0], xyz[:,1], s=3, c=np.log10(out['DAT'][:,timeind]), cmap='jet',edgecolor=\"None\", clim=(vmin, vmax))\n",
    "    ax.axis(\"equal\")\n",
    "    ax.set_xlim(xyz[:,0].min(), xyz[:,0].max())\n",
    "    ax.set_ylim(xyz[:,1].min(), xyz[:,1].max())\n",
    "    ax.set_xlabel(\"Easting (m)\")\n",
    "    ax.set_ylabel(\"Northing (m)\")\n",
    "    plt.colorbar(dat[0], ax=ax)\n",
    "    test, ticks, ticklabels = mapDat(out['DAT'][indline,13:], 1e-3, stretch=3)\n",
    "   \n",
    "    ax1 = plt.subplot(122)\n",
    "    if option==\"lineprofile\":\n",
    "        for i in range(27):\n",
    "            ax1.plot(out['DAT'][indline,0], test[:,i], 'k')\n",
    "        ax1.plot(out['DAT'][indline,0], test[:,tind], 'r', lw=2)            \n",
    "        ax1.set_xlim(out['DAT'][indline,0].min(), out['DAT'][indline,0].max())\n",
    "        ax1.set_ylim(ticks.min(), ticks.max())\n",
    "        ax1.set_yticks(ticks)\n",
    "        ax1.set_xlabel(\"Easting (m)\")\n",
    "        ax1.set_yticklabels(ticklabels)    \n",
    "    elif option==\"timedecay\":\n",
    "        indeast = np.argmin(abs(out['DAT'][indline,0]-easting))\n",
    "        sounding, ticks_sounding, ticklabelsounding = mapDat(out['DAT'][indline,13:13+27][indeast,:], 1e-3, stretch=3)\n",
    "        ax.plot(out['DAT'][indline,0][indeast], out['DAT'][indline,1][indeast], 'ro', ms=5)\n",
    "        ax1.semilogx(time_vtem_mus, sounding, 'k.-', lw=2)\n",
    "        ax1.semilogx(time_vtem_mus, np.zeros_like(time_vtem_mus), 'k--')\n",
    "        ax1.set_yticks(ticks_sounding)\n",
    "        ax1.set_yticklabels(ticklabelsounding)\n",
    "        ax1.set_xlim(time_vtem_mus.min(), time_vtem_mus.max())\n",
    "        ax1.grid(True)        \n",
    "    plt.tight_layout()\n",
    "    plt.show()\n",
    "interact(vizAEMdata, tind=(0,26,1), \n",
    "         iline=(0,lines.size,1), \n",
    "         option=ToggleButtons(options=['lineprofile','timedecay']),\n",
    "         easting=FloatText(value=434500.))    "
   ]
  },
  {
   "cell_type": "code",
   "execution_count": 44,
   "metadata": {
    "collapsed": true
   },
   "outputs": [],
   "source": [
    "import matplotlib\n",
    "matplotlib.rcParams['text.usetex']=True"
   ]
  },
  {
   "cell_type": "code",
   "execution_count": 28,
   "metadata": {},
   "outputs": [
    {
     "ename": "TypeError",
     "evalue": "'instancemethod' object has no attribute '__getitem__'",
     "output_type": "error",
     "traceback": [
      "\u001b[0;31m---------------------------------------------------------------------------\u001b[0m",
      "\u001b[0;31mTypeError\u001b[0m                                 Traceback (most recent call last)",
      "\u001b[0;32m<ipython-input-28-5240a8d4dc2e>\u001b[0m in \u001b[0;36m<module>\u001b[0;34m()\u001b[0m\n\u001b[1;32m      4\u001b[0m \u001b[0max\u001b[0m \u001b[0;34m=\u001b[0m \u001b[0mplt\u001b[0m\u001b[0;34m.\u001b[0m\u001b[0msubplot\u001b[0m\u001b[0;34m(\u001b[0m\u001b[0;36m111\u001b[0m\u001b[0;34m)\u001b[0m\u001b[0;34m\u001b[0m\u001b[0m\n\u001b[1;32m      5\u001b[0m \u001b[0;32mfor\u001b[0m \u001b[0mi\u001b[0m \u001b[0;32min\u001b[0m \u001b[0mrange\u001b[0m\u001b[0;34m(\u001b[0m\u001b[0;36m27\u001b[0m\u001b[0;34m)\u001b[0m\u001b[0;34m:\u001b[0m\u001b[0;34m\u001b[0m\u001b[0m\n\u001b[0;32m----> 6\u001b[0;31m     \u001b[0max\u001b[0m\u001b[0;34m.\u001b[0m\u001b[0mplot\u001b[0m\u001b[0;34m(\u001b[0m\u001b[0mout\u001b[0m\u001b[0;34m[\u001b[0m\u001b[0;34m'DAT'\u001b[0m\u001b[0;34m]\u001b[0m\u001b[0;34m[\u001b[0m\u001b[0mindline\u001b[0m\u001b[0;34m,\u001b[0m\u001b[0;36m0\u001b[0m\u001b[0;34m]\u001b[0m\u001b[0;34m,\u001b[0m \u001b[0mtest\u001b[0m\u001b[0;34m[\u001b[0m\u001b[0;34m:\u001b[0m\u001b[0;34m,\u001b[0m\u001b[0mi\u001b[0m\u001b[0;34m]\u001b[0m\u001b[0;34m,\u001b[0m \u001b[0;34m'k'\u001b[0m\u001b[0;34m)\u001b[0m\u001b[0;34m\u001b[0m\u001b[0m\n\u001b[0m\u001b[1;32m      7\u001b[0m \u001b[0max\u001b[0m\u001b[0;34m.\u001b[0m\u001b[0mset_xlim\u001b[0m\u001b[0;34m(\u001b[0m\u001b[0mout\u001b[0m\u001b[0;34m[\u001b[0m\u001b[0;34m'DAT'\u001b[0m\u001b[0;34m]\u001b[0m\u001b[0;34m[\u001b[0m\u001b[0mindline\u001b[0m\u001b[0;34m,\u001b[0m\u001b[0;36m0\u001b[0m\u001b[0;34m]\u001b[0m\u001b[0;34m.\u001b[0m\u001b[0mmin\u001b[0m\u001b[0;34m(\u001b[0m\u001b[0;34m)\u001b[0m\u001b[0;34m,\u001b[0m \u001b[0mout\u001b[0m\u001b[0;34m[\u001b[0m\u001b[0;34m'DAT'\u001b[0m\u001b[0;34m]\u001b[0m\u001b[0;34m[\u001b[0m\u001b[0mindline\u001b[0m\u001b[0;34m,\u001b[0m\u001b[0;36m0\u001b[0m\u001b[0;34m]\u001b[0m\u001b[0;34m.\u001b[0m\u001b[0mmax\u001b[0m\u001b[0;34m(\u001b[0m\u001b[0;34m)\u001b[0m\u001b[0;34m)\u001b[0m\u001b[0;34m\u001b[0m\u001b[0m\n\u001b[1;32m      8\u001b[0m \u001b[0max\u001b[0m\u001b[0;34m.\u001b[0m\u001b[0mset_ylim\u001b[0m\u001b[0;34m(\u001b[0m\u001b[0mticks\u001b[0m\u001b[0;34m.\u001b[0m\u001b[0mmin\u001b[0m\u001b[0;34m(\u001b[0m\u001b[0;34m)\u001b[0m\u001b[0;34m,\u001b[0m \u001b[0mticks\u001b[0m\u001b[0;34m.\u001b[0m\u001b[0mmax\u001b[0m\u001b[0;34m(\u001b[0m\u001b[0;34m)\u001b[0m\u001b[0;34m)\u001b[0m\u001b[0;34m\u001b[0m\u001b[0m\n",
      "\u001b[0;31mTypeError\u001b[0m: 'instancemethod' object has no attribute '__getitem__'"
     ]
    },
    {
     "data": {
      "image/png": "[encoded data removed]",
      "text/plain": [
       "<matplotlib.figure.Figure at 0x120cd32d0>"
      ]
     },
     "metadata": {},
     "output_type": "display_data"
    }
   ],
   "source": [
    "iline = 0\n",
    "indline = out['Line'] == lines[iline]\n",
    "fig = plt.figure(figsize=(8,3))\n",
    "ax = plt.subplot(111)\n",
    "for i in range(27):\n",
    "    ax.plot(out['DAT'][indline,0], test[:,i], 'k')\n",
    "ax.set_xlim(out['DAT'][indline,0].min(), out['DAT'][indline,0].max())\n",
    "ax.set_ylim(ticks.min(), ticks.max())\n",
    "ax.set_yticks(ticks)\n",
    "ax.set_xlabel(\"Easting (m)\")\n",
    "ax.set_yticklabels(ticklabels)"
   ]
  },
  {
   "cell_type": "code",
   "execution_count": null,
   "metadata": {
    "collapsed": true
   },
   "outputs": [],
   "source": [
    "time_dikun = np.r_[4.6340000e-03,4.7390000e-03,4.8840000e-03,5.0820000e-03,5.3740000e-03,5.7700000e-03,6.3530000e-03,7.1450000e-03]-4.4000000e-03"
   ]
  },
  {
   "cell_type": "code",
   "execution_count": 44,
   "metadata": {},
   "outputs": [
    {
     "data": {
      "text/plain": [
       "array([ 0.000234,  0.000339,  0.000484,  0.000682,  0.000974,  0.00137 ,\n",
       "        0.001953,  0.002745])"
      ]
     },
     "execution_count": 44,
     "metadata": {},
     "output_type": "execute_result"
    }
   ],
   "source": [
    "time_dikun"
   ]
  },
  {
   "cell_type": "code",
   "execution_count": 45,
   "metadata": {
    "collapsed": true
   },
   "outputs": [],
   "source": [
    "time_dikun*1e6\n",
    "time_vtem_mus = np.r_[99,120,141,167,198,234,281,339,406,484,573,682,818,974,1151,1370,1641,1953,2307,2745,3286,3911,4620,5495,6578,7828,9245]"
   ]
  },
  {
   "cell_type": "code",
   "execution_count": 46,
   "metadata": {
    "collapsed": true
   },
   "outputs": [],
   "source": [
    "np.save('./exampledata/timevtem', time_vtem_mus*1e-6)\n",
    "np.save('./exampledata/souding_cond', out['DAT'][txind,13:13+27])"
   ]
  },
  {
   "cell_type": "code",
   "execution_count": 47,
   "metadata": {},
   "outputs": [
    {
     "data": {
      "image/png": "[encoded data removed]",
      "text/plain": [
       "<matplotlib.figure.Figure at 0x10ddadc50>"
      ]
     },
     "metadata": {},
     "output_type": "display_data"
    }
   ],
   "source": [
    "fig = plt.figure(figsize=(5,4))\n",
    "ax = plt.subplot(111)\n",
    "ax.semilogx(time_vtem_mus, sounding, 'k.-', lw=2)\n",
    "ax.semilogx(time_vtem_mus, np.zeros_like(time_vtem_mus), 'k--')\n",
    "ax.set_yticks(ticks_sounding)\n",
    "ax.set_yticklabels(ticklabelsounding)\n",
    "ax.set_xlim(time_vtem_mus.min(), time_vtem_mus.max())\n",
    "ax.grid(True)"
   ]
  },
  {
   "cell_type": "code",
   "execution_count": 48,
   "metadata": {},
   "outputs": [
    {
     "data": {
      "image/png": "[encoded data removed]",
      "text/plain": [
       "<matplotlib.figure.Figure at 0x107aad710>"
      ]
     },
     "metadata": {},
     "output_type": "display_data"
    }
   ],
   "source": [
    "fig = plt.figure(figsize=(6,4))\n",
    "ax = plt.subplot(111)\n",
    "ax.semilogy(time_vtem_mus, np.exp(-time_vtem_mus*1e-6/0.01)/0.01, 'r-', lw=2)\n",
    "ax.set_xlim(time_vtem_mus.min(), time_vtem_mus.max())\n",
    "ax.set_xlabel(\"Time (micro-s)\", fontsize = 16)\n",
    "ax.set_ylabel(\"$db_z/dt (pV/A$-$m^4)$ \", fontsize = 16)\n",
    "ax.grid(True)"
   ]
  },
  {
   "cell_type": "code",
   "execution_count": 49,
   "metadata": {},
   "outputs": [
    {
     "data": {
      "image/png": "[encoded data removed]",
      "text/plain": [
       "<matplotlib.figure.Figure at 0x107d41b90>"
      ]
     },
     "metadata": {},
     "output_type": "display_data"
    }
   ],
   "source": [
    "fig = plt.figure(figsize=(6,4))\n",
    "ax = plt.subplot(111)\n",
    "ax.semilogy(time_vtem_mus, np.exp(-time_vtem_mus*1e-6/0.01)/0.01, 'r-', lw=2)\n",
    "ax.semilogy(time_vtem_mus, np.exp(-time_vtem_mus*1e-6/0.001)/0.001, 'b-', lw=2)\n",
    "ax.set_xlim(time_vtem_mus.min(), time_vtem_mus.max())\n",
    "ax.set_xlabel(\"Time (micro-s)\", fontsize = 16)\n",
    "ax.set_ylabel(\"$db_z/dt (pV/A$-$m^4)$ \", fontsize = 16)\n",
    "ax.grid(True)"
   ]
  },
  {
   "cell_type": "code",
   "execution_count": 50,
   "metadata": {
    "collapsed": true
   },
   "outputs": [],
   "source": [
    "# import multiprocessing as mp\n",
    "# import random\n",
    "# import string\n",
    "\n",
    "# # Define an output queue\n",
    "# output = mp.Queue()\n",
    "\n",
    "# # define a example function\n",
    "# def rand_string(length, output):\n",
    "#     \"\"\" Generates a random string of numbers, lower- and uppercase chars. \"\"\"\n",
    "#     rand_str = ''.join(random.choice(\n",
    "#                     string.ascii_lowercase\n",
    "#                     + string.ascii_uppercase\n",
    "#                     + string.digits)\n",
    "#                for i in range(length))\n",
    "#     output.put(rand_str)\n",
    "\n",
    "# # Setup a list of processes that we want to run\n",
    "# processes = [mp.Process(target=rand_string, args=(5, output)) for x in range(4)]\n",
    "\n",
    "# # Run processes\n",
    "# for p in processes:\n",
    "#     p.start()\n",
    "\n",
    "# # Exit the completed processes\n",
    "# for p in processes:\n",
    "#     p.join()\n",
    "\n",
    "# # Get process results from the output queue\n",
    "# results = [output.get() for p in processes]\n",
    "\n",
    "# print(results)\n"
   ]
  },
  {
   "cell_type": "code",
   "execution_count": null,
   "metadata": {
    "collapsed": true
   },
   "outputs": [],
   "source": []
  }
 ],
 "metadata": {
  "anaconda-cloud": {},
  "kernelspec": {
   "display_name": "Python [default]",
   "language": "python",
   "name": "python2"
  },
  "language_info": {
   "codemirror_mode": {
    "name": "ipython",
    "version": 2
   },
   "file_extension": ".py",
   "mimetype": "text/x-python",
   "name": "python",
   "nbconvert_exporter": "python",
   "pygments_lexer": "ipython2",
   "version": "2.7.13"
  },
  "widgets": {
   "state": {
    "607960d7bccc4e39adef541e70590b7b": {
     "views": [
      {
       "cell_index": 14
      }
     ]
    }
   },
   "version": "1.2.0"
  }
 },
 "nbformat": 4,
 "nbformat_minor": 1
}
